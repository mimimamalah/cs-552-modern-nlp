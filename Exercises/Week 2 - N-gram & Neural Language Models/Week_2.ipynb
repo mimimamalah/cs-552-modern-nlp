{
  "cells": [
    {
      "cell_type": "markdown",
      "id": "3275ace2",
      "metadata": {
        "id": "3275ace2"
      },
      "source": [
        "# 📚  Exercise Session - Week 2\n",
        "\n",
        "Welcome to Week 2 exercise's session of CS552-Modern NLP!\n",
        "\n",
        "\n",
        "> **What will be covered:**\n",
        "1. [**TASK A:** N-gram Language Models](#ngram_lm)\n",
        "    - [Unigram Language Model](#unigram_lm)\n",
        "    - [Bi-gram Language Model](#bigram_lm)\n",
        "    - [Tri-gram Language Model](#trigram_lm)\n",
        "     \n",
        "2. [**TASK B:** Neural Language Models](#neural_lm)\n",
        "    - [Fixed-Window Neural Language Model](#fixed_window_lm)\n",
        "    - [RNN-based Language Model](#rnn_lm)\n",
        "\n",
        "> **By the end of the session you will be able to:**\n",
        "> - ✅  Compute and interpret the perplexity of a language model\n",
        "> - ✅  Implement N-gram language models for N=1,2,3\n",
        "> - ✅  Implement, train, and evaluate a fixed window language model\n",
        "> - ✅  Evaluate an RNN language model\n",
        "> - ✅  Understand the advantages and disadvantages of each of the above models"
      ]
    },
    {
      "cell_type": "code",
      "execution_count": 1,
      "id": "98eb6b6c",
      "metadata": {
        "colab": {
          "base_uri": "https://localhost:8080/"
        },
        "id": "98eb6b6c",
        "outputId": "1802e510-7841-48f2-8f20-45d61b63c639"
      },
      "outputs": [
        {
          "output_type": "stream",
          "name": "stdout",
          "text": [
            "Requirement already satisfied: torch in /usr/local/lib/python3.10/dist-packages (from -r requirements.txt (line 1)) (2.1.0+cu121)\n",
            "Requirement already satisfied: numpy in /usr/local/lib/python3.10/dist-packages (from -r requirements.txt (line 2)) (1.25.2)\n",
            "Collecting datasets (from -r requirements.txt (line 3))\n",
            "  Downloading datasets-2.18.0-py3-none-any.whl (510 kB)\n",
            "\u001b[2K     \u001b[90m━━━━━━━━━━━━━━━━━━━━━━━━━━━━━━━━━━━━━━━━\u001b[0m \u001b[32m510.5/510.5 kB\u001b[0m \u001b[31m4.1 MB/s\u001b[0m eta \u001b[36m0:00:00\u001b[0m\n",
            "\u001b[?25hRequirement already satisfied: filelock in /usr/local/lib/python3.10/dist-packages (from torch->-r requirements.txt (line 1)) (3.13.1)\n",
            "Requirement already satisfied: typing-extensions in /usr/local/lib/python3.10/dist-packages (from torch->-r requirements.txt (line 1)) (4.10.0)\n",
            "Requirement already satisfied: sympy in /usr/local/lib/python3.10/dist-packages (from torch->-r requirements.txt (line 1)) (1.12)\n",
            "Requirement already satisfied: networkx in /usr/local/lib/python3.10/dist-packages (from torch->-r requirements.txt (line 1)) (3.2.1)\n",
            "Requirement already satisfied: jinja2 in /usr/local/lib/python3.10/dist-packages (from torch->-r requirements.txt (line 1)) (3.1.3)\n",
            "Requirement already satisfied: fsspec in /usr/local/lib/python3.10/dist-packages (from torch->-r requirements.txt (line 1)) (2023.6.0)\n",
            "Requirement already satisfied: triton==2.1.0 in /usr/local/lib/python3.10/dist-packages (from torch->-r requirements.txt (line 1)) (2.1.0)\n",
            "Requirement already satisfied: pyarrow>=12.0.0 in /usr/local/lib/python3.10/dist-packages (from datasets->-r requirements.txt (line 3)) (14.0.2)\n",
            "Requirement already satisfied: pyarrow-hotfix in /usr/local/lib/python3.10/dist-packages (from datasets->-r requirements.txt (line 3)) (0.6)\n",
            "Collecting dill<0.3.9,>=0.3.0 (from datasets->-r requirements.txt (line 3))\n",
            "  Downloading dill-0.3.8-py3-none-any.whl (116 kB)\n",
            "\u001b[2K     \u001b[90m━━━━━━━━━━━━━━━━━━━━━━━━━━━━━━━━━━━━━━━━\u001b[0m \u001b[32m116.3/116.3 kB\u001b[0m \u001b[31m14.8 MB/s\u001b[0m eta \u001b[36m0:00:00\u001b[0m\n",
            "\u001b[?25hRequirement already satisfied: pandas in /usr/local/lib/python3.10/dist-packages (from datasets->-r requirements.txt (line 3)) (1.5.3)\n",
            "Requirement already satisfied: requests>=2.19.0 in /usr/local/lib/python3.10/dist-packages (from datasets->-r requirements.txt (line 3)) (2.31.0)\n",
            "Requirement already satisfied: tqdm>=4.62.1 in /usr/local/lib/python3.10/dist-packages (from datasets->-r requirements.txt (line 3)) (4.66.2)\n",
            "Requirement already satisfied: xxhash in /usr/local/lib/python3.10/dist-packages (from datasets->-r requirements.txt (line 3)) (3.4.1)\n",
            "Collecting multiprocess (from datasets->-r requirements.txt (line 3))\n",
            "  Downloading multiprocess-0.70.16-py310-none-any.whl (134 kB)\n",
            "\u001b[2K     \u001b[90m━━━━━━━━━━━━━━━━━━━━━━━━━━━━━━━━━━━━━━━━\u001b[0m \u001b[32m134.8/134.8 kB\u001b[0m \u001b[31m18.6 MB/s\u001b[0m eta \u001b[36m0:00:00\u001b[0m\n",
            "\u001b[?25hRequirement already satisfied: aiohttp in /usr/local/lib/python3.10/dist-packages (from datasets->-r requirements.txt (line 3)) (3.9.3)\n",
            "Requirement already satisfied: huggingface-hub>=0.19.4 in /usr/local/lib/python3.10/dist-packages (from datasets->-r requirements.txt (line 3)) (0.20.3)\n",
            "Requirement already satisfied: packaging in /usr/local/lib/python3.10/dist-packages (from datasets->-r requirements.txt (line 3)) (23.2)\n",
            "Requirement already satisfied: pyyaml>=5.1 in /usr/local/lib/python3.10/dist-packages (from datasets->-r requirements.txt (line 3)) (6.0.1)\n",
            "Requirement already satisfied: aiosignal>=1.1.2 in /usr/local/lib/python3.10/dist-packages (from aiohttp->datasets->-r requirements.txt (line 3)) (1.3.1)\n",
            "Requirement already satisfied: attrs>=17.3.0 in /usr/local/lib/python3.10/dist-packages (from aiohttp->datasets->-r requirements.txt (line 3)) (23.2.0)\n",
            "Requirement already satisfied: frozenlist>=1.1.1 in /usr/local/lib/python3.10/dist-packages (from aiohttp->datasets->-r requirements.txt (line 3)) (1.4.1)\n",
            "Requirement already satisfied: multidict<7.0,>=4.5 in /usr/local/lib/python3.10/dist-packages (from aiohttp->datasets->-r requirements.txt (line 3)) (6.0.5)\n",
            "Requirement already satisfied: yarl<2.0,>=1.0 in /usr/local/lib/python3.10/dist-packages (from aiohttp->datasets->-r requirements.txt (line 3)) (1.9.4)\n",
            "Requirement already satisfied: async-timeout<5.0,>=4.0 in /usr/local/lib/python3.10/dist-packages (from aiohttp->datasets->-r requirements.txt (line 3)) (4.0.3)\n",
            "Requirement already satisfied: charset-normalizer<4,>=2 in /usr/local/lib/python3.10/dist-packages (from requests>=2.19.0->datasets->-r requirements.txt (line 3)) (3.3.2)\n",
            "Requirement already satisfied: idna<4,>=2.5 in /usr/local/lib/python3.10/dist-packages (from requests>=2.19.0->datasets->-r requirements.txt (line 3)) (3.6)\n",
            "Requirement already satisfied: urllib3<3,>=1.21.1 in /usr/local/lib/python3.10/dist-packages (from requests>=2.19.0->datasets->-r requirements.txt (line 3)) (2.0.7)\n",
            "Requirement already satisfied: certifi>=2017.4.17 in /usr/local/lib/python3.10/dist-packages (from requests>=2.19.0->datasets->-r requirements.txt (line 3)) (2024.2.2)\n",
            "Requirement already satisfied: MarkupSafe>=2.0 in /usr/local/lib/python3.10/dist-packages (from jinja2->torch->-r requirements.txt (line 1)) (2.1.5)\n",
            "Requirement already satisfied: python-dateutil>=2.8.1 in /usr/local/lib/python3.10/dist-packages (from pandas->datasets->-r requirements.txt (line 3)) (2.8.2)\n",
            "Requirement already satisfied: pytz>=2020.1 in /usr/local/lib/python3.10/dist-packages (from pandas->datasets->-r requirements.txt (line 3)) (2023.4)\n",
            "Requirement already satisfied: mpmath>=0.19 in /usr/local/lib/python3.10/dist-packages (from sympy->torch->-r requirements.txt (line 1)) (1.3.0)\n",
            "Requirement already satisfied: six>=1.5 in /usr/local/lib/python3.10/dist-packages (from python-dateutil>=2.8.1->pandas->datasets->-r requirements.txt (line 3)) (1.16.0)\n",
            "Installing collected packages: dill, multiprocess, datasets\n",
            "Successfully installed datasets-2.18.0 dill-0.3.8 multiprocess-0.70.16\n"
          ]
        }
      ],
      "source": [
        "# install the libraries if needed using the requirements.txt file\n",
        "!pip install -r requirements.txt"
      ]
    },
    {
      "cell_type": "markdown",
      "id": "272c0a7c",
      "metadata": {
        "id": "272c0a7c"
      },
      "source": [
        "<a name=\"ngram_lm\"></a>\n",
        "## 1. Task A: N-gram Language Models"
      ]
    },
    {
      "cell_type": "markdown",
      "id": "85c137c6",
      "metadata": {
        "id": "85c137c6"
      },
      "source": [
        "\n",
        "In this exercise, we will better understand the functioning of different types of (non-neural) language modeling, namely,  Unigram LM, Bi-gram LM, and Tri-gram LM."
      ]
    },
    {
      "cell_type": "markdown",
      "id": "066c0427",
      "metadata": {
        "id": "066c0427"
      },
      "source": [
        "### 1.1 Unigram Language Model <a name=\"unigram_lm\"></a>\n",
        "In the simple Unigram language model, we pick/generate next token independent of the previous token. In other words, during the generation, we pick the tokens according to the token probability. Therefore, for an arbitrary sequence $x_1x_2~...x_n$, its respective probability becomes:\n",
        "$$p(x_1x_2~...x_n) = \\Pi_{i=1} ^n p(x_i)$$\n",
        "Let's use an unsupervised dataset (raw corpus) to evaluate this model's perplexity. We use Huggingface's `datasets` library to download needed datasets.\n",
        "\n",
        "\n",
        "Here we use the `Penn Treebank` dataset, featuring a million words of 1989 Wall Street Journal material. The rare words in this version are already replaced with `<unk>` token. The numbers are also replaced with a special token. This token replacement helps us to end up with a more reasonable vocabulary size to work with.\n"
      ]
    },
    {
      "cell_type": "code",
      "execution_count": 2,
      "id": "69afb9de",
      "metadata": {
        "scrolled": true,
        "id": "69afb9de",
        "colab": {
          "base_uri": "https://localhost:8080/",
          "height": 331,
          "referenced_widgets": [
            "f2336f0865024640a10be5e4140debf6",
            "15f3d6b0ada64bd5bd8a30eee574c0f5",
            "4bd4db1c2d28499d8bda4909afa9ce48",
            "a6e530959aa442d68dbdf0cd88ebbe67",
            "bc57c01a9f3f402d97a6633a18303c85",
            "d332c534181d4dcabe065dbe915fe3aa",
            "5fcc8779e3f649d188d52e68f2255b8b",
            "1fff6228838142d98388b93fbe4670d4",
            "e818ece5fc4445c78ea7e953ed0e6805",
            "29a2388a3c22482482ca48bc85fda706",
            "52a9285bd5b346e2b0f710e01e933009",
            "3762944091ca46b89af73829060a0509",
            "91fa2b7127a84a67b63dce7eab9a59ab",
            "c0f2ab0165e94cd08eae68e520d593e7",
            "da734687bf6741409ea35a9071221007",
            "66f5f18b46924f2c879d1b8f63076347",
            "8962aed213734226a04eefcf5b48ba99",
            "a05a6875b16b4700abab9379e1dc1d53",
            "2e19d0eb32ef4ff59b2587764a12e273",
            "9a8d709b440c47e5b85392d9e05e3557",
            "205f2265f6cc48f2b3d5ff68d35f1789",
            "7fd3f931487c4e36b69c2c713427e3f0",
            "68c3851b95494a5fbdc22af2b9c6c0b6",
            "40c6cc5290fc4d589e19af04346867af",
            "cdcb5c7002cd43719f86dd33140714f0",
            "343f664966b6463e89279ffc6e5d5ecf",
            "a5327513554f4afc8c2a9880aa5808cd",
            "d68723fe342948d18b503143f0118825",
            "291cbb2ff9184f7b917de23f7592184b",
            "e1157b351b764d61a11282b23625d553",
            "70e0e5e936ed4c7cbd235351849710fd",
            "d4d7b333da2b4fe4960a923de94e101f",
            "101c169450d14a9a8ed125866a2ed55b",
            "1d888ec0bc74474a8a95cc7328d87ff0",
            "62a312c3734140f1986f00da3873f0e0",
            "984f61911d974a47833d7efedc0b353a",
            "29beaa1c202d4907a5fe058a28094760",
            "b2e90ee12c904346a920dae832c4776a",
            "d4aa9da5f27542b890a818457fe432c9",
            "e42ae6a6e06d49809105e7c13fbfad2b",
            "dd4ffe658ff244f69834d962436e3f66",
            "d8b5cbfaa1164cc4aecd343ec92129b6",
            "9b95743fde6d43828713262865c6165d",
            "4b0049084b9944ceac00ddd1bab7f3f6",
            "1f5f0b91687f48feaaae82b689d7a831",
            "31426bd9337c446cbaaf7417d2a91c95",
            "8de448552aa347f389370c7a0d55633a",
            "c74f13baee354798bac2bc255e62bac3",
            "0f10b40a99bf4b329a258e3e45e2df5c",
            "4becb6f10f87478fa69431f9a95e2c08",
            "421f679aa0f0441eb5abf8f1cecb55c4",
            "a5372440a9fd49cf88ba3b4cda1a6812",
            "0213a279266d4f3fbea5aeecbc71401a",
            "6116670467154b00ba040c3f0a6274f0",
            "bfabeddaf96e4156ba8232b8956ff06c",
            "035d91f9c81742c58aa6f1aa6214a1ae",
            "6fdd2a563ad348e3a580811fb96174e8",
            "2d5963edfa654f1fa642cc7d27e63030",
            "3de4dc7ea9004a70a162fdbbc4c480b9",
            "db111d113c3c4618863ba906b6de4edf",
            "0b4e0660709b49b28bcbf4ab7538fb96",
            "1a07fd0ef2094d94bc8686d90e9216b7",
            "6f7c60b41de4412b8802b1793b188a8d",
            "c9fe57bd355d4043ab1bcc314fe63cc4",
            "fba17060b60549398a64e26bd52f69ec",
            "1e9d9245b14d42b6b0b4e345c5a0fd52"
          ]
        },
        "outputId": "58990469-cc3c-4563-fd64-49c435327874"
      },
      "outputs": [
        {
          "output_type": "stream",
          "name": "stderr",
          "text": [
            "/usr/local/lib/python3.10/dist-packages/huggingface_hub/utils/_token.py:88: UserWarning: \n",
            "The secret `HF_TOKEN` does not exist in your Colab secrets.\n",
            "To authenticate with the Hugging Face Hub, create a token in your settings tab (https://huggingface.co/settings/tokens), set it as secret in your Google Colab and restart your session.\n",
            "You will be able to reuse this secret in all of your notebooks.\n",
            "Please note that authentication is recommended but still optional to access public models or datasets.\n",
            "  warnings.warn(\n"
          ]
        },
        {
          "output_type": "display_data",
          "data": {
            "text/plain": [
              "Downloading data:   0%|          | 0.00/2.96M [00:00<?, ?B/s]"
            ],
            "application/vnd.jupyter.widget-view+json": {
              "version_major": 2,
              "version_minor": 0,
              "model_id": "f2336f0865024640a10be5e4140debf6"
            }
          },
          "metadata": {}
        },
        {
          "output_type": "display_data",
          "data": {
            "text/plain": [
              "Downloading data:   0%|          | 0.00/262k [00:00<?, ?B/s]"
            ],
            "application/vnd.jupyter.widget-view+json": {
              "version_major": 2,
              "version_minor": 0,
              "model_id": "3762944091ca46b89af73829060a0509"
            }
          },
          "metadata": {}
        },
        {
          "output_type": "display_data",
          "data": {
            "text/plain": [
              "Downloading data:   0%|          | 0.00/236k [00:00<?, ?B/s]"
            ],
            "application/vnd.jupyter.widget-view+json": {
              "version_major": 2,
              "version_minor": 0,
              "model_id": "68c3851b95494a5fbdc22af2b9c6c0b6"
            }
          },
          "metadata": {}
        },
        {
          "output_type": "display_data",
          "data": {
            "text/plain": [
              "Generating train split:   0%|          | 0/42068 [00:00<?, ? examples/s]"
            ],
            "application/vnd.jupyter.widget-view+json": {
              "version_major": 2,
              "version_minor": 0,
              "model_id": "1d888ec0bc74474a8a95cc7328d87ff0"
            }
          },
          "metadata": {}
        },
        {
          "output_type": "display_data",
          "data": {
            "text/plain": [
              "Generating test split:   0%|          | 0/3761 [00:00<?, ? examples/s]"
            ],
            "application/vnd.jupyter.widget-view+json": {
              "version_major": 2,
              "version_minor": 0,
              "model_id": "1f5f0b91687f48feaaae82b689d7a831"
            }
          },
          "metadata": {}
        },
        {
          "output_type": "display_data",
          "data": {
            "text/plain": [
              "Generating validation split:   0%|          | 0/3370 [00:00<?, ? examples/s]"
            ],
            "application/vnd.jupyter.widget-view+json": {
              "version_major": 2,
              "version_minor": 0,
              "model_id": "035d91f9c81742c58aa6f1aa6214a1ae"
            }
          },
          "metadata": {}
        }
      ],
      "source": [
        "import torch\n",
        "import datasets\n",
        "import numpy as np\n",
        "from datasets import load_dataset\n",
        "\n",
        "ptb_dataset = load_dataset(\"ptb_text_only\", split=\"train\")\n",
        "\n",
        "# splitting dataset in train/test (to be later used for language model evaluation)\n",
        "ptb_dataset = ptb_dataset.train_test_split(test_size=0.2, seed=1)\n",
        "ptb_train, ptb_test = ptb_dataset['train'], ptb_dataset['test']"
      ]
    },
    {
      "cell_type": "markdown",
      "id": "20589cd0",
      "metadata": {
        "id": "20589cd0"
      },
      "source": [
        "#### Let's have a look at a few samples of the training dataset (and also the structure of the dataset)"
      ]
    },
    {
      "cell_type": "code",
      "execution_count": null,
      "id": "b6ceb684",
      "metadata": {
        "colab": {
          "base_uri": "https://localhost:8080/"
        },
        "id": "b6ceb684",
        "outputId": "2ebc3624-fdde-41d5-ac5e-3d52b12e48ae"
      },
      "outputs": [
        {
          "output_type": "stream",
          "name": "stdout",
          "text": [
            "{'sentence': \"a former executive agreed that the departures do n't reflect major problems adding if you see any company that grows as fast as reebok did it is going to have people coming and going\"}\n",
            "\n",
            "{'sentence': 'with talk today of a second economic <unk> in west germany east germany no longer can content itself with being the economic star in a loser league'}\n",
            "\n",
            "{'sentence': 'transportation secretary sam skinner who earlier fueled the anti-takeover fires with his <unk> attacks on foreign investment in u.s. carriers now says the bill would further <unk> the jittery capital markets'}\n"
          ]
        }
      ],
      "source": [
        "print(f\"{ptb_train[0]}\\n\\n{ptb_train[1]}\\n\\n{ptb_train[2]}\")"
      ]
    },
    {
      "cell_type": "markdown",
      "id": "07207b13",
      "metadata": {
        "id": "07207b13"
      },
      "source": [
        "During generation with a given language model, we often need to have a `<stop>` token in our vocabulary to terminate the generation of a given sentence/paragraph. In this dataset, every sample is a sentence, and the `<stop>` token should be added to the end of every sample (i.e., end of sentence).\n",
        "\n",
        "#### Create a new train/test dataset starting from `ptb_train` and `ptb_test` that has a `<stop>` at the end of each sentence. (Note: do not change the structure of the datasets objects, and just change the respective sentences as discussed).\n",
        "Hint: use the `.map()` functionality of the `datasets` package (read more [here](https://huggingface.co/docs/datasets/process#map]))."
      ]
    },
    {
      "cell_type": "code",
      "execution_count": null,
      "id": "aa1b7b70",
      "metadata": {
        "colab": {
          "base_uri": "https://localhost:8080/",
          "height": 81,
          "referenced_widgets": [
            "2fb5ddbd094c4b69947331bbf04c0e91",
            "1b9572ff0af64984b6cfc7c098a86674",
            "3d01bbba0e54401fa0896ba9b295e1f0",
            "d0163c36ace241a7950dea5c76776b55",
            "188586c277be412db943981efdfb7a81",
            "95cd460502ad4de6a2941da214f86b19",
            "71d67dc1e3c74f11aa7a1da31d2771db",
            "68dca1e6837049c39b5cb13407663df4",
            "3b07c60f599047c7aae79b2ae32b329d",
            "747baa22dc304385943dd0fbf1780dcf",
            "047101bb82254aea9034eb62eacea84b",
            "b58ae217affd492790c9e75bf1a922cf",
            "0a26048759904a4abd1e536f58775d82",
            "baf721c3096d404fbf27ad8c372ed667",
            "21237816ec7d474eb652c8fd8d38c9ed",
            "216b72531a3a404ab7a9d5211053ffa0",
            "5bbdda36daaa40e1b40311086188f1f9",
            "4429e62973864e6fb319ced65aea6d47",
            "bb9745f94b424a98be5bc7202f571ba5",
            "db2f05d2e399416f9ccff202a296435a",
            "c64dd8e69a2a4f2ba338b4a5bac917b7",
            "49807506d9b240d4a1ee0328f244cc50"
          ]
        },
        "id": "aa1b7b70",
        "outputId": "6b84125f-020f-455d-9f2c-b453910cf090"
      },
      "outputs": [
        {
          "output_type": "display_data",
          "data": {
            "text/plain": [
              "Map:   0%|          | 0/33654 [00:00<?, ? examples/s]"
            ],
            "application/vnd.jupyter.widget-view+json": {
              "version_major": 2,
              "version_minor": 0,
              "model_id": "2fb5ddbd094c4b69947331bbf04c0e91"
            }
          },
          "metadata": {}
        },
        {
          "output_type": "display_data",
          "data": {
            "text/plain": [
              "Map:   0%|          | 0/8414 [00:00<?, ? examples/s]"
            ],
            "application/vnd.jupyter.widget-view+json": {
              "version_major": 2,
              "version_minor": 0,
              "model_id": "b58ae217affd492790c9e75bf1a922cf"
            }
          },
          "metadata": {}
        }
      ],
      "source": [
        "def add_stop_token(input_sample: dict):\n",
        "    '''\n",
        "    args:\n",
        "        input_sample: a dict representing a sample of the dataset. (look above for the dict struture)\n",
        "    output:\n",
        "        modified_sample: modified dict adding <stop> at the end of each sentence.\n",
        "    '''\n",
        "    modified_sample = input_sample\n",
        "    modified_sample['sentence'] = f\"{modified_sample['sentence']} <stop>\"\n",
        "\n",
        "    return modified_sample\n",
        "\n",
        "\n",
        "ptb_train = ptb_train.map(add_stop_token)\n",
        "ptb_test = ptb_test.map(add_stop_token)"
      ]
    },
    {
      "cell_type": "markdown",
      "id": "2d338821",
      "metadata": {
        "id": "2d338821"
      },
      "source": [
        "For both `ptb_train` and `ptb_test` datasets, filter out every sample that has less than 3 tokens. it will help remove very short sentences that are not very helpful for training/evaluating a langugage model.\n",
        "\n",
        "Hint: use `.filter()` functionality of the `datasets` package (read more [here](https://huggingface.co/docs/datasets/process#select-and-filter))."
      ]
    },
    {
      "cell_type": "code",
      "execution_count": null,
      "id": "9c0222f5",
      "metadata": {
        "colab": {
          "base_uri": "https://localhost:8080/",
          "height": 81,
          "referenced_widgets": [
            "6732d9ab8e434387a183fc4767156e55",
            "31145c95599e48d9bbeb5ad66af37cd0",
            "b7b85a35143b43a79c97ae9b47d326fc",
            "566a1c42f1a9463b951a5a4e453436ef",
            "41148d63b7b940c8b18c5b92497ab62b",
            "346349bbb7234390bb00920cded8c1ae",
            "441d33e1da354e78a78f845950dbe700",
            "8f2bb23e2ca440b0b969f4c2a70459ad",
            "2de677810e6b47439a6a9ceeedc1712e",
            "b321e7a442964c44b8d0e77d84bc60c3",
            "dedcc8a1b330466fb0eb15566e071a0e",
            "967939f16cf9464d86487d1650a16085",
            "4fb796f59a8f404db89df9a9b5225a7f",
            "c7ab0b3bcd9b443d9c3f83f0c140cde9",
            "7819db8585ac412197b6787711c2c9e8",
            "61bbd72e0b28433c92c2737ca36e8acf",
            "640bac7852ee4407bfd4ed432c55ff08",
            "c2978f45a44244e28d1a4702f0065945",
            "74aab16bf1324c8698ae35d3fbb6e28f",
            "dffad1f0387c4e718875e910f9363d77",
            "73f4f4f29ad048e6a0b79dc7ed04e8b6",
            "601a54b436e4429d8ef957259f3af474"
          ]
        },
        "id": "9c0222f5",
        "outputId": "2cb79004-ebea-4d80-f085-138b483ccb98"
      },
      "outputs": [
        {
          "output_type": "display_data",
          "data": {
            "text/plain": [
              "Filter:   0%|          | 0/33654 [00:00<?, ? examples/s]"
            ],
            "application/vnd.jupyter.widget-view+json": {
              "version_major": 2,
              "version_minor": 0,
              "model_id": "6732d9ab8e434387a183fc4767156e55"
            }
          },
          "metadata": {}
        },
        {
          "output_type": "display_data",
          "data": {
            "text/plain": [
              "Filter:   0%|          | 0/8414 [00:00<?, ? examples/s]"
            ],
            "application/vnd.jupyter.widget-view+json": {
              "version_major": 2,
              "version_minor": 0,
              "model_id": "967939f16cf9464d86487d1650a16085"
            }
          },
          "metadata": {}
        }
      ],
      "source": [
        "ptb_train = ptb_train.filter(lambda example: len(example['sentence'].split()) >= 3)\n",
        "ptb_test = ptb_test.filter(lambda example: len(example['sentence'].split()) >= 3)"
      ]
    },
    {
      "cell_type": "markdown",
      "id": "2733f77b",
      "metadata": {
        "id": "2733f77b"
      },
      "source": [
        "#### What are the 10 most frequent tokens in this dataset? Can you spot the token used to replace the numbers in this dataset? How are rare tokens replaced in this dataset?"
      ]
    },
    {
      "cell_type": "code",
      "execution_count": null,
      "id": "28e93fb6",
      "metadata": {
        "colab": {
          "base_uri": "https://localhost:8080/"
        },
        "id": "28e93fb6",
        "outputId": "696ec2d0-abd6-4e36-cc20-e85b8e5bef25"
      },
      "outputs": [
        {
          "output_type": "execute_result",
          "data": {
            "text/plain": [
              "[('the', 40616),\n",
              " ('<unk>', 35888),\n",
              " ('<stop>', 33539),\n",
              " ('N', 25966),\n",
              " ('of', 19459),\n",
              " ('to', 18896),\n",
              " ('a', 16901),\n",
              " ('in', 14473),\n",
              " ('and', 14013),\n",
              " (\"'s\", 7850)]"
            ]
          },
          "metadata": {},
          "execution_count": 8
        }
      ],
      "source": [
        "from collections import Counter\n",
        "Counter(\" \".join([i[\"sentence\"] for i in ptb_train]).split()).most_common(10)"
      ]
    },
    {
      "cell_type": "markdown",
      "id": "a6eaec09",
      "metadata": {
        "id": "a6eaec09"
      },
      "source": [
        "#### Now let's create a dictionary of the word probabilites (in the format of `{word: Prob(word)}`in the following function. We will use these probabilities to estimate sequence probabilities for a given sequence, as mentioned above."
      ]
    },
    {
      "cell_type": "code",
      "execution_count": null,
      "id": "0e015a74",
      "metadata": {
        "id": "0e015a74"
      },
      "outputs": [],
      "source": [
        "from collections import defaultdict, Counter\n",
        "\n",
        "def get_word_probability_dict(train_dataset: datasets.arrow_dataset.Dataset):\n",
        "    '''\n",
        "    args:\n",
        "        train_dataset: a Dataset object that can be iterated to get all the sentences\n",
        "    output:\n",
        "        word_prob_dict: a dictionary containing the word probabilities (and outputing zero for non-seen tokens)\n",
        "    '''\n",
        "    all_tokens = \" \".join([i['sentence'] for i in train_dataset]).split()\n",
        "    word_frequency_dict = Counter(all_tokens)\n",
        "    word_prob_dict = defaultdict(float, {word : word_count/len(all_tokens) for word, word_count in word_frequency_dict.items()})\n",
        "\n",
        "    return word_prob_dict\n",
        "\n",
        "word_prob_dict = get_word_probability_dict(ptb_train)"
      ]
    },
    {
      "cell_type": "markdown",
      "id": "766d403e",
      "metadata": {
        "id": "766d403e"
      },
      "source": [
        "Let's also get a sense of how high the top-k probabilities are:"
      ]
    },
    {
      "cell_type": "code",
      "execution_count": null,
      "id": "37d958f6",
      "metadata": {
        "scrolled": true,
        "colab": {
          "base_uri": "https://localhost:8080/"
        },
        "id": "37d958f6",
        "outputId": "71000cfa-8688-4299-868e-e7dfb50da988"
      },
      "outputs": [
        {
          "output_type": "execute_result",
          "data": {
            "text/plain": [
              "[('the', 0.054680915800329036),\n",
              " ('<unk>', 0.04831565654525823),\n",
              " ('<stop>', 0.045153221268151356),\n",
              " ('N', 0.03495776688180381),\n",
              " ('of', 0.026197457665910053),\n",
              " ('to', 0.025439496379826114),\n",
              " ('a', 0.022753647772832404),\n",
              " ('in', 0.019484855583468637),\n",
              " ('and', 0.01886556217032723),\n",
              " (\"'s\", 0.010568376724260954),\n",
              " ('for', 0.009569429523063295),\n",
              " ('that', 0.009558659202834748),\n",
              " ('$', 0.00801984970018121),\n",
              " ('is', 0.007975422129238458),\n",
              " ('it', 0.006556432439127497),\n",
              " ('said', 0.006516043738270448),\n",
              " ('on', 0.006050227388385825),\n",
              " ('at', 0.005312460452730411),\n",
              " ('by', 0.005303036422530433),\n",
              " ('as', 0.00519667951027354)]"
            ]
          },
          "metadata": {},
          "execution_count": 10
        }
      ],
      "source": [
        "sorted(word_prob_dict.items(), key=lambda item: item[1], reverse=True)[:20]"
      ]
    },
    {
      "cell_type": "markdown",
      "id": "e1b408c2",
      "metadata": {
        "id": "e1b408c2"
      },
      "source": [
        "#### Now let's analyze the Unigram language model for different sequences. We first create a function that can output the probability for a given string."
      ]
    },
    {
      "cell_type": "code",
      "execution_count": null,
      "id": "fc167228",
      "metadata": {
        "id": "fc167228"
      },
      "outputs": [],
      "source": [
        "def unigram_lm_seq_probability(input_sentence: str,\n",
        "                               word_prob_dict: dict):\n",
        "    '''\n",
        "    args:\n",
        "        input_sentence: The input sequence string. Here we assume\n",
        "        word_prob_dict: A dictionary containing the probability for a given token\n",
        "    output:\n",
        "        probability: The probability of the input_sentence according to the Unigram language model\n",
        "    '''\n",
        "    probability = np.prod([word_prob_dict[word] for word in input_sentence.split()])\n",
        "\n",
        "    return probability"
      ]
    },
    {
      "cell_type": "markdown",
      "id": "3427e046",
      "metadata": {
        "id": "3427e046"
      },
      "source": [
        "#### Let's investigate a major issue with Unigram language model. What are the probabilities for the two following sequences?\n",
        "- the the the the \\<stop>\n",
        "- i love computer science \\<stop>\n",
        "\n",
        "DIscussion: How can we avoid having large probability values for sequences like `the the the <stop>`"
      ]
    },
    {
      "cell_type": "code",
      "execution_count": null,
      "id": "2c753d2d",
      "metadata": {
        "colab": {
          "base_uri": "https://localhost:8080/"
        },
        "id": "2c753d2d",
        "outputId": "521a6b12-b662-46d7-b1d9-74db6d85a014"
      },
      "outputs": [
        {
          "output_type": "stream",
          "name": "stdout",
          "text": [
            "probability for seq1 is 4.0367500274713214e-07, and for seq2 is 2.3485816949091947e-17\n"
          ]
        }
      ],
      "source": [
        "seq1 = \"the the the the <stop>\"\n",
        "seq2 = \"i love computer science <stop>\"\n",
        "\n",
        "prob_seq1 = unigram_lm_seq_probability(seq1, word_prob_dict)\n",
        "prob_seq2 = unigram_lm_seq_probability(seq2, word_prob_dict)\n",
        "print(f\"probability for seq1 is {prob_seq1}, and for seq2 is {prob_seq2}\")"
      ]
    },
    {
      "cell_type": "markdown",
      "id": "06747969",
      "metadata": {
        "id": "06747969"
      },
      "source": [
        "#### Now let's formally evaluate the Unigram model in terms of perplexity. We first compute the entropy as the average negative log-likelihood:\n",
        "$$H(W_{test}∣M)= \\frac{1}{|W_{test}|} \\sum_{w\\in W_{test}} −log_2P(w∣M)$$\n",
        ", where $W_{test}$ is the input sequence and M is the Unigram language model. (note that the logarithm is in base 2).\n",
        "\n",
        "In order to get a reliable value, we will do the above calculation for all the sentences in `ptb_test` dataset and then an average is taken over all these samples."
      ]
    },
    {
      "cell_type": "code",
      "execution_count": null,
      "id": "aa48300f",
      "metadata": {
        "id": "aa48300f"
      },
      "outputs": [],
      "source": [
        "def get_unigram_lm_entropy(input_sentence: str,\n",
        "                           word_prob_dict: dict):\n",
        "    '''\n",
        "    args:\n",
        "        input_sentence: the input string that we would like to have its respective entropy value.\n",
        "        word_prob_dict: A dictionary containing the probability for a given token\n",
        "    output:\n",
        "        entropy: entropy value as defined above\n",
        "    '''\n",
        "\n",
        "    entropy = np.mean([-np.log2(word_prob_dict[word]) for word in input_sentence.split()])\n",
        "\n",
        "    return entropy"
      ]
    },
    {
      "cell_type": "markdown",
      "id": "b07afa63",
      "metadata": {
        "id": "b07afa63"
      },
      "source": [
        "Now compute the average entropy for all the sentences in the `ptb_test` given above function, and then compute the average entropy. Then compute the perplexity as $2^{\\bar{H}}$, where $\\bar{H}$ is the average entropy over the test dataset."
      ]
    },
    {
      "cell_type": "code",
      "execution_count": null,
      "id": "ac66be2c",
      "metadata": {
        "colab": {
          "base_uri": "https://localhost:8080/"
        },
        "id": "ac66be2c",
        "outputId": "2bf09898-9610-47c4-827a-ceebe45bd161"
      },
      "outputs": [
        {
          "output_type": "stream",
          "name": "stderr",
          "text": [
            "<ipython-input-13-4f166c17ce36>:11: RuntimeWarning: divide by zero encountered in log2\n",
            "  entropy = np.mean([-np.log2(word_prob_dict[word]) for word in input_sentence.split()])\n"
          ]
        },
        {
          "output_type": "stream",
          "name": "stdout",
          "text": [
            "The perplexity for the Unigram language model is 677.4370337591442\n"
          ]
        }
      ],
      "source": [
        "def get_unigram_lm_perplexity(test_dataset: datasets.arrow_dataset.Dataset,\n",
        "                              word_prob_dict: dict):\n",
        "    '''\n",
        "    args:\n",
        "        test_dataset: the test dataset samples are used to compute the perplexity for the Unigram LM.\n",
        "        word_prob_dict: A dictionary containing the probability for a given token\n",
        "    output:\n",
        "        perplexity: entropy value as defined above\n",
        "    '''\n",
        "    entropy_values = [get_unigram_lm_entropy(input_sentence['sentence'], word_prob_dict) for input_sentence in test_dataset]\n",
        "    average_entropy = np.mean([entropy for entropy in entropy_values if ~np.isinf(entropy)])\n",
        "    perplexity = 2 ** (average_entropy)\n",
        "\n",
        "    return perplexity\n",
        "\n",
        "unigram_lm_perplexity = get_unigram_lm_perplexity(ptb_test, word_prob_dict)\n",
        "print(f\"The perplexity for the Unigram language model is {unigram_lm_perplexity}\")"
      ]
    },
    {
      "cell_type": "markdown",
      "id": "4a3cec0a",
      "metadata": {
        "id": "4a3cec0a"
      },
      "source": [
        "As discussed in the lectures, the models with lower perplexities are desired; however, we should be careful when comparing language models with different vocabualry sizes.\n",
        "#### In the `ptb_train` dataset, replace every token that is appearing less than 10 times with the `<unk>` token. (Note: the same token replacement should be done for the test dataset). What is the Unigram language model perplexity for the new dataset?\n",
        "Discussion: What would happen to the vocabulary size and perplexity as we increase the rare token threshold to higher values? (instead of 10 here)"
      ]
    },
    {
      "cell_type": "code",
      "execution_count": null,
      "id": "3a14c853",
      "metadata": {
        "colab": {
          "base_uri": "https://localhost:8080/",
          "height": 81,
          "referenced_widgets": [
            "40f1b62d0b5c49ac9f977fb0d660f234",
            "8de8819aa7d2438983147b018a347c47",
            "31d1e1a2b9e446ec93120061f37f0b25",
            "d5b190a80e6f4bb68f07735edda5fbd6",
            "db284a0b02a244268e3ccf8cb20cdeb4",
            "2e36436d057846d3b806abb9265652a2",
            "8d5dffd8304549cd86abe6507c56d229",
            "a1f70b65ccd8489fa89cdba8a434c552",
            "75eddc15bb1149289ff9015876ed308f",
            "9a71692d2a5b423d916eb1e2aa137b00",
            "b0d4e244886f462c889af4fe7b46948c",
            "4fecb95235234a12ba87684bf8545e73",
            "7461a84f42104add9d23b38c115564af",
            "cd6423c7ac3e4a318cd30a2cf7b6ce3d",
            "9c7ab60b1057493894a323727241cb13",
            "318f763c4dc14dd1a5c254d6a9af3481",
            "2a8c5377e6bc497e8d25b1c9e4dda2b5",
            "1ebe56f3092841b3bf34106e8ff22919",
            "dfcd5d617d8a40fe8e796027e2df59e3",
            "1b05a97371944d29ad58c4214b8bee13",
            "7f580f0f4fab4a25bddfb0aaa146e47a",
            "64d2f7f6616e48bc9cf55baa01e30199"
          ]
        },
        "id": "3a14c853",
        "outputId": "009fc82d-fcc3-4c28-f128-18210feaac41"
      },
      "outputs": [
        {
          "output_type": "display_data",
          "data": {
            "text/plain": [
              "Map:   0%|          | 0/33539 [00:00<?, ? examples/s]"
            ],
            "application/vnd.jupyter.widget-view+json": {
              "version_major": 2,
              "version_minor": 0,
              "model_id": "40f1b62d0b5c49ac9f977fb0d660f234"
            }
          },
          "metadata": {}
        },
        {
          "output_type": "display_data",
          "data": {
            "text/plain": [
              "Map:   0%|          | 0/8392 [00:00<?, ? examples/s]"
            ],
            "application/vnd.jupyter.widget-view+json": {
              "version_major": 2,
              "version_minor": 0,
              "model_id": "4fecb95235234a12ba87684bf8545e73"
            }
          },
          "metadata": {}
        }
      ],
      "source": [
        "def remove_rare_token(train_dataset: datasets.arrow_dataset.Dataset,\n",
        "                      test_dataset: datasets.arrow_dataset.Dataset,\n",
        "                      rare_token_threshold: int):\n",
        "    '''\n",
        "    Note that the tokens that are considered rare here, are identified based on the train_dataset, so that\n",
        "    we have the same token mapping (to <unk>) for both the train and test datasets.\n",
        "    args:\n",
        "        train_dataset: the input dataset where its rare tokens has to be replaced with <unk> token.\n",
        "        rare_token_threshold: every word that is appearing less than this threshold in the train dataset will\n",
        "                              be replace with the <unk> token\n",
        "    output:\n",
        "        cleaned_train_dataset: the cleaned train dataset where rare tokens are replace with <unk> token.\n",
        "        cleaned_test_dataset: the cleaned test dataset where rare tokens are replace with <unk> token.\n",
        "    '''\n",
        "    all_tokens = \" \".join([i[\"sentence\"] for i in train_dataset]).split()\n",
        "    word_frequency_dict = Counter(all_tokens)\n",
        "\n",
        "    def rare_removal(input_sample) :\n",
        "      modified_sample = input_sample\n",
        "      modified_sample['sentence'] = \" \".join([(word if word_frequency_dict[word] >= rare_token_threshold\n",
        "                                               else \"<unk>\")\n",
        "                                              for word in input_sample['sentence'].split()])\n",
        "      return modified_sample\n",
        "\n",
        "    cleaned_train_dataset = train_dataset.map(rare_removal)\n",
        "    cleaned_test_dataset = test_dataset.map(rare_removal)\n",
        "\n",
        "    return cleaned_train_dataset, cleaned_test_dataset\n",
        "\n",
        "cleaned_train_dataset, cleaned_test_dataset = remove_rare_token(train_dataset=ptb_train,\n",
        "                                                                test_dataset=ptb_test,\n",
        "                                                                rare_token_threshold=10)\n"
      ]
    },
    {
      "cell_type": "markdown",
      "id": "6f09a7d3",
      "metadata": {
        "id": "6f09a7d3"
      },
      "source": [
        "##### Now, follow similar steps to compute the perplexity given the two new datasets (`cleaned_train_dataset` and `cleaned_test_dataset`)"
      ]
    },
    {
      "cell_type": "code",
      "execution_count": null,
      "id": "d2083f50",
      "metadata": {
        "colab": {
          "base_uri": "https://localhost:8080/"
        },
        "id": "d2083f50",
        "outputId": "01c116c1-6108-4e97-e8f7-4bd03a96d173"
      },
      "outputs": [
        {
          "output_type": "stream",
          "name": "stdout",
          "text": [
            "The perplexity for the Unigram language model after replacing rare tokens is  459.5467339922175\n"
          ]
        }
      ],
      "source": [
        "cleaned_unigram_lm_perplexity = -1\n",
        "\n",
        "# YOUR CODE HERE\n",
        "\n",
        "cleaned_word_prob_dict = get_word_probability_dict(cleaned_train_dataset)\n",
        "cleaned_unigram_lm_perplexity = get_unigram_lm_perplexity(cleaned_test_dataset, cleaned_word_prob_dict)\n",
        "\n",
        "print(\"The perplexity for the Unigram language model after replacing rare tokens is \",\n",
        "      cleaned_unigram_lm_perplexity)"
      ]
    },
    {
      "cell_type": "markdown",
      "id": "4abe9eac",
      "metadata": {
        "id": "4abe9eac"
      },
      "source": [
        "## 1.2 Bi-gram Language Model <a name='bigram_lm'></a>\n",
        "In the Bi-gram language model, we pick/generate next token conditioned only on the previous token. Therefore, for an arbitrary sequence $x_1x_2~...x_n$, its respective probability becomes:\n",
        "$$p(x_1x_2~...x_n) = p(x_1) ~\\Pi_{i=2} ^n p(x_i|x_{i-1})$$\n",
        "Let's use the same dataset (`Penn Treebank`) to evaluate this model's perplexity. (We use the dataset that already has the `<stop>` token at the end).\n",
        "\n",
        "We estimate $p(x_i|x_{i-1})$ as the $\\frac{count(x_{i-1},~x_i)}{count(x_{i-1})}$ according to the training dataset frequencies."
      ]
    },
    {
      "cell_type": "code",
      "execution_count": null,
      "id": "f96966fc",
      "metadata": {
        "id": "f96966fc"
      },
      "outputs": [],
      "source": [
        "def get_first_order_conditional_probabilities(train_dataset: datasets.arrow_dataset.Dataset):\n",
        "    '''\n",
        "    In this function the conditional probabilities have to be computed based train_dataset. The output of the\n",
        "    function is a dictionary having keys like (x_{i-1}, x_i) as a tuple and the value being p(x_i|x_{i-1}).\n",
        "    args:\n",
        "        train_dataset: a Dataset object that can be iterated to get all the sentences\n",
        "    output:\n",
        "        word_prob_dict:\n",
        "        first_order_condition_prob: a dictionary having containing the first order conditional probabilities\n",
        "                                    as discussed above.\n",
        "        word_prob_dict: a dictionary containing the word probabilities\n",
        "    '''\n",
        "    first_order_condition_prob = defaultdict(float) # in order to get zeroes\n",
        "    # let's first get the word frequencies (later used for computation of conditional probabilities)\n",
        "    word_prob_dict = get_word_probability_dict(train_dataset)\n",
        "\n",
        "    all_tokens = \" \".join([i[\"sentence\"] for i in train_dataset]).split()\n",
        "    word_frequency_dict = Counter(all_tokens)\n",
        "\n",
        "    # Creating the biagrams\n",
        "    all_biagrams = []\n",
        "    for sample in train_dataset:\n",
        "      token_list = sample[\"sentence\"].split()\n",
        "      sample_biagrams = [(s1,s2) for s1,s2 in zip(token_list, token_list[1:])]\n",
        "      all_biagrams += sample_biagrams\n",
        "\n",
        "    biagram_frequency_dict = Counter(all_biagrams)\n",
        "    first_order_condition_prob = defaultdict(float, {(w1,w2) : biagram_freq/word_frequency_dict[w1]\n",
        "                                                     for (w1,w2), biagram_freq in biagram_frequency_dict.items()})\n",
        "\n",
        "    return word_prob_dict, first_order_condition_prob\n",
        "\n",
        "word_prob_dict, first_order_condition_prob = get_first_order_conditional_probabilities(ptb_train)"
      ]
    },
    {
      "cell_type": "markdown",
      "id": "c89cb406",
      "metadata": {
        "id": "c89cb406"
      },
      "source": [
        "#### Now let's analyze the Bi-gram language model for different sequences. We first create a function that can output the probability for a given string."
      ]
    },
    {
      "cell_type": "code",
      "execution_count": null,
      "id": "e459cdc4",
      "metadata": {
        "id": "e459cdc4"
      },
      "outputs": [],
      "source": [
        "def bigram_lm_seq_probability(input_sentence: str,\n",
        "                              word_prob_dict: dict,\n",
        "                              first_order_condition_prob: dict):\n",
        "    '''\n",
        "    args:\n",
        "        input_sentence: The input sequence string. Here we assume\n",
        "        word_prob_dict: a dictionary containing the word probabilities\n",
        "        first_order_condition_prob: a dictionary containing the first order conditional probabilities\n",
        "                                    as discussed in the previous function.\n",
        "    output:\n",
        "        probability: The probability of the input_sentence according to the Bi-gram language model\n",
        "    '''\n",
        "\n",
        "    token_list = input_sentence.split()\n",
        "    bigram_list = [(s1,s2) for s1,s2 in zip(token_list, token_list[1:])]\n",
        "    probability = np.prod([word_prob_dict[token_list[0]]] + [first_order_condition_prob[bigram]\n",
        "                                                             for bigram in bigram_list])\n",
        "    return probability"
      ]
    },
    {
      "cell_type": "markdown",
      "id": "a87509ef",
      "metadata": {
        "id": "a87509ef"
      },
      "source": [
        "Let's investigate a major issue with higher order language models.\n",
        "#### Compute the probabilities for all the sequences in `ptb_test` dataset, and compute the minimum value among these probablities. What would be the perplexity for the dataset given these values?\n",
        "Discussion: How can we avoid this **overfitting** to train dataset?"
      ]
    },
    {
      "cell_type": "code",
      "execution_count": null,
      "id": "3d9a0460",
      "metadata": {
        "colab": {
          "base_uri": "https://localhost:8080/"
        },
        "id": "3d9a0460",
        "outputId": "bb8ae858-3eab-40df-df12-936aace111c9"
      },
      "outputs": [
        {
          "output_type": "stream",
          "name": "stdout",
          "text": [
            "90.84842707340324% of samples in the test set have zero probability!\n"
          ]
        }
      ],
      "source": [
        "bigram_test_probabilities = []\n",
        "\n",
        "# YOUR CODE HERE\n",
        "bigram_test_probabilities = [bigram_lm_seq_probability(input_sentence=sample[\"sentence\"], word_prob_dict=word_prob_dict, first_order_condition_prob=first_order_condition_prob)\n",
        "for sample in ptb_test]\n",
        "\n",
        "print(f\"{bigram_test_probabilities.count(0)/len(ptb_test)*100}% of samples in the test set have zero probability!\")"
      ]
    },
    {
      "cell_type": "markdown",
      "id": "9ced914f",
      "metadata": {
        "id": "9ced914f"
      },
      "source": [
        "### Smoothing\n",
        "As we saw above, due to having new pair of consecutive words in the test dataset, we might have zero probabilities for some sequences. Therefore, as discussed in the lectures, in order to have a meaningful perplexity for N-gram language models, we need to smooth the probabilities to have non-zero values for non-seen sequences. In this exercise, we use Laplace smoothing as defined below:\n",
        "$$P(x_i|x_{i-1}) = \\frac{count(x_{i-1},~x_i) + \\alpha}{count(x_{i-1}) + \\alpha ~|V|}$$\n",
        ", where $\\alpha$ is the smoothing parameter, and $|V|$ is the (train dataset) vocabulary size.\n",
        "\n",
        "#### Let's recompute the conditional probabilities using Laplace smoothing."
      ]
    },
    {
      "cell_type": "code",
      "execution_count": null,
      "id": "5d808944",
      "metadata": {
        "id": "5d808944"
      },
      "outputs": [],
      "source": [
        "def get_smoothed_first_order_conditional_probabilities(train_dataset: datasets.arrow_dataset.Dataset,\n",
        "                                                       smoothing_alpha: float):\n",
        "    '''\n",
        "    In this function the conditional probabilities have to be computed based on train_dataset. The output\n",
        "    of the function is a dictionary having keys like (x_{i-1}, x_i) as a tuple and the\n",
        "    value being p(x_i|x_{i-1}).\n",
        "    args:\n",
        "        train_dataset: a Dataset object that can be iterated to get all the sentences\n",
        "        smoothing_alpha: The alpha parameter used in the Laplace smoothing.\n",
        "    output:\n",
        "        word_prob_dict: a dictionary containing the word probabilities\n",
        "        first_order_condition_prob: a dictionary containing the smoothed first order\n",
        "                                    conditional probabilities as discussed above.\n",
        "    '''\n",
        "    first_order_condition_prob = defaultdict(float)  # Note that we shouldn't get zeros for unseen events.\n",
        "    # let's first get the word probabilities (later used for computation of conditional probabilities)\n",
        "    word_prob_dict = get_word_probability_dict(train_dataset)\n",
        "\n",
        "\n",
        "    # YOUR CODE here\n",
        "    all_tokens = \" \".join([i[\"sentence\"] for i in train_dataset]).split()\n",
        "    word_frequency_dict = Counter(all_tokens)\n",
        "\n",
        "    all_biagrams = []\n",
        "    for sample in train_dataset :\n",
        "      token_list = sample[\"sentence\"].split()\n",
        "      sample_biagrams = [(s1,s2) for s1,s2 in zip(token_list, token_list[1:])]\n",
        "      all_biagrams += sample_biagrams\n",
        "\n",
        "    bigram_frequency_dict = Counter(all_biagrams)\n",
        "    first_order_condition_prob = defaultdict(float, {(w1,w2): (bigram_freq + smoothing_alpha)/(word_frequency_dict[w1] + smoothing_alpha* len(word_frequency_dict))\n",
        "                                                     for (w1,w2), bigram_freq in bigram_frequency_dict.items()})\n",
        "\n",
        "    return word_prob_dict, first_order_condition_prob"
      ]
    },
    {
      "cell_type": "code",
      "execution_count": null,
      "id": "3008240c",
      "metadata": {
        "id": "3008240c"
      },
      "outputs": [],
      "source": [
        "def smoothed_bigram_lm_seq_probability(input_sentence: str,\n",
        "                                       word_prob_dict: dict,\n",
        "                                       word_frequency_dict: dict,\n",
        "                                       first_order_condition_prob: dict,\n",
        "                                       smoothing_alpha: float):\n",
        "    '''\n",
        "    args:\n",
        "        input_sentence: The input sequence string. Here we assume\n",
        "        word_prob_dict: a dictionary containing the word probabilities\n",
        "        word_frequency_dict: a dictionary containing the frequency for every word in vocabulary\n",
        "        first_order_condition_prob: a dictionary containing the first order conditional probabilities\n",
        "                                    as discussed in the previous function.\n",
        "        smoothing_alpha: The alpha parameter used in the Laplace smoothing.\n",
        "    output:\n",
        "        probability: The probability of the input_sentence according to the Bi-gram language model\n",
        "    '''\n",
        "    # YOUR CODE HERE\n",
        "    vocab_size = len(word_prob_dict)\n",
        "    token_list = input_sentence.split()\n",
        "    bigram_list = [(s1, s2) for s1, s2 in zip(token_list, token_list[1:])]\n",
        "    probability = np.prod(\n",
        "        [word_prob_dict[token_list[0]]] + [first_order_condition_prob.get(\n",
        "            bigram, smoothing_alpha/(word_frequency_dict[bigram[0]] + smoothing_alpha*vocab_size))\n",
        "                                           for bigram in bigram_list])\n",
        "\n",
        "\n",
        "    return probability"
      ]
    },
    {
      "cell_type": "markdown",
      "id": "4cd77e6c",
      "metadata": {
        "id": "4cd77e6c"
      },
      "source": [
        "#### Assuming $\\alpha=0.01$ for the smoothing, use the previous function and `bigram_lm_seq_probability` to compute the sequence probabilities for all the sentences in the `ptb_test` dataset."
      ]
    },
    {
      "cell_type": "code",
      "execution_count": null,
      "id": "e2c76c94",
      "metadata": {
        "id": "e2c76c94",
        "colab": {
          "base_uri": "https://localhost:8080/"
        },
        "outputId": "e80f58b1-a07b-4889-f614-6ac91a8896c9"
      },
      "outputs": [
        {
          "output_type": "stream",
          "name": "stdout",
          "text": [
            "0.0% of samples in the test set have zero probability!\n"
          ]
        }
      ],
      "source": [
        "smoothed_bigram_test_probabilities = []\n",
        "\n",
        "# YOUR CODE HERE\n",
        "word_frequency_dict = Counter(\" \".join([i[\"sentence\"] for i in ptb_train]).split())\n",
        "(word_prob_dict, smoothed_first_order_condition_prob) = get_smoothed_first_order_conditional_probabilities(ptb_train, 0.01)\n",
        "smoothed_bigram_test_probabilities = [\n",
        "    smoothed_bigram_lm_seq_probability(\n",
        "        input_sentence=sample[\"sentence\"],\n",
        "        word_prob_dict=word_prob_dict,\n",
        "        word_frequency_dict=word_frequency_dict,\n",
        "        first_order_condition_prob=smoothed_first_order_condition_prob,\n",
        "        smoothing_alpha=0.01)\n",
        "    for sample in ptb_test]\n",
        "\n",
        "print(f\"{smoothed_bigram_test_probabilities.count(0)/len(ptb_test)*100}% of samples in the test set have zero probability!\")"
      ]
    },
    {
      "cell_type": "markdown",
      "id": "8f8b38b8",
      "metadata": {
        "id": "8f8b38b8"
      },
      "source": [
        "If the perplexity for a given sequence is computed as below, compute the Bigram language model perplexity over `ptb_test` dataset over all the sentences ($\\alpha=0.01)$:\n",
        "$$Perplexity(x_1x_2...x_n) = p(x_1x_2...x_n)^{-1/n}$$\n",
        ", where $p(x_1x_2...x_n)$ is the probability assigned to $x_1x_2...x_n$ sequence by the language model."
      ]
    },
    {
      "cell_type": "code",
      "execution_count": null,
      "id": "7e3665f1",
      "metadata": {
        "id": "7e3665f1",
        "colab": {
          "base_uri": "https://localhost:8080/"
        },
        "outputId": "5ac0857e-7071-454d-8d88-48c7df224744"
      },
      "outputs": [
        {
          "output_type": "stream",
          "name": "stdout",
          "text": [
            "Bigram language model perplexity is 356.656625841099\n"
          ]
        }
      ],
      "source": [
        "bigram_lm_perplexity = -1\n",
        "# YOUR CODE HERE\n",
        "log_perplex_list = []\n",
        "for idx in range(len(ptb_test)):\n",
        "    sentence_prob = smoothed_bigram_test_probabilities[idx]\n",
        "    if sentence_prob==0:\n",
        "        continue\n",
        "    sentence_length = len(ptb_test[idx][\"sentence\"].split())\n",
        "    log_perplex_list.append(-np.log2(sentence_prob)/sentence_length)\n",
        "bigram_lm_perplexity = 2**np.mean(log_perplex_list)\n",
        "\n",
        "\n",
        "print(f\"Bigram language model perplexity is {bigram_lm_perplexity}\")"
      ]
    },
    {
      "cell_type": "markdown",
      "id": "edd753ef",
      "metadata": {
        "id": "edd753ef"
      },
      "source": [
        "Repeat the same steps but for `cleaned_train_dataset` and `cleaned_test_dataset` datasets where rare tokens (with frequency less than 10) are replaced with `<unk>` token. Do we have a better or a worse perplexity compared to the previous computed perplexity?"
      ]
    },
    {
      "cell_type": "code",
      "execution_count": null,
      "id": "92b98f8b",
      "metadata": {
        "id": "92b98f8b",
        "colab": {
          "base_uri": "https://localhost:8080/"
        },
        "outputId": "3349e764-d7f4-4433-c898-249069fe6585"
      },
      "outputs": [
        {
          "output_type": "stream",
          "name": "stdout",
          "text": [
            "(cleaned) Bigram language model perplexity is 186.1614783700363\n"
          ]
        }
      ],
      "source": [
        "# YOUR CODE HERE\n",
        "cleaned_word_frequency_dict = Counter(\" \".join([i[\"sentence\"] for i in cleaned_train_dataset]).split())\n",
        "(cleaned_word_prob_dict,\n",
        "    cleaned_smoothed_first_order_condition_prob) = get_smoothed_first_order_conditional_probabilities(cleaned_train_dataset,\n",
        "                                                                                                      0.01)\n",
        "cleaned_smoothed_bigram_test_probabilities = [\n",
        "    smoothed_bigram_lm_seq_probability(\n",
        "        input_sentence=sample[\"sentence\"],\n",
        "        word_prob_dict=cleaned_word_prob_dict,\n",
        "        word_frequency_dict=cleaned_word_frequency_dict,\n",
        "        first_order_condition_prob=cleaned_smoothed_first_order_condition_prob,\n",
        "        smoothing_alpha=0.01)\n",
        "    for sample in cleaned_test_dataset]\n",
        "\n",
        "\n",
        "# YOUR CODE HERE\n",
        "log_perplex_list = []\n",
        "for idx in range(len(cleaned_test_dataset)):\n",
        "    sentence_prob = cleaned_smoothed_bigram_test_probabilities[idx]\n",
        "    if sentence_prob==0:\n",
        "        continue\n",
        "    sentence_length = len(cleaned_test_dataset[idx][\"sentence\"].split())\n",
        "    log_perplex_list.append(-np.log2(sentence_prob)/sentence_length)\n",
        "cleaned_bigram_lm_perplexity = 2**np.mean(log_perplex_list)\n",
        "\n",
        "\n",
        "print(f\"(cleaned) Bigram language model perplexity is {cleaned_bigram_lm_perplexity}\")"
      ]
    },
    {
      "cell_type": "markdown",
      "id": "e2ea844a",
      "metadata": {
        "id": "e2ea844a"
      },
      "source": [
        "## 1.3 Tri-gram Language Model <a name='trigram_lm'></a>\n",
        "In the Tri-gram language model, we pick/generate next token conditioned only on the two previous tokens. Therefore, for an arbitrary sequence $x_1x_2~...x_n$, its respective probability becomes:\n",
        "$$p(x_1x_2~...x_n) = p(x_1) p(x_2|x_1) ~\\Pi_{i=3} ^n p(x_i|x_{i-2}x_{i-1})$$\n",
        "Let's use the same dataset (`Penn Treebank`) to evaluate this model's perplexity. (We use the dataset that already has the `<stop>` token at the end of each sentence).\n",
        "\n",
        "\n",
        "We estimate $p(x_i|x_{i-1}x_{i-2})$ using the Laplace smoothing with $\\alpha=3 \\cdot 10^{-3}$. First let's write a function that computes these conditional probabilities for the Tri-gram language model."
      ]
    },
    {
      "cell_type": "code",
      "execution_count": null,
      "id": "abdf0b35",
      "metadata": {
        "id": "abdf0b35"
      },
      "outputs": [],
      "source": [
        "def get_smoothed_second_order_conditional_probabilities(train_dataset: datasets.arrow_dataset.Dataset,\n",
        "                                                        smoothing_alpha: float):\n",
        "    '''\n",
        "    In this function the conditional probabilities have to be computed based on train_dataset. The output\n",
        "    of the function is a dictionary having keys like (x_{i-2}, x_{i-1}, x_i) as a tuple and the\n",
        "    value being p(x_i | x_{i-2} x_{i-1}).\n",
        "    args:\n",
        "        train_dataset: a Dataset object that can be iterated to get all the sentences\n",
        "        smoothing_alpha: The alpha parameter used in the Laplace smoothing.\n",
        "    output:\n",
        "        word_prob_dict: a dictionary containing the word probabilities\n",
        "        first_order_condition_prob: a dictionary containing the smoothed first order\n",
        "                                    conditional probabilities.\n",
        "        second_order_condition_prob: a dictionary containing the smoothed second order\n",
        "                                     conditional probabilities.\n",
        "    '''\n",
        "    smoothed_second_order_condition_prob = defaultdict(float)  # Note that we shouldn't get zeros for unseen probabilies.\n",
        "\n",
        "    # let's first get the 0th and 1st order conditional probabilities\n",
        "    (word_prob_dict, first_order_condition_prob) = get_smoothed_first_order_conditional_probabilities(\n",
        "        train_dataset, smoothing_alpha)\n",
        "\n",
        "    # YOUR CODE HERE\n",
        "    all_tokens = \" \".join([i[\"sentence\"] for i in train_dataset]).split()\n",
        "    word_frequency_dict = Counter(all_tokens)\n",
        "    vocab_size = len(word_frequency_dict)\n",
        "    # now let's create all the bigrams in the train_dataset\n",
        "    all_bigrams = []\n",
        "    for sample in train_dataset:\n",
        "        token_list = sample[\"sentence\"].split()\n",
        "        sample_bigrams = [(s1, s2) for s1, s2 in zip(token_list, token_list[1:])]\n",
        "        all_bigrams += sample_bigrams\n",
        "    bigram_frequency_dict = Counter(all_bigrams)\n",
        "\n",
        "    # now let's create all the trigrams in the train_dataset\n",
        "    all_trigrams = []\n",
        "    for sample in train_dataset:\n",
        "        token_list = sample[\"sentence\"].split()\n",
        "        sample_trigrams = [(s1, s2, s3) for s1,s2,s3 in zip(token_list, token_list[1:], token_list[2:])]\n",
        "        all_trigrams += sample_trigrams\n",
        "    trigram_frequency_dict = Counter(all_trigrams)\n",
        "\n",
        "    smoothed_second_order_condition_prob = defaultdict(\n",
        "        float, {(w1,w2,w3): (trigram_freq+smoothing_alpha)/(bigram_frequency_dict[(w1,w2)] +\n",
        "                                                           smoothing_alpha*vocab_size)\n",
        "                for (w1,w2,w3), trigram_freq in trigram_frequency_dict.items()})\n",
        "\n",
        "\n",
        "    return word_prob_dict, first_order_condition_prob, smoothed_second_order_condition_prob\n"
      ]
    },
    {
      "cell_type": "markdown",
      "id": "936a664f",
      "metadata": {
        "id": "936a664f"
      },
      "source": [
        "#### Now let's analyze the Tri-gram language model for different sequences. We first create a function that can output the probability for a given string."
      ]
    },
    {
      "cell_type": "code",
      "execution_count": null,
      "id": "3f6a692c",
      "metadata": {
        "id": "3f6a692c"
      },
      "outputs": [],
      "source": [
        "def smoothed_trigram_lm_seq_probability(input_sentence: str,\n",
        "                                        word_prob_dict: dict,\n",
        "                                        word_frequency_dict: dict,\n",
        "                                        bigram_frequency_dict: dict,\n",
        "                                        first_order_condition_prob: dict,\n",
        "                                        second_order_condition_prob: dict,\n",
        "                                        smoothing_alpha: float):\n",
        "    '''\n",
        "    args:\n",
        "        input_sentence: The input sequence string. Here we assume\n",
        "        word_prob_dict: a dictionary containing the word probabilities\n",
        "        word_frequency_dict: a dictionary containing the frequency for every word in vocabulary\n",
        "        bigram_frequency_dict: a dictionary containing the frequency for every bigram in vocabulary\n",
        "        first_order_condition_prob: a dictionary containing the first order conditional probabilities\n",
        "                                    as discussed earlier.\n",
        "        second_order_condition_prob: a dictionary containing the second order conditional probabilities\n",
        "                                     as discussed in the previous function.\n",
        "    output:\n",
        "        probability: The probability of the input_sentence according to the Bi-gram language model\n",
        "    '''\n",
        "\n",
        "    # Check if the input sentence is too short to generate bigrams\n",
        "    if len(input_sentence.split()) < 2:\n",
        "        return 0  # Return probability 0 for such cases\n",
        "\n",
        "    vocab_size = len(word_prob_dict)\n",
        "    token_list = input_sentence.split()\n",
        "    bigram_list = [(s1, s2) for s1, s2 in zip(token_list, token_list[1:])]\n",
        "    trigram_list = [(s1, s2, s3) for s1, s2, s3 in zip(token_list, token_list[1:], token_list[2:])]\n",
        "    probability = np.prod(\n",
        "        [word_prob_dict[token_list[0]]] + [first_order_condition_prob.get(\n",
        "            bigram_list[0], smoothing_alpha / (word_frequency_dict.get(bigram_list[0][0], 0) +\n",
        "                                               smoothing_alpha * vocab_size))] + [\n",
        "            second_order_condition_prob.get(trigram,\n",
        "                                            smoothing_alpha / (bigram_frequency_dict.get(trigram[:2], 0) +\n",
        "                                                               smoothing_alpha * vocab_size))\n",
        "            for trigram in trigram_list])\n",
        "\n",
        "    return probability\n"
      ]
    },
    {
      "cell_type": "markdown",
      "id": "16865742",
      "metadata": {
        "id": "16865742"
      },
      "source": [
        "#### Now let's compute the probability for sequences in the test dataset, assuming $\\alpha=3\\cdot10^{-3}$ has been used in the Laplace smoothing."
      ]
    },
    {
      "cell_type": "code",
      "execution_count": null,
      "id": "36feefd8",
      "metadata": {
        "id": "36feefd8",
        "colab": {
          "base_uri": "https://localhost:8080/"
        },
        "outputId": "f4b855e7-5b4b-423b-ff46-b62fc6241710"
      },
      "outputs": [
        {
          "output_type": "stream",
          "name": "stdout",
          "text": [
            "0.2614689802709769% of samples in the test set have zero probability!\n"
          ]
        }
      ],
      "source": [
        "smoothed_trigram_test_probabilities = []\n",
        "\n",
        "# YOUR CODE HERE\n",
        "word_frequency_dict = Counter(\" \".join([i[\"sentence\"] for i in ptb_train]).split())\n",
        "\n",
        "all_bigrams = []\n",
        "for sample in ptb_train:\n",
        "    token_list = sample[\"sentence\"].split()\n",
        "    sample_bigrams = [(s1, s2) for s1, s2 in zip(token_list, token_list[1:])]\n",
        "    all_bigrams += sample_bigrams\n",
        "bigram_frequency_dict = Counter(all_bigrams)\n",
        "\n",
        "(word_prob_dict,\n",
        " smoothed_first_order_condition_prob,\n",
        " smoothed_second_order_condition_prob) = get_smoothed_second_order_conditional_probabilities(ptb_train, 3e-3)\n",
        "\n",
        "\n",
        "smoothed_trigram_test_probabilities = [\n",
        "    smoothed_trigram_lm_seq_probability(\n",
        "        input_sentence=sample[\"sentence\"],\n",
        "        word_prob_dict=word_prob_dict,\n",
        "        word_frequency_dict=word_frequency_dict,\n",
        "        bigram_frequency_dict=bigram_frequency_dict,\n",
        "        first_order_condition_prob=smoothed_first_order_condition_prob,\n",
        "        second_order_condition_prob=smoothed_second_order_condition_prob,\n",
        "        smoothing_alpha=3e-3)\n",
        "    for sample in ptb_test]\n",
        "\n",
        "print(f\"{smoothed_trigram_test_probabilities.count(0)/len(ptb_test)*100}% of samples in the test set have zero probability!\")"
      ]
    },
    {
      "cell_type": "markdown",
      "id": "26ddd040",
      "metadata": {
        "id": "26ddd040"
      },
      "source": [
        "Now we compute the perplexity on the `ptb_test` dataset for the tri-gram language model."
      ]
    },
    {
      "cell_type": "code",
      "execution_count": null,
      "id": "25ed3d70",
      "metadata": {
        "id": "25ed3d70",
        "colab": {
          "base_uri": "https://localhost:8080/"
        },
        "outputId": "62bc80bf-9e0f-401c-a28f-9de3653b9c39"
      },
      "outputs": [
        {
          "output_type": "stream",
          "name": "stdout",
          "text": [
            "Trigram language model perplexity is 1036.7832148226253\n"
          ]
        }
      ],
      "source": [
        "Trigram_lm_perplexity = -1\n",
        "# YOUR CODE HERE\n",
        "log_perplex_list = []\n",
        "for idx in range(len(ptb_test)):\n",
        "    sentence_prob = smoothed_trigram_test_probabilities[idx]\n",
        "    if sentence_prob==0:\n",
        "        continue\n",
        "    sentence_length = len(ptb_test[idx][\"sentence\"].split())\n",
        "    log_perplex_list.append(-np.log2(sentence_prob)/sentence_length)\n",
        "Trigram_lm_perplexity = 2**np.mean(log_perplex_list)\n",
        "\n",
        "\n",
        "print(f\"Trigram language model perplexity is {Trigram_lm_perplexity}\")"
      ]
    },
    {
      "cell_type": "markdown",
      "id": "e34c59c8",
      "metadata": {
        "id": "e34c59c8"
      },
      "source": [
        "Repeat the same steps but for `cleaned_train_dataset` and `cleaned_test_dataset` datasets where rare tokens (with frequency less than 10) are replaced with `<unk>` token. Do we have a better or a worse perplexity compared to the previous computed perplexity?"
      ]
    },
    {
      "cell_type": "code",
      "execution_count": null,
      "id": "41b456be",
      "metadata": {
        "id": "41b456be"
      },
      "outputs": [],
      "source": [
        "cleaned_word_frequency_dict = Counter(\" \".join([i[\"sentence\"] for i in cleaned_train_dataset]).split())\n",
        "\n",
        "all_bigrams = []\n",
        "for sample in cleaned_train_dataset:\n",
        "    token_list = sample[\"sentence\"].split()\n",
        "    sample_bigrams = [(s1, s2) for s1, s2 in zip(token_list, token_list[1:])]\n",
        "    all_bigrams += sample_bigrams\n",
        "cleaned_bigram_frequency_dict = Counter(all_bigrams)\n",
        "\n",
        "(cleaned_word_prob_dict,\n",
        " cleaned_first_order_condition_prob,\n",
        " cleaned_second_order_condition_prob\n",
        ") = get_smoothed_second_order_conditional_probabilities(cleaned_train_dataset, 3e-3)\n",
        "\n",
        "\n",
        "cleaned_smoothed_trigram_test_probabilities = [\n",
        "    smoothed_trigram_lm_seq_probability(\n",
        "        input_sentence=sample[\"sentence\"],\n",
        "        word_prob_dict=cleaned_word_prob_dict,\n",
        "        word_frequency_dict=cleaned_word_frequency_dict,\n",
        "        bigram_frequency_dict=cleaned_bigram_frequency_dict,\n",
        "        first_order_condition_prob=cleaned_first_order_condition_prob,\n",
        "        second_order_condition_prob=cleaned_second_order_condition_prob,\n",
        "        smoothing_alpha=3e-3)\n",
        "    for sample in cleaned_test_dataset]\n",
        "\n",
        "\n",
        "log_perplex_list = []\n",
        "for idx in range(len(cleaned_test_dataset)):\n",
        "    sentence_prob = cleaned_smoothed_trigram_test_probabilities[idx]\n",
        "    if sentence_prob==0:\n",
        "        continue\n",
        "    sentence_length = len(cleaned_test_dataset[idx][\"sentence\"].split())\n",
        "    log_perplex_list.append(-np.log2(sentence_prob)/sentence_length)\n",
        "cleaned_Trigram_lm_perplexity = 2**np.mean(log_perplex_list)"
      ]
    },
    {
      "cell_type": "code",
      "source": [
        "print(f\"(cleaned) Trigram language model perplexity is {cleaned_Trigram_lm_perplexity}\")\n"
      ],
      "metadata": {
        "colab": {
          "base_uri": "https://localhost:8080/"
        },
        "id": "DTjJEympIflg",
        "outputId": "fd7e0cc0-362a-47a3-e33e-5ef480c7526b"
      },
      "id": "DTjJEympIflg",
      "execution_count": null,
      "outputs": [
        {
          "output_type": "stream",
          "name": "stdout",
          "text": [
            "(cleaned) Trigram language model perplexity is 511.4526616266122\n"
          ]
        }
      ]
    },
    {
      "cell_type": "markdown",
      "id": "2d8e69cc",
      "metadata": {
        "id": "2d8e69cc"
      },
      "source": [
        "#### Discussion\n",
        " - How are the three discussed models performance compare to each other?\n",
        " - What is the cost of using N-gram language models for even larger N values?\n",
        " - What is the effect of vocabulary size on models' perplexities? Can we compare models with different vocabulary sizes?\n",
        " - What is the perplexity of a language model (vocabulary size of |V|) that given any context (i.e., $x_1 x_2 ... x_{n-1}$) assigns uniform probabilities (for all the tokens in the vocabulary) for the next token?"
      ]
    },
    {
      "cell_type": "markdown",
      "id": "641578b1",
      "metadata": {
        "id": "641578b1"
      },
      "source": [
        "## 2. Task B: Neural Language Models <a name='neural_lm'></a>\n",
        "\n",
        "In this exercise, we will better understand the functioning of some simple neural language models. We first start with a fixed-window neural language model. In the following subsection, we will investigate an RNN-based language model."
      ]
    },
    {
      "cell_type": "markdown",
      "id": "88cee765",
      "metadata": {
        "id": "88cee765"
      },
      "source": [
        "### 2.1 Fixed-Window Neural Language Model <a name='fixed_window_lm'></a>\n",
        "This language model take as input a constant number of tokens, and then outputs a probability distribution for the next token. In this section, we assume the underlying model is a Multi-layer Perceptron (MLP) with a single hidden layer. This model doesn't have the sparsity issue of N-gram language models, but is always limited to a fixed window of tokens.\n",
        "\n",
        "In this section, we don't include the training of the model but rather we use a pretrained model on the same training dataset. We evaluate the language model over the `ptb_test` dataset, to show the power of neural language models, when compared to N-gram language models.\n",
        "\n",
        "More importantly, we use PyTorch modules in this section, so that you get more familiar with its capabilities. Throughout this exercise, we use a `window_size=3` for this model.\n",
        "\n"
      ]
    },
    {
      "cell_type": "markdown",
      "id": "6808da1e",
      "metadata": {
        "id": "6808da1e"
      },
      "source": [
        "Let's first create a dataset of all consecutive tokens of length `window_size` from the `ptb_train` dataset. you can read more about PyTorch datasets and how to create a custom dataset  [here](https://pytorch.org/tutorials/beginner/basics/data_tutorial.html#creating-a-custom-dataset-for-your-files)."
      ]
    },
    {
      "cell_type": "code",
      "execution_count": 4,
      "id": "70f5c3bf",
      "metadata": {
        "id": "70f5c3bf"
      },
      "outputs": [],
      "source": [
        "from torch.utils.data import Dataset, DataLoader\n",
        "\n",
        "window_size = 3\n",
        "vocabulary_size = 10000\n",
        "word_emb_dim = 100\n",
        "hidden_dim = 100\n",
        "\n",
        "\n",
        "class FixedWindowDataset(Dataset):\n",
        "    # read more about custom datasets at https://pytorch.org/tutorials/beginner/basics/data_tutorial.html\n",
        "    def __init__(self,\n",
        "                 train_dataset: datasets.arrow_dataset.Dataset,\n",
        "                 test_dataset: datasets.arrow_dataset.Dataset,\n",
        "                 window_size: int,\n",
        "                 vocabulary_size: int\n",
        "                ):\n",
        "        self.prepared_train_dataset = self.prepare_fixed_window_lm_dataset(train_dataset, window_size + 1)\n",
        "        self.prepared_test_dataset = self.prepare_fixed_window_lm_dataset(test_dataset, window_size + 1)\n",
        "\n",
        "        dataset_vocab = self.get_dataset_vocabulary(train_dataset)\n",
        "        # defining a dictionary that simply maps tokens to their respective index in the embedding matrix\n",
        "        self.word_to_index = {word: idx for idx,word in enumerate(dataset_vocab)}\n",
        "        self.index_to_word = {idx: word for idx,word in enumerate(dataset_vocab)}\n",
        "\n",
        "        assert vocabulary_size >= len(dataset_vocab) , f\"The dataset vocab size is {len(dataset_vocab)}!\"\n",
        "\n",
        "    def __len__(self):\n",
        "        return len(self.prepared_train_dataset)\n",
        "\n",
        "    def get_encoded_test_samples(self):\n",
        "        all_token_lists = [sample.split() for sample in self.prepared_test_dataset]\n",
        "        all_token_ids = [[self.word_to_index.get(word, self.word_to_index[\"<unk>\"])\n",
        "                          for word in token_list[:-1]]\n",
        "                         for token_list in all_token_lists\n",
        "                        ]\n",
        "        all_next_token_ids = [self.word_to_index.get(token_list[-1], self.word_to_index[\"<unk>\"]) for\n",
        "                              token_list in all_token_lists]\n",
        "        return torch.tensor(all_token_ids), torch.tensor(all_next_token_ids)\n",
        "\n",
        "    def __getitem__(self, idx):\n",
        "        # here we need to transform the data to the format we expect at the model input\n",
        "        token_list = self.prepared_train_dataset[idx].split()\n",
        "        # having a fallback to <unk> token if an unseen word is encoded.\n",
        "        token_ids = [self.word_to_index.get(word, self.word_to_index[\"<unk>\"]) for word in token_list[:-1]]\n",
        "        next_token_id = self.word_to_index.get(token_list[-1], self.word_to_index[\"<unk>\"])\n",
        "        return torch.tensor(token_ids), torch.tensor(next_token_id)\n",
        "\n",
        "    def decode_idx_to_word(self, token_id):\n",
        "        return [self.index_to_word[id_.item()] for id_ in token_id]\n",
        "\n",
        "    def get_dataset_vocabulary(self, train_dataset: datasets.arrow_dataset.Dataset):\n",
        "        vocab = sorted(set(\" \".join([sample[\"sentence\"] for sample in train_dataset]).split()))\n",
        "        # we also add a <start> token to include initial tokens in the sentences in the dataset\n",
        "        vocab += [\"<start>\"]\n",
        "        return vocab\n",
        "\n",
        "    @staticmethod\n",
        "    def prepare_fixed_window_lm_dataset(target_dataset: datasets.arrow_dataset.Dataset,\n",
        "                                        window_size: int):\n",
        "        '''\n",
        "        Please note that for the very first tokens, they will be added like \"<start> <start> Token#1\".\n",
        "        args:\n",
        "            target_dataset: the target dataset where its consecutive tokens of length 'window_size' should be extracted\n",
        "            window_size: the window size for the language model\n",
        "        output:\n",
        "            prepared_dataset: a list of strings each containing 'window_size' tokens.\n",
        "        '''\n",
        "\n",
        "        prepared_dataset = []\n",
        "\n",
        "        for sample in target_dataset :\n",
        "          temp_token_list = sample[\"sentence\"].split()\n",
        "          if len(temp_token_list) < window_size :\n",
        "            continue\n",
        "          else :\n",
        "            for dx in range(1, window_size) :\n",
        "              prepared_dataset.append(\" \".join(['<start>'] * (window_size - dx) + temp_token_list[:dx]))\n",
        "            for dx in range(len(temp_token_list) - window_size + 1) :\n",
        "\n",
        "              prepared_dataset.append(\" \".join(temp_token_list[dx : dx + window_size]))\n",
        "        return prepared_dataset\n",
        "\n"
      ]
    },
    {
      "cell_type": "code",
      "execution_count": 5,
      "id": "524f4a18",
      "metadata": {
        "id": "524f4a18"
      },
      "outputs": [],
      "source": [
        "fixed_window_dataset = FixedWindowDataset(ptb_train, ptb_test, window_size, vocabulary_size)\n",
        "\n",
        "# let's create a simple dataloader for this dataset\n",
        "train_dataloader =  DataLoader(fixed_window_dataset, batch_size=8, shuffle=True)"
      ]
    },
    {
      "cell_type": "markdown",
      "id": "5b44e90d",
      "metadata": {
        "id": "5b44e90d"
      },
      "source": [
        "Now, let's define the underlying PyTorch model for the language model. You can read more about PyTorch models [here](https://pytorch.org/tutorials/beginner/introyt/modelsyt_tutorial.html).\n",
        "\n",
        "**Note**: Here in the forward pass, we compute the negative log-likelihood after passing through the MLP layers. Here we use `torch.nn.LogSoftmax`, as it's numerically more stable than doing seperately `softmax` followed by taking its logarithm."
      ]
    },
    {
      "cell_type": "code",
      "execution_count": 6,
      "id": "e3ea691f",
      "metadata": {
        "id": "e3ea691f"
      },
      "outputs": [],
      "source": [
        "import torch.optim as optim\n",
        "\n",
        "class Fixed_window_language_model(torch.nn.Module):\n",
        "    def __init__(self, emb_dim, hidden_dim, window_size, vocab_size=10000):\n",
        "        super().__init__()\n",
        "\n",
        "        self.window_size = window_size\n",
        "        self.emb_dim = emb_dim\n",
        "        self.word_embeddings = torch.nn.Embedding(vocab_size, emb_dim) # word embeddings\n",
        "        self.linear1 = torch.nn.Linear(window_size * emb_dim, hidden_dim) # first linear layer\n",
        "        self.activation_func = torch.tanh # the activation function\n",
        "        self.linear2 = torch.nn.Linear(hidden_dim, vocab_size) # second linear layer\n",
        "\n",
        "        self.log_softmax = torch.nn.LogSoftmax(dim=1)\n",
        "        self.criterion = torch.nn.NLLLoss()\n",
        "\n",
        "    def forward(self, input_ids, labels):\n",
        "        inputs_embeds = self.word_embeddings(input_ids)\n",
        "        concat_input_embed = inputs_embeds.reshape(-1, self.emb_dim * self.window_size)\n",
        "        hidden_state = self.activation_func( self.linear1(concat_input_embed) )\n",
        "        logits = self.log_softmax( self.linear2(hidden_state) )\n",
        "        loss = self.criterion(logits, labels)\n",
        "\n",
        "        return loss\n"
      ]
    },
    {
      "cell_type": "markdown",
      "id": "4dae5397",
      "metadata": {
        "id": "4dae5397"
      },
      "source": [
        "Now let's see how easy it is to train a model with PyTorch! (we provide a trained model in the cell after train, so that you can just start using the model without going through the time-consuming training)"
      ]
    },
    {
      "cell_type": "code",
      "execution_count": 7,
      "id": "93779901",
      "metadata": {
        "id": "93779901"
      },
      "outputs": [],
      "source": [
        "# defining the model\n",
        "model_fixed_window = Fixed_window_language_model(emb_dim=word_emb_dim, hidden_dim=hidden_dim,\n",
        "                                                 window_size=window_size, vocab_size=vocabulary_size)\n",
        "\n",
        "# defining the optimizer\n",
        "optimizer = optim.SGD(model_fixed_window.parameters(),\n",
        "                      lr=0.005,\n",
        "                      momentum=0.9)"
      ]
    },
    {
      "cell_type": "code",
      "execution_count": 8,
      "id": "77626d29",
      "metadata": {
        "scrolled": true,
        "id": "77626d29",
        "colab": {
          "base_uri": "https://localhost:8080/"
        },
        "outputId": "a056a19b-bb46-48d8-e766-bc991683dbf9"
      },
      "outputs": [
        {
          "output_type": "stream",
          "name": "stdout",
          "text": [
            "[1,  5000] loss: 6.918\n",
            "[1, 10000] loss: 6.379\n",
            "[1, 15000] loss: 6.204\n",
            "[1, 20000] loss: 6.159\n",
            "[1, 25000] loss: 6.097\n",
            "[1, 30000] loss: 6.063\n",
            "[1, 35000] loss: 6.010\n",
            "[1, 40000] loss: 5.988\n",
            "[1, 45000] loss: 5.935\n",
            "[1, 50000] loss: 5.903\n",
            "[1, 55000] loss: 5.874\n",
            "[1, 60000] loss: 5.881\n",
            "[1, 65000] loss: 5.879\n",
            "[1, 70000] loss: 5.835\n",
            "[1, 75000] loss: 5.838\n",
            "[1, 80000] loss: 5.819\n",
            "[1, 85000] loss: 5.779\n",
            "[2,  5000] loss: 5.654\n",
            "[2, 10000] loss: 5.652\n",
            "[2, 15000] loss: 5.637\n",
            "[2, 20000] loss: 5.645\n",
            "[2, 25000] loss: 5.644\n",
            "[2, 30000] loss: 5.657\n",
            "[2, 35000] loss: 5.644\n",
            "[2, 40000] loss: 5.639\n",
            "[2, 45000] loss: 5.635\n",
            "[2, 50000] loss: 5.611\n",
            "[2, 55000] loss: 5.641\n",
            "[2, 60000] loss: 5.607\n",
            "[2, 65000] loss: 5.597\n",
            "[2, 70000] loss: 5.587\n",
            "[2, 75000] loss: 5.587\n",
            "[2, 80000] loss: 5.569\n",
            "[2, 85000] loss: 5.588\n",
            "Finished Training\n"
          ]
        }
      ],
      "source": [
        "for epoch in range(2):  # loop over the dataset multiple times\n",
        "\n",
        "    running_loss = 0.0\n",
        "    for i, data in enumerate(train_dataloader):\n",
        "        # get the inputs; data is a tuple of (context, target)\n",
        "        context, target = data\n",
        "\n",
        "        # zero the parameter gradients\n",
        "        optimizer.zero_grad()\n",
        "\n",
        "        # forward + backward + optimize\n",
        "        loss = model_fixed_window(context, target)\n",
        "        loss.backward()\n",
        "        optimizer.step()\n",
        "\n",
        "        # print statistics\n",
        "        running_loss += loss.item()\n",
        "        if i % 5000 == 4999. :    # print every 5000 mini-batches\n",
        "            print(f'[{epoch + 1}, {i + 1:5d}] loss: {running_loss / 5000:.3f}')\n",
        "            running_loss = 0.0\n",
        "\n",
        "print('Finished Training')\n",
        "\n",
        "# saving the trained model\n",
        "torch.save(model_fixed_window.state_dict(), \"fixed_window_model.pt\")"
      ]
    },
    {
      "cell_type": "markdown",
      "id": "0483dd01",
      "metadata": {
        "id": "0483dd01"
      },
      "source": [
        "We provide a trained model, so that you can start using it right away"
      ]
    },
    {
      "cell_type": "code",
      "execution_count": 9,
      "id": "54ba51b1",
      "metadata": {
        "id": "54ba51b1",
        "colab": {
          "base_uri": "https://localhost:8080/"
        },
        "outputId": "d3b954a9-cd41-4057-a0f4-b28595061e37"
      },
      "outputs": [
        {
          "output_type": "execute_result",
          "data": {
            "text/plain": [
              "<All keys matched successfully>"
            ]
          },
          "metadata": {},
          "execution_count": 9
        }
      ],
      "source": [
        "fixed_window_checkpoint_file = \"fixed_window_model.pt\"\n",
        "model_fixed_window.load_state_dict(torch.load(fixed_window_checkpoint_file))"
      ]
    },
    {
      "cell_type": "code",
      "execution_count": 10,
      "id": "b806f375",
      "metadata": {
        "id": "b806f375"
      },
      "outputs": [],
      "source": [
        "# context and 'target' ids (target is the next word after the context)\n",
        "test_token_ids, test_target_ids = fixed_window_dataset.get_encoded_test_samples()"
      ]
    },
    {
      "cell_type": "markdown",
      "id": "f87e283d",
      "metadata": {
        "id": "f87e283d"
      },
      "source": [
        "We now have the `test_token_ids`, `test_target_ids` tensors for the test dataset. The `test_token_ids` are the context ids and `test_target_ids` are the respective **next token** (a.k.a. target here) for these contexts.\n",
        "#### Using the trained model, implement a function that can output the loss for the discussed test dataset. How can we generally decide if the model is overfitted to the train dataset or not?"
      ]
    },
    {
      "cell_type": "code",
      "execution_count": 12,
      "id": "e352e019",
      "metadata": {
        "id": "e352e019",
        "colab": {
          "base_uri": "https://localhost:8080/"
        },
        "outputId": "9de13d61-6e7f-4b37-e858-74906596dca0"
      },
      "outputs": [
        {
          "output_type": "stream",
          "name": "stdout",
          "text": [
            "Test dataset loss is 5.636320475041551\n"
          ]
        }
      ],
      "source": [
        "def generate_test_dataset_loss(model: torch.nn.Module,\n",
        "                               test_token_ids: torch.Tensor,\n",
        "                               test_target_ids: torch.Tensor):\n",
        "    '''\n",
        "    args:\n",
        "        model: fixed-window language model\n",
        "        test_token_ids: the context ids in a single tensor.\n",
        "        test_target_ids: the target ids (next token after the context) in a single tensor.\n",
        "    output:\n",
        "        avg_test_loss: The average loss of model over test dataset.\n",
        "    '''\n",
        "    batch_size = 4\n",
        "    test_loss = []\n",
        "\n",
        "\n",
        "    with torch.no_grad():\n",
        "      for i in range(0, test_token_ids.shape[0], batch_size) :\n",
        "        context_batch = test_token_ids[i : i + batch_size]\n",
        "        target = test_target_ids[i : i + batch_size]\n",
        "        batch_loss = model(context_batch, target)\n",
        "        test_loss.append(batch_loss.item())\n",
        "\n",
        "    avg_test_loss = np.array(test_loss).mean()\n",
        "\n",
        "    return avg_test_loss\n",
        "\n",
        "\n",
        "test_dataset_loss = generate_test_dataset_loss(model_fixed_window, test_token_ids, test_target_ids)\n",
        "print(f\"Test dataset loss is {test_dataset_loss}\")"
      ]
    },
    {
      "cell_type": "markdown",
      "id": "085d7476",
      "metadata": {
        "id": "085d7476"
      },
      "source": [
        "#### Using the trained fixed-window model, implement a function that can output entropy for a given sequence."
      ]
    },
    {
      "cell_type": "code",
      "execution_count": 17,
      "id": "db54e454",
      "metadata": {
        "id": "db54e454"
      },
      "outputs": [],
      "source": [
        "def get_seqeuence_entropy_fixed_window_lm(model: torch.nn.Module,\n",
        "                                              input_sequence: str,\n",
        "                                              window_size: int,\n",
        "                                              word_to_idx: dict):\n",
        "    '''\n",
        "    Note that e.g., in order to get the first token probability, you need to pass a sequence\n",
        "    like \"<start> <start> <start>\" (prefix padding) to the neural model. In a similar fashion, we need to pass\n",
        "    \"<start> <start> TOKEN#1\" for getting the probability of the second token.\n",
        "    args:\n",
        "        model: fixed-window language model\n",
        "        input_sequence: the sequence for which we want to calculate the probability\n",
        "        window_size: the size of window for the language model\n",
        "        word_to_idx: a mapping from words to the embedding indices (to encode tokens before being\n",
        "                     passed to model). You can get this dict from 'fixed_window_dataset.word_to_index'\n",
        "    output:\n",
        "        sequence_entropy: the entropy for the input sequence using the trained model\n",
        "    '''\n",
        "\n",
        "    # YOUR CODE HERE\n",
        "    modified_sentence = \"<start> \" * (window_size) + input_sequence\n",
        "\n",
        "    token_list = modified_sentence.split()\n",
        "    encoded_context = []\n",
        "    encoded_target = []\n",
        "\n",
        "    for idx in range(len(token_list)-window_size):\n",
        "      encoded_context.append([word_to_idx.get(token, word_to_idx[\"<unk>\"]) for token in token_list[idx : idx+window_size]])\n",
        "      encoded_target.append(word_to_idx.get(token_list[idx+window_size], word_to_idx[\"<unk>\"]))\n",
        "\n",
        "    encoded_context = torch.tensor(encoded_context)\n",
        "    encoded_target = torch.tensor(encoded_target)\n",
        "\n",
        "    with torch.no_grad():\n",
        "      sequence_entropy = model(encoded_context, encoded_target).item()\n",
        "    return sequence_entropy"
      ]
    },
    {
      "cell_type": "markdown",
      "id": "7d055835",
      "metadata": {
        "id": "7d055835"
      },
      "source": [
        "#### Compute the perplexity for the trained fixed-window language model over `ptb_test` dataset using the previous function. How does it perform compared to N-gram language models we discussed earlier?"
      ]
    },
    {
      "cell_type": "code",
      "execution_count": 18,
      "id": "f4289886",
      "metadata": {
        "id": "f4289886",
        "colab": {
          "base_uri": "https://localhost:8080/"
        },
        "outputId": "e451491a-0dc1-49ea-8a4d-80ab9391f0fb"
      },
      "outputs": [
        {
          "output_type": "stream",
          "name": "stdout",
          "text": [
            "The fixed-window model perplexity over test dataset is 292.8002582486393\n"
          ]
        }
      ],
      "source": [
        "perplexity = -1\n",
        "\n",
        "# YOUR CODE HERE\n",
        "fixed_window_test_set_entropy = [get_seqeuence_entropy_fixed_window_lm(model_fixed_window,\n",
        "                                                                           sample[\"sentence\"],\n",
        "                                                                           window_size,\n",
        "                                                                           fixed_window_dataset.word_to_index)\n",
        "for sample in ptb_test]\n",
        "perplexity = np.exp(np.mean(fixed_window_test_set_entropy))\n",
        "\n",
        "print(f\"The fixed-window model perplexity over test dataset is {perplexity}\")"
      ]
    },
    {
      "cell_type": "markdown",
      "id": "240c3d89",
      "metadata": {
        "id": "240c3d89"
      },
      "source": [
        "### 2.2 RNN-based Language Model <a name='rnn_lm'></a>\n",
        "To address the need for a neural architecture that can proceed with any length input (as opposed to the fixed-window model that can only process a fixed number of tokens), we implement the Recurrent Neural Network (RNN). The core idea behind is that we can apply the same weight W repeatedly.\n",
        "\n",
        "An advatange of RNN model compared to fixed-window langauage model is that we can pass a given sentence at once, instead of passing it in many windows of size `window_size`. Moreover, the language model has the ability to look behind further that a fixed number of tokens.\n",
        "\n",
        " As we already did a neural model training exercise for the previous neural model, we only provide a trained LM at this section, so that you can focus only on the analysis part.\n",
        "\n",
        "You can find the dataset structure as well as the RNN architecture in the `rnn_utils.py` file."
      ]
    },
    {
      "cell_type": "code",
      "execution_count": 24,
      "id": "fc631bc1",
      "metadata": {
        "id": "fc631bc1",
        "colab": {
          "base_uri": "https://localhost:8080/"
        },
        "outputId": "ac65b739-42cf-4655-9f03-e961847167a8"
      },
      "outputs": [
        {
          "output_type": "execute_result",
          "data": {
            "text/plain": [
              "RNN_language_model(\n",
              "  (criterion): CrossEntropyLoss()\n",
              "  (embedding): Embedding(10000, 200)\n",
              "  (rnn): RNN(200, 200, num_layers=4)\n",
              "  (dropout): Dropout(p=0.001, inplace=False)\n",
              "  (lm_decoder): Linear(in_features=200, out_features=10000, bias=True)\n",
              ")"
            ]
          },
          "metadata": {},
          "execution_count": 24
        }
      ],
      "source": [
        "from rnn_utils import RNNDataset, RNN_language_model\n",
        "\n",
        "vocabulary_size = 10000\n",
        "word_emb_dim = 200\n",
        "hidden_dim = 200\n",
        "\n",
        "rnn_dataset = RNNDataset(ptb_train, ptb_test, vocabulary_size)\n",
        "\n",
        "# if gpu is available, we puts the model on it\n",
        "device = torch.device(\"cuda:0\" if torch.cuda.is_available() else \"cpu\")\n",
        "\n",
        "# Here we need a <pad> token for the RNN model, in order to have a batch of sequences with difference sizes\n",
        "pad_idx = rnn_dataset.pad_idx # the index for <pad> token\n",
        "rnn_model = RNN_language_model(vocab_size=vocabulary_size, emb_dim=word_emb_dim, hidden_dim=hidden_dim,\n",
        "                               pad_idx=pad_idx)\n",
        "rnn_model.to(device)"
      ]
    },
    {
      "cell_type": "markdown",
      "id": "25137a9f",
      "metadata": {
        "id": "25137a9f"
      },
      "source": [
        "load the model weights using the state_dict in `rnn_model.pt` file."
      ]
    },
    {
      "cell_type": "code",
      "execution_count": 25,
      "id": "52adb1f9",
      "metadata": {
        "id": "52adb1f9"
      },
      "outputs": [],
      "source": [
        "if torch.cuda.is_available():\n",
        "  rnn_model.load_state_dict(torch.load(\"rnn_model.pt\"))\n",
        "else :\n",
        "  rnn_model.load_state_dict(torch.load(\"rnn_model.pt\", map_location=torch.device('cpu')))"
      ]
    },
    {
      "cell_type": "markdown",
      "id": "f06eb967",
      "metadata": {
        "id": "f06eb967"
      },
      "source": [
        "As the training of an RNN model is time-consuming, we provide a trained language model on this dataset (`rnn_model.pt`), so that you can just analyze the model performance here.\n",
        "As mentioned above, as RNN can get sequences with varying lengths, the input sequences should be padded with a special token like `<pad>`, so that we can create a batch of sentences. The output of the defined RNN model (see the architecture detail `rnn_utils.py`) is the model's entropy over the input data.\n",
        "\n",
        "#### First get the encoded test samples of `ptb_test` dataset, and then pass these (already padded) sentences to the RNN model to get the respective entropy values. Compute the perplexity of the model and compare it with previous approaches.\n",
        "**HINT**: You can use the `get_encoded_test_samples` function of `rnn_dataset` to get encoded test samples.\n"
      ]
    },
    {
      "cell_type": "code",
      "execution_count": 26,
      "id": "09d7b99f",
      "metadata": {
        "id": "09d7b99f",
        "colab": {
          "base_uri": "https://localhost:8080/"
        },
        "outputId": "e1999bba-e526-4cbe-aab1-92337f674e09"
      },
      "outputs": [
        {
          "output_type": "stream",
          "name": "stdout",
          "text": [
            "The model perplexity is 2950.4180765606143\n"
          ]
        }
      ],
      "source": [
        "test_perplexity = -1\n",
        "\n",
        "# YOUR CODE HERE\n",
        "test_tokens_ids = rnn_dataset.get_encoded_test_samples()\n",
        "\n",
        "test_loss = []\n",
        "\n",
        "eval_batch_size = 8\n",
        "\n",
        "with torch.no_grad() :\n",
        "  for data_idx in range(0, test_token_ids.shape[0], eval_batch_size):\n",
        "    context_batch = test_token_ids[data_idx : data_idx + eval_batch_size].to(device)\n",
        "\n",
        "    batch_max_seq_length = (context_batch != rnn_dataset.pad_idx).sum(dim=1).max().item()\n",
        "    context_batch = context_batch[:, :batch_max_seq_length]\n",
        "\n",
        "    batch_loss = rnn_model(context_batch)\n",
        "    test_loss.append(batch_loss.item())\n",
        "\n",
        "\n",
        "avg_test_loss = np.array(test_loss).mean()\n",
        "test_perplexity = np.exp(avg_test_loss)\n",
        "\n",
        "\n",
        "print(f\"The model perplexity is {test_perplexity}\")"
      ]
    }
  ],
  "metadata": {
    "kernelspec": {
      "display_name": "Python 3 (ipykernel)",
      "language": "python",
      "name": "python3"
    },
    "language_info": {
      "codemirror_mode": {
        "name": "ipython",
        "version": 3
      },
      "file_extension": ".py",
      "mimetype": "text/x-python",
      "name": "python",
      "nbconvert_exporter": "python",
      "pygments_lexer": "ipython3",
      "version": "3.9.0"
    },
    "vscode": {
      "interpreter": {
        "hash": "a8ced340a52f9326f5856e1d63a73f97bd9f0a225610b549ff7b502d766a19ce"
      }
    },
    "colab": {
      "provenance": []
    },
    "widgets": {
      "application/vnd.jupyter.widget-state+json": {
        "2fb5ddbd094c4b69947331bbf04c0e91": {
          "model_module": "@jupyter-widgets/controls",
          "model_name": "HBoxModel",
          "model_module_version": "1.5.0",
          "state": {
            "_dom_classes": [],
            "_model_module": "@jupyter-widgets/controls",
            "_model_module_version": "1.5.0",
            "_model_name": "HBoxModel",
            "_view_count": null,
            "_view_module": "@jupyter-widgets/controls",
            "_view_module_version": "1.5.0",
            "_view_name": "HBoxView",
            "box_style": "",
            "children": [
              "IPY_MODEL_1b9572ff0af64984b6cfc7c098a86674",
              "IPY_MODEL_3d01bbba0e54401fa0896ba9b295e1f0",
              "IPY_MODEL_d0163c36ace241a7950dea5c76776b55"
            ],
            "layout": "IPY_MODEL_188586c277be412db943981efdfb7a81"
          }
        },
        "1b9572ff0af64984b6cfc7c098a86674": {
          "model_module": "@jupyter-widgets/controls",
          "model_name": "HTMLModel",
          "model_module_version": "1.5.0",
          "state": {
            "_dom_classes": [],
            "_model_module": "@jupyter-widgets/controls",
            "_model_module_version": "1.5.0",
            "_model_name": "HTMLModel",
            "_view_count": null,
            "_view_module": "@jupyter-widgets/controls",
            "_view_module_version": "1.5.0",
            "_view_name": "HTMLView",
            "description": "",
            "description_tooltip": null,
            "layout": "IPY_MODEL_95cd460502ad4de6a2941da214f86b19",
            "placeholder": "​",
            "style": "IPY_MODEL_71d67dc1e3c74f11aa7a1da31d2771db",
            "value": "Map: 100%"
          }
        },
        "3d01bbba0e54401fa0896ba9b295e1f0": {
          "model_module": "@jupyter-widgets/controls",
          "model_name": "FloatProgressModel",
          "model_module_version": "1.5.0",
          "state": {
            "_dom_classes": [],
            "_model_module": "@jupyter-widgets/controls",
            "_model_module_version": "1.5.0",
            "_model_name": "FloatProgressModel",
            "_view_count": null,
            "_view_module": "@jupyter-widgets/controls",
            "_view_module_version": "1.5.0",
            "_view_name": "ProgressView",
            "bar_style": "success",
            "description": "",
            "description_tooltip": null,
            "layout": "IPY_MODEL_68dca1e6837049c39b5cb13407663df4",
            "max": 33654,
            "min": 0,
            "orientation": "horizontal",
            "style": "IPY_MODEL_3b07c60f599047c7aae79b2ae32b329d",
            "value": 33654
          }
        },
        "d0163c36ace241a7950dea5c76776b55": {
          "model_module": "@jupyter-widgets/controls",
          "model_name": "HTMLModel",
          "model_module_version": "1.5.0",
          "state": {
            "_dom_classes": [],
            "_model_module": "@jupyter-widgets/controls",
            "_model_module_version": "1.5.0",
            "_model_name": "HTMLModel",
            "_view_count": null,
            "_view_module": "@jupyter-widgets/controls",
            "_view_module_version": "1.5.0",
            "_view_name": "HTMLView",
            "description": "",
            "description_tooltip": null,
            "layout": "IPY_MODEL_747baa22dc304385943dd0fbf1780dcf",
            "placeholder": "​",
            "style": "IPY_MODEL_047101bb82254aea9034eb62eacea84b",
            "value": " 33654/33654 [00:05&lt;00:00, 9968.35 examples/s]"
          }
        },
        "188586c277be412db943981efdfb7a81": {
          "model_module": "@jupyter-widgets/base",
          "model_name": "LayoutModel",
          "model_module_version": "1.2.0",
          "state": {
            "_model_module": "@jupyter-widgets/base",
            "_model_module_version": "1.2.0",
            "_model_name": "LayoutModel",
            "_view_count": null,
            "_view_module": "@jupyter-widgets/base",
            "_view_module_version": "1.2.0",
            "_view_name": "LayoutView",
            "align_content": null,
            "align_items": null,
            "align_self": null,
            "border": null,
            "bottom": null,
            "display": null,
            "flex": null,
            "flex_flow": null,
            "grid_area": null,
            "grid_auto_columns": null,
            "grid_auto_flow": null,
            "grid_auto_rows": null,
            "grid_column": null,
            "grid_gap": null,
            "grid_row": null,
            "grid_template_areas": null,
            "grid_template_columns": null,
            "grid_template_rows": null,
            "height": null,
            "justify_content": null,
            "justify_items": null,
            "left": null,
            "margin": null,
            "max_height": null,
            "max_width": null,
            "min_height": null,
            "min_width": null,
            "object_fit": null,
            "object_position": null,
            "order": null,
            "overflow": null,
            "overflow_x": null,
            "overflow_y": null,
            "padding": null,
            "right": null,
            "top": null,
            "visibility": null,
            "width": null
          }
        },
        "95cd460502ad4de6a2941da214f86b19": {
          "model_module": "@jupyter-widgets/base",
          "model_name": "LayoutModel",
          "model_module_version": "1.2.0",
          "state": {
            "_model_module": "@jupyter-widgets/base",
            "_model_module_version": "1.2.0",
            "_model_name": "LayoutModel",
            "_view_count": null,
            "_view_module": "@jupyter-widgets/base",
            "_view_module_version": "1.2.0",
            "_view_name": "LayoutView",
            "align_content": null,
            "align_items": null,
            "align_self": null,
            "border": null,
            "bottom": null,
            "display": null,
            "flex": null,
            "flex_flow": null,
            "grid_area": null,
            "grid_auto_columns": null,
            "grid_auto_flow": null,
            "grid_auto_rows": null,
            "grid_column": null,
            "grid_gap": null,
            "grid_row": null,
            "grid_template_areas": null,
            "grid_template_columns": null,
            "grid_template_rows": null,
            "height": null,
            "justify_content": null,
            "justify_items": null,
            "left": null,
            "margin": null,
            "max_height": null,
            "max_width": null,
            "min_height": null,
            "min_width": null,
            "object_fit": null,
            "object_position": null,
            "order": null,
            "overflow": null,
            "overflow_x": null,
            "overflow_y": null,
            "padding": null,
            "right": null,
            "top": null,
            "visibility": null,
            "width": null
          }
        },
        "71d67dc1e3c74f11aa7a1da31d2771db": {
          "model_module": "@jupyter-widgets/controls",
          "model_name": "DescriptionStyleModel",
          "model_module_version": "1.5.0",
          "state": {
            "_model_module": "@jupyter-widgets/controls",
            "_model_module_version": "1.5.0",
            "_model_name": "DescriptionStyleModel",
            "_view_count": null,
            "_view_module": "@jupyter-widgets/base",
            "_view_module_version": "1.2.0",
            "_view_name": "StyleView",
            "description_width": ""
          }
        },
        "68dca1e6837049c39b5cb13407663df4": {
          "model_module": "@jupyter-widgets/base",
          "model_name": "LayoutModel",
          "model_module_version": "1.2.0",
          "state": {
            "_model_module": "@jupyter-widgets/base",
            "_model_module_version": "1.2.0",
            "_model_name": "LayoutModel",
            "_view_count": null,
            "_view_module": "@jupyter-widgets/base",
            "_view_module_version": "1.2.0",
            "_view_name": "LayoutView",
            "align_content": null,
            "align_items": null,
            "align_self": null,
            "border": null,
            "bottom": null,
            "display": null,
            "flex": null,
            "flex_flow": null,
            "grid_area": null,
            "grid_auto_columns": null,
            "grid_auto_flow": null,
            "grid_auto_rows": null,
            "grid_column": null,
            "grid_gap": null,
            "grid_row": null,
            "grid_template_areas": null,
            "grid_template_columns": null,
            "grid_template_rows": null,
            "height": null,
            "justify_content": null,
            "justify_items": null,
            "left": null,
            "margin": null,
            "max_height": null,
            "max_width": null,
            "min_height": null,
            "min_width": null,
            "object_fit": null,
            "object_position": null,
            "order": null,
            "overflow": null,
            "overflow_x": null,
            "overflow_y": null,
            "padding": null,
            "right": null,
            "top": null,
            "visibility": null,
            "width": null
          }
        },
        "3b07c60f599047c7aae79b2ae32b329d": {
          "model_module": "@jupyter-widgets/controls",
          "model_name": "ProgressStyleModel",
          "model_module_version": "1.5.0",
          "state": {
            "_model_module": "@jupyter-widgets/controls",
            "_model_module_version": "1.5.0",
            "_model_name": "ProgressStyleModel",
            "_view_count": null,
            "_view_module": "@jupyter-widgets/base",
            "_view_module_version": "1.2.0",
            "_view_name": "StyleView",
            "bar_color": null,
            "description_width": ""
          }
        },
        "747baa22dc304385943dd0fbf1780dcf": {
          "model_module": "@jupyter-widgets/base",
          "model_name": "LayoutModel",
          "model_module_version": "1.2.0",
          "state": {
            "_model_module": "@jupyter-widgets/base",
            "_model_module_version": "1.2.0",
            "_model_name": "LayoutModel",
            "_view_count": null,
            "_view_module": "@jupyter-widgets/base",
            "_view_module_version": "1.2.0",
            "_view_name": "LayoutView",
            "align_content": null,
            "align_items": null,
            "align_self": null,
            "border": null,
            "bottom": null,
            "display": null,
            "flex": null,
            "flex_flow": null,
            "grid_area": null,
            "grid_auto_columns": null,
            "grid_auto_flow": null,
            "grid_auto_rows": null,
            "grid_column": null,
            "grid_gap": null,
            "grid_row": null,
            "grid_template_areas": null,
            "grid_template_columns": null,
            "grid_template_rows": null,
            "height": null,
            "justify_content": null,
            "justify_items": null,
            "left": null,
            "margin": null,
            "max_height": null,
            "max_width": null,
            "min_height": null,
            "min_width": null,
            "object_fit": null,
            "object_position": null,
            "order": null,
            "overflow": null,
            "overflow_x": null,
            "overflow_y": null,
            "padding": null,
            "right": null,
            "top": null,
            "visibility": null,
            "width": null
          }
        },
        "047101bb82254aea9034eb62eacea84b": {
          "model_module": "@jupyter-widgets/controls",
          "model_name": "DescriptionStyleModel",
          "model_module_version": "1.5.0",
          "state": {
            "_model_module": "@jupyter-widgets/controls",
            "_model_module_version": "1.5.0",
            "_model_name": "DescriptionStyleModel",
            "_view_count": null,
            "_view_module": "@jupyter-widgets/base",
            "_view_module_version": "1.2.0",
            "_view_name": "StyleView",
            "description_width": ""
          }
        },
        "b58ae217affd492790c9e75bf1a922cf": {
          "model_module": "@jupyter-widgets/controls",
          "model_name": "HBoxModel",
          "model_module_version": "1.5.0",
          "state": {
            "_dom_classes": [],
            "_model_module": "@jupyter-widgets/controls",
            "_model_module_version": "1.5.0",
            "_model_name": "HBoxModel",
            "_view_count": null,
            "_view_module": "@jupyter-widgets/controls",
            "_view_module_version": "1.5.0",
            "_view_name": "HBoxView",
            "box_style": "",
            "children": [
              "IPY_MODEL_0a26048759904a4abd1e536f58775d82",
              "IPY_MODEL_baf721c3096d404fbf27ad8c372ed667",
              "IPY_MODEL_21237816ec7d474eb652c8fd8d38c9ed"
            ],
            "layout": "IPY_MODEL_216b72531a3a404ab7a9d5211053ffa0"
          }
        },
        "0a26048759904a4abd1e536f58775d82": {
          "model_module": "@jupyter-widgets/controls",
          "model_name": "HTMLModel",
          "model_module_version": "1.5.0",
          "state": {
            "_dom_classes": [],
            "_model_module": "@jupyter-widgets/controls",
            "_model_module_version": "1.5.0",
            "_model_name": "HTMLModel",
            "_view_count": null,
            "_view_module": "@jupyter-widgets/controls",
            "_view_module_version": "1.5.0",
            "_view_name": "HTMLView",
            "description": "",
            "description_tooltip": null,
            "layout": "IPY_MODEL_5bbdda36daaa40e1b40311086188f1f9",
            "placeholder": "​",
            "style": "IPY_MODEL_4429e62973864e6fb319ced65aea6d47",
            "value": "Map: 100%"
          }
        },
        "baf721c3096d404fbf27ad8c372ed667": {
          "model_module": "@jupyter-widgets/controls",
          "model_name": "FloatProgressModel",
          "model_module_version": "1.5.0",
          "state": {
            "_dom_classes": [],
            "_model_module": "@jupyter-widgets/controls",
            "_model_module_version": "1.5.0",
            "_model_name": "FloatProgressModel",
            "_view_count": null,
            "_view_module": "@jupyter-widgets/controls",
            "_view_module_version": "1.5.0",
            "_view_name": "ProgressView",
            "bar_style": "success",
            "description": "",
            "description_tooltip": null,
            "layout": "IPY_MODEL_bb9745f94b424a98be5bc7202f571ba5",
            "max": 8414,
            "min": 0,
            "orientation": "horizontal",
            "style": "IPY_MODEL_db2f05d2e399416f9ccff202a296435a",
            "value": 8414
          }
        },
        "21237816ec7d474eb652c8fd8d38c9ed": {
          "model_module": "@jupyter-widgets/controls",
          "model_name": "HTMLModel",
          "model_module_version": "1.5.0",
          "state": {
            "_dom_classes": [],
            "_model_module": "@jupyter-widgets/controls",
            "_model_module_version": "1.5.0",
            "_model_name": "HTMLModel",
            "_view_count": null,
            "_view_module": "@jupyter-widgets/controls",
            "_view_module_version": "1.5.0",
            "_view_name": "HTMLView",
            "description": "",
            "description_tooltip": null,
            "layout": "IPY_MODEL_c64dd8e69a2a4f2ba338b4a5bac917b7",
            "placeholder": "​",
            "style": "IPY_MODEL_49807506d9b240d4a1ee0328f244cc50",
            "value": " 8414/8414 [00:01&lt;00:00, 4135.95 examples/s]"
          }
        },
        "216b72531a3a404ab7a9d5211053ffa0": {
          "model_module": "@jupyter-widgets/base",
          "model_name": "LayoutModel",
          "model_module_version": "1.2.0",
          "state": {
            "_model_module": "@jupyter-widgets/base",
            "_model_module_version": "1.2.0",
            "_model_name": "LayoutModel",
            "_view_count": null,
            "_view_module": "@jupyter-widgets/base",
            "_view_module_version": "1.2.0",
            "_view_name": "LayoutView",
            "align_content": null,
            "align_items": null,
            "align_self": null,
            "border": null,
            "bottom": null,
            "display": null,
            "flex": null,
            "flex_flow": null,
            "grid_area": null,
            "grid_auto_columns": null,
            "grid_auto_flow": null,
            "grid_auto_rows": null,
            "grid_column": null,
            "grid_gap": null,
            "grid_row": null,
            "grid_template_areas": null,
            "grid_template_columns": null,
            "grid_template_rows": null,
            "height": null,
            "justify_content": null,
            "justify_items": null,
            "left": null,
            "margin": null,
            "max_height": null,
            "max_width": null,
            "min_height": null,
            "min_width": null,
            "object_fit": null,
            "object_position": null,
            "order": null,
            "overflow": null,
            "overflow_x": null,
            "overflow_y": null,
            "padding": null,
            "right": null,
            "top": null,
            "visibility": null,
            "width": null
          }
        },
        "5bbdda36daaa40e1b40311086188f1f9": {
          "model_module": "@jupyter-widgets/base",
          "model_name": "LayoutModel",
          "model_module_version": "1.2.0",
          "state": {
            "_model_module": "@jupyter-widgets/base",
            "_model_module_version": "1.2.0",
            "_model_name": "LayoutModel",
            "_view_count": null,
            "_view_module": "@jupyter-widgets/base",
            "_view_module_version": "1.2.0",
            "_view_name": "LayoutView",
            "align_content": null,
            "align_items": null,
            "align_self": null,
            "border": null,
            "bottom": null,
            "display": null,
            "flex": null,
            "flex_flow": null,
            "grid_area": null,
            "grid_auto_columns": null,
            "grid_auto_flow": null,
            "grid_auto_rows": null,
            "grid_column": null,
            "grid_gap": null,
            "grid_row": null,
            "grid_template_areas": null,
            "grid_template_columns": null,
            "grid_template_rows": null,
            "height": null,
            "justify_content": null,
            "justify_items": null,
            "left": null,
            "margin": null,
            "max_height": null,
            "max_width": null,
            "min_height": null,
            "min_width": null,
            "object_fit": null,
            "object_position": null,
            "order": null,
            "overflow": null,
            "overflow_x": null,
            "overflow_y": null,
            "padding": null,
            "right": null,
            "top": null,
            "visibility": null,
            "width": null
          }
        },
        "4429e62973864e6fb319ced65aea6d47": {
          "model_module": "@jupyter-widgets/controls",
          "model_name": "DescriptionStyleModel",
          "model_module_version": "1.5.0",
          "state": {
            "_model_module": "@jupyter-widgets/controls",
            "_model_module_version": "1.5.0",
            "_model_name": "DescriptionStyleModel",
            "_view_count": null,
            "_view_module": "@jupyter-widgets/base",
            "_view_module_version": "1.2.0",
            "_view_name": "StyleView",
            "description_width": ""
          }
        },
        "bb9745f94b424a98be5bc7202f571ba5": {
          "model_module": "@jupyter-widgets/base",
          "model_name": "LayoutModel",
          "model_module_version": "1.2.0",
          "state": {
            "_model_module": "@jupyter-widgets/base",
            "_model_module_version": "1.2.0",
            "_model_name": "LayoutModel",
            "_view_count": null,
            "_view_module": "@jupyter-widgets/base",
            "_view_module_version": "1.2.0",
            "_view_name": "LayoutView",
            "align_content": null,
            "align_items": null,
            "align_self": null,
            "border": null,
            "bottom": null,
            "display": null,
            "flex": null,
            "flex_flow": null,
            "grid_area": null,
            "grid_auto_columns": null,
            "grid_auto_flow": null,
            "grid_auto_rows": null,
            "grid_column": null,
            "grid_gap": null,
            "grid_row": null,
            "grid_template_areas": null,
            "grid_template_columns": null,
            "grid_template_rows": null,
            "height": null,
            "justify_content": null,
            "justify_items": null,
            "left": null,
            "margin": null,
            "max_height": null,
            "max_width": null,
            "min_height": null,
            "min_width": null,
            "object_fit": null,
            "object_position": null,
            "order": null,
            "overflow": null,
            "overflow_x": null,
            "overflow_y": null,
            "padding": null,
            "right": null,
            "top": null,
            "visibility": null,
            "width": null
          }
        },
        "db2f05d2e399416f9ccff202a296435a": {
          "model_module": "@jupyter-widgets/controls",
          "model_name": "ProgressStyleModel",
          "model_module_version": "1.5.0",
          "state": {
            "_model_module": "@jupyter-widgets/controls",
            "_model_module_version": "1.5.0",
            "_model_name": "ProgressStyleModel",
            "_view_count": null,
            "_view_module": "@jupyter-widgets/base",
            "_view_module_version": "1.2.0",
            "_view_name": "StyleView",
            "bar_color": null,
            "description_width": ""
          }
        },
        "c64dd8e69a2a4f2ba338b4a5bac917b7": {
          "model_module": "@jupyter-widgets/base",
          "model_name": "LayoutModel",
          "model_module_version": "1.2.0",
          "state": {
            "_model_module": "@jupyter-widgets/base",
            "_model_module_version": "1.2.0",
            "_model_name": "LayoutModel",
            "_view_count": null,
            "_view_module": "@jupyter-widgets/base",
            "_view_module_version": "1.2.0",
            "_view_name": "LayoutView",
            "align_content": null,
            "align_items": null,
            "align_self": null,
            "border": null,
            "bottom": null,
            "display": null,
            "flex": null,
            "flex_flow": null,
            "grid_area": null,
            "grid_auto_columns": null,
            "grid_auto_flow": null,
            "grid_auto_rows": null,
            "grid_column": null,
            "grid_gap": null,
            "grid_row": null,
            "grid_template_areas": null,
            "grid_template_columns": null,
            "grid_template_rows": null,
            "height": null,
            "justify_content": null,
            "justify_items": null,
            "left": null,
            "margin": null,
            "max_height": null,
            "max_width": null,
            "min_height": null,
            "min_width": null,
            "object_fit": null,
            "object_position": null,
            "order": null,
            "overflow": null,
            "overflow_x": null,
            "overflow_y": null,
            "padding": null,
            "right": null,
            "top": null,
            "visibility": null,
            "width": null
          }
        },
        "49807506d9b240d4a1ee0328f244cc50": {
          "model_module": "@jupyter-widgets/controls",
          "model_name": "DescriptionStyleModel",
          "model_module_version": "1.5.0",
          "state": {
            "_model_module": "@jupyter-widgets/controls",
            "_model_module_version": "1.5.0",
            "_model_name": "DescriptionStyleModel",
            "_view_count": null,
            "_view_module": "@jupyter-widgets/base",
            "_view_module_version": "1.2.0",
            "_view_name": "StyleView",
            "description_width": ""
          }
        },
        "6732d9ab8e434387a183fc4767156e55": {
          "model_module": "@jupyter-widgets/controls",
          "model_name": "HBoxModel",
          "model_module_version": "1.5.0",
          "state": {
            "_dom_classes": [],
            "_model_module": "@jupyter-widgets/controls",
            "_model_module_version": "1.5.0",
            "_model_name": "HBoxModel",
            "_view_count": null,
            "_view_module": "@jupyter-widgets/controls",
            "_view_module_version": "1.5.0",
            "_view_name": "HBoxView",
            "box_style": "",
            "children": [
              "IPY_MODEL_31145c95599e48d9bbeb5ad66af37cd0",
              "IPY_MODEL_b7b85a35143b43a79c97ae9b47d326fc",
              "IPY_MODEL_566a1c42f1a9463b951a5a4e453436ef"
            ],
            "layout": "IPY_MODEL_41148d63b7b940c8b18c5b92497ab62b"
          }
        },
        "31145c95599e48d9bbeb5ad66af37cd0": {
          "model_module": "@jupyter-widgets/controls",
          "model_name": "HTMLModel",
          "model_module_version": "1.5.0",
          "state": {
            "_dom_classes": [],
            "_model_module": "@jupyter-widgets/controls",
            "_model_module_version": "1.5.0",
            "_model_name": "HTMLModel",
            "_view_count": null,
            "_view_module": "@jupyter-widgets/controls",
            "_view_module_version": "1.5.0",
            "_view_name": "HTMLView",
            "description": "",
            "description_tooltip": null,
            "layout": "IPY_MODEL_346349bbb7234390bb00920cded8c1ae",
            "placeholder": "​",
            "style": "IPY_MODEL_441d33e1da354e78a78f845950dbe700",
            "value": "Filter: 100%"
          }
        },
        "b7b85a35143b43a79c97ae9b47d326fc": {
          "model_module": "@jupyter-widgets/controls",
          "model_name": "FloatProgressModel",
          "model_module_version": "1.5.0",
          "state": {
            "_dom_classes": [],
            "_model_module": "@jupyter-widgets/controls",
            "_model_module_version": "1.5.0",
            "_model_name": "FloatProgressModel",
            "_view_count": null,
            "_view_module": "@jupyter-widgets/controls",
            "_view_module_version": "1.5.0",
            "_view_name": "ProgressView",
            "bar_style": "success",
            "description": "",
            "description_tooltip": null,
            "layout": "IPY_MODEL_8f2bb23e2ca440b0b969f4c2a70459ad",
            "max": 33654,
            "min": 0,
            "orientation": "horizontal",
            "style": "IPY_MODEL_2de677810e6b47439a6a9ceeedc1712e",
            "value": 33654
          }
        },
        "566a1c42f1a9463b951a5a4e453436ef": {
          "model_module": "@jupyter-widgets/controls",
          "model_name": "HTMLModel",
          "model_module_version": "1.5.0",
          "state": {
            "_dom_classes": [],
            "_model_module": "@jupyter-widgets/controls",
            "_model_module_version": "1.5.0",
            "_model_name": "HTMLModel",
            "_view_count": null,
            "_view_module": "@jupyter-widgets/controls",
            "_view_module_version": "1.5.0",
            "_view_name": "HTMLView",
            "description": "",
            "description_tooltip": null,
            "layout": "IPY_MODEL_b321e7a442964c44b8d0e77d84bc60c3",
            "placeholder": "​",
            "style": "IPY_MODEL_dedcc8a1b330466fb0eb15566e071a0e",
            "value": " 33654/33654 [00:00&lt;00:00, 44513.92 examples/s]"
          }
        },
        "41148d63b7b940c8b18c5b92497ab62b": {
          "model_module": "@jupyter-widgets/base",
          "model_name": "LayoutModel",
          "model_module_version": "1.2.0",
          "state": {
            "_model_module": "@jupyter-widgets/base",
            "_model_module_version": "1.2.0",
            "_model_name": "LayoutModel",
            "_view_count": null,
            "_view_module": "@jupyter-widgets/base",
            "_view_module_version": "1.2.0",
            "_view_name": "LayoutView",
            "align_content": null,
            "align_items": null,
            "align_self": null,
            "border": null,
            "bottom": null,
            "display": null,
            "flex": null,
            "flex_flow": null,
            "grid_area": null,
            "grid_auto_columns": null,
            "grid_auto_flow": null,
            "grid_auto_rows": null,
            "grid_column": null,
            "grid_gap": null,
            "grid_row": null,
            "grid_template_areas": null,
            "grid_template_columns": null,
            "grid_template_rows": null,
            "height": null,
            "justify_content": null,
            "justify_items": null,
            "left": null,
            "margin": null,
            "max_height": null,
            "max_width": null,
            "min_height": null,
            "min_width": null,
            "object_fit": null,
            "object_position": null,
            "order": null,
            "overflow": null,
            "overflow_x": null,
            "overflow_y": null,
            "padding": null,
            "right": null,
            "top": null,
            "visibility": null,
            "width": null
          }
        },
        "346349bbb7234390bb00920cded8c1ae": {
          "model_module": "@jupyter-widgets/base",
          "model_name": "LayoutModel",
          "model_module_version": "1.2.0",
          "state": {
            "_model_module": "@jupyter-widgets/base",
            "_model_module_version": "1.2.0",
            "_model_name": "LayoutModel",
            "_view_count": null,
            "_view_module": "@jupyter-widgets/base",
            "_view_module_version": "1.2.0",
            "_view_name": "LayoutView",
            "align_content": null,
            "align_items": null,
            "align_self": null,
            "border": null,
            "bottom": null,
            "display": null,
            "flex": null,
            "flex_flow": null,
            "grid_area": null,
            "grid_auto_columns": null,
            "grid_auto_flow": null,
            "grid_auto_rows": null,
            "grid_column": null,
            "grid_gap": null,
            "grid_row": null,
            "grid_template_areas": null,
            "grid_template_columns": null,
            "grid_template_rows": null,
            "height": null,
            "justify_content": null,
            "justify_items": null,
            "left": null,
            "margin": null,
            "max_height": null,
            "max_width": null,
            "min_height": null,
            "min_width": null,
            "object_fit": null,
            "object_position": null,
            "order": null,
            "overflow": null,
            "overflow_x": null,
            "overflow_y": null,
            "padding": null,
            "right": null,
            "top": null,
            "visibility": null,
            "width": null
          }
        },
        "441d33e1da354e78a78f845950dbe700": {
          "model_module": "@jupyter-widgets/controls",
          "model_name": "DescriptionStyleModel",
          "model_module_version": "1.5.0",
          "state": {
            "_model_module": "@jupyter-widgets/controls",
            "_model_module_version": "1.5.0",
            "_model_name": "DescriptionStyleModel",
            "_view_count": null,
            "_view_module": "@jupyter-widgets/base",
            "_view_module_version": "1.2.0",
            "_view_name": "StyleView",
            "description_width": ""
          }
        },
        "8f2bb23e2ca440b0b969f4c2a70459ad": {
          "model_module": "@jupyter-widgets/base",
          "model_name": "LayoutModel",
          "model_module_version": "1.2.0",
          "state": {
            "_model_module": "@jupyter-widgets/base",
            "_model_module_version": "1.2.0",
            "_model_name": "LayoutModel",
            "_view_count": null,
            "_view_module": "@jupyter-widgets/base",
            "_view_module_version": "1.2.0",
            "_view_name": "LayoutView",
            "align_content": null,
            "align_items": null,
            "align_self": null,
            "border": null,
            "bottom": null,
            "display": null,
            "flex": null,
            "flex_flow": null,
            "grid_area": null,
            "grid_auto_columns": null,
            "grid_auto_flow": null,
            "grid_auto_rows": null,
            "grid_column": null,
            "grid_gap": null,
            "grid_row": null,
            "grid_template_areas": null,
            "grid_template_columns": null,
            "grid_template_rows": null,
            "height": null,
            "justify_content": null,
            "justify_items": null,
            "left": null,
            "margin": null,
            "max_height": null,
            "max_width": null,
            "min_height": null,
            "min_width": null,
            "object_fit": null,
            "object_position": null,
            "order": null,
            "overflow": null,
            "overflow_x": null,
            "overflow_y": null,
            "padding": null,
            "right": null,
            "top": null,
            "visibility": null,
            "width": null
          }
        },
        "2de677810e6b47439a6a9ceeedc1712e": {
          "model_module": "@jupyter-widgets/controls",
          "model_name": "ProgressStyleModel",
          "model_module_version": "1.5.0",
          "state": {
            "_model_module": "@jupyter-widgets/controls",
            "_model_module_version": "1.5.0",
            "_model_name": "ProgressStyleModel",
            "_view_count": null,
            "_view_module": "@jupyter-widgets/base",
            "_view_module_version": "1.2.0",
            "_view_name": "StyleView",
            "bar_color": null,
            "description_width": ""
          }
        },
        "b321e7a442964c44b8d0e77d84bc60c3": {
          "model_module": "@jupyter-widgets/base",
          "model_name": "LayoutModel",
          "model_module_version": "1.2.0",
          "state": {
            "_model_module": "@jupyter-widgets/base",
            "_model_module_version": "1.2.0",
            "_model_name": "LayoutModel",
            "_view_count": null,
            "_view_module": "@jupyter-widgets/base",
            "_view_module_version": "1.2.0",
            "_view_name": "LayoutView",
            "align_content": null,
            "align_items": null,
            "align_self": null,
            "border": null,
            "bottom": null,
            "display": null,
            "flex": null,
            "flex_flow": null,
            "grid_area": null,
            "grid_auto_columns": null,
            "grid_auto_flow": null,
            "grid_auto_rows": null,
            "grid_column": null,
            "grid_gap": null,
            "grid_row": null,
            "grid_template_areas": null,
            "grid_template_columns": null,
            "grid_template_rows": null,
            "height": null,
            "justify_content": null,
            "justify_items": null,
            "left": null,
            "margin": null,
            "max_height": null,
            "max_width": null,
            "min_height": null,
            "min_width": null,
            "object_fit": null,
            "object_position": null,
            "order": null,
            "overflow": null,
            "overflow_x": null,
            "overflow_y": null,
            "padding": null,
            "right": null,
            "top": null,
            "visibility": null,
            "width": null
          }
        },
        "dedcc8a1b330466fb0eb15566e071a0e": {
          "model_module": "@jupyter-widgets/controls",
          "model_name": "DescriptionStyleModel",
          "model_module_version": "1.5.0",
          "state": {
            "_model_module": "@jupyter-widgets/controls",
            "_model_module_version": "1.5.0",
            "_model_name": "DescriptionStyleModel",
            "_view_count": null,
            "_view_module": "@jupyter-widgets/base",
            "_view_module_version": "1.2.0",
            "_view_name": "StyleView",
            "description_width": ""
          }
        },
        "967939f16cf9464d86487d1650a16085": {
          "model_module": "@jupyter-widgets/controls",
          "model_name": "HBoxModel",
          "model_module_version": "1.5.0",
          "state": {
            "_dom_classes": [],
            "_model_module": "@jupyter-widgets/controls",
            "_model_module_version": "1.5.0",
            "_model_name": "HBoxModel",
            "_view_count": null,
            "_view_module": "@jupyter-widgets/controls",
            "_view_module_version": "1.5.0",
            "_view_name": "HBoxView",
            "box_style": "",
            "children": [
              "IPY_MODEL_4fb796f59a8f404db89df9a9b5225a7f",
              "IPY_MODEL_c7ab0b3bcd9b443d9c3f83f0c140cde9",
              "IPY_MODEL_7819db8585ac412197b6787711c2c9e8"
            ],
            "layout": "IPY_MODEL_61bbd72e0b28433c92c2737ca36e8acf"
          }
        },
        "4fb796f59a8f404db89df9a9b5225a7f": {
          "model_module": "@jupyter-widgets/controls",
          "model_name": "HTMLModel",
          "model_module_version": "1.5.0",
          "state": {
            "_dom_classes": [],
            "_model_module": "@jupyter-widgets/controls",
            "_model_module_version": "1.5.0",
            "_model_name": "HTMLModel",
            "_view_count": null,
            "_view_module": "@jupyter-widgets/controls",
            "_view_module_version": "1.5.0",
            "_view_name": "HTMLView",
            "description": "",
            "description_tooltip": null,
            "layout": "IPY_MODEL_640bac7852ee4407bfd4ed432c55ff08",
            "placeholder": "​",
            "style": "IPY_MODEL_c2978f45a44244e28d1a4702f0065945",
            "value": "Filter: 100%"
          }
        },
        "c7ab0b3bcd9b443d9c3f83f0c140cde9": {
          "model_module": "@jupyter-widgets/controls",
          "model_name": "FloatProgressModel",
          "model_module_version": "1.5.0",
          "state": {
            "_dom_classes": [],
            "_model_module": "@jupyter-widgets/controls",
            "_model_module_version": "1.5.0",
            "_model_name": "FloatProgressModel",
            "_view_count": null,
            "_view_module": "@jupyter-widgets/controls",
            "_view_module_version": "1.5.0",
            "_view_name": "ProgressView",
            "bar_style": "success",
            "description": "",
            "description_tooltip": null,
            "layout": "IPY_MODEL_74aab16bf1324c8698ae35d3fbb6e28f",
            "max": 8414,
            "min": 0,
            "orientation": "horizontal",
            "style": "IPY_MODEL_dffad1f0387c4e718875e910f9363d77",
            "value": 8414
          }
        },
        "7819db8585ac412197b6787711c2c9e8": {
          "model_module": "@jupyter-widgets/controls",
          "model_name": "HTMLModel",
          "model_module_version": "1.5.0",
          "state": {
            "_dom_classes": [],
            "_model_module": "@jupyter-widgets/controls",
            "_model_module_version": "1.5.0",
            "_model_name": "HTMLModel",
            "_view_count": null,
            "_view_module": "@jupyter-widgets/controls",
            "_view_module_version": "1.5.0",
            "_view_name": "HTMLView",
            "description": "",
            "description_tooltip": null,
            "layout": "IPY_MODEL_73f4f4f29ad048e6a0b79dc7ed04e8b6",
            "placeholder": "​",
            "style": "IPY_MODEL_601a54b436e4429d8ef957259f3af474",
            "value": " 8414/8414 [00:00&lt;00:00, 28709.93 examples/s]"
          }
        },
        "61bbd72e0b28433c92c2737ca36e8acf": {
          "model_module": "@jupyter-widgets/base",
          "model_name": "LayoutModel",
          "model_module_version": "1.2.0",
          "state": {
            "_model_module": "@jupyter-widgets/base",
            "_model_module_version": "1.2.0",
            "_model_name": "LayoutModel",
            "_view_count": null,
            "_view_module": "@jupyter-widgets/base",
            "_view_module_version": "1.2.0",
            "_view_name": "LayoutView",
            "align_content": null,
            "align_items": null,
            "align_self": null,
            "border": null,
            "bottom": null,
            "display": null,
            "flex": null,
            "flex_flow": null,
            "grid_area": null,
            "grid_auto_columns": null,
            "grid_auto_flow": null,
            "grid_auto_rows": null,
            "grid_column": null,
            "grid_gap": null,
            "grid_row": null,
            "grid_template_areas": null,
            "grid_template_columns": null,
            "grid_template_rows": null,
            "height": null,
            "justify_content": null,
            "justify_items": null,
            "left": null,
            "margin": null,
            "max_height": null,
            "max_width": null,
            "min_height": null,
            "min_width": null,
            "object_fit": null,
            "object_position": null,
            "order": null,
            "overflow": null,
            "overflow_x": null,
            "overflow_y": null,
            "padding": null,
            "right": null,
            "top": null,
            "visibility": null,
            "width": null
          }
        },
        "640bac7852ee4407bfd4ed432c55ff08": {
          "model_module": "@jupyter-widgets/base",
          "model_name": "LayoutModel",
          "model_module_version": "1.2.0",
          "state": {
            "_model_module": "@jupyter-widgets/base",
            "_model_module_version": "1.2.0",
            "_model_name": "LayoutModel",
            "_view_count": null,
            "_view_module": "@jupyter-widgets/base",
            "_view_module_version": "1.2.0",
            "_view_name": "LayoutView",
            "align_content": null,
            "align_items": null,
            "align_self": null,
            "border": null,
            "bottom": null,
            "display": null,
            "flex": null,
            "flex_flow": null,
            "grid_area": null,
            "grid_auto_columns": null,
            "grid_auto_flow": null,
            "grid_auto_rows": null,
            "grid_column": null,
            "grid_gap": null,
            "grid_row": null,
            "grid_template_areas": null,
            "grid_template_columns": null,
            "grid_template_rows": null,
            "height": null,
            "justify_content": null,
            "justify_items": null,
            "left": null,
            "margin": null,
            "max_height": null,
            "max_width": null,
            "min_height": null,
            "min_width": null,
            "object_fit": null,
            "object_position": null,
            "order": null,
            "overflow": null,
            "overflow_x": null,
            "overflow_y": null,
            "padding": null,
            "right": null,
            "top": null,
            "visibility": null,
            "width": null
          }
        },
        "c2978f45a44244e28d1a4702f0065945": {
          "model_module": "@jupyter-widgets/controls",
          "model_name": "DescriptionStyleModel",
          "model_module_version": "1.5.0",
          "state": {
            "_model_module": "@jupyter-widgets/controls",
            "_model_module_version": "1.5.0",
            "_model_name": "DescriptionStyleModel",
            "_view_count": null,
            "_view_module": "@jupyter-widgets/base",
            "_view_module_version": "1.2.0",
            "_view_name": "StyleView",
            "description_width": ""
          }
        },
        "74aab16bf1324c8698ae35d3fbb6e28f": {
          "model_module": "@jupyter-widgets/base",
          "model_name": "LayoutModel",
          "model_module_version": "1.2.0",
          "state": {
            "_model_module": "@jupyter-widgets/base",
            "_model_module_version": "1.2.0",
            "_model_name": "LayoutModel",
            "_view_count": null,
            "_view_module": "@jupyter-widgets/base",
            "_view_module_version": "1.2.0",
            "_view_name": "LayoutView",
            "align_content": null,
            "align_items": null,
            "align_self": null,
            "border": null,
            "bottom": null,
            "display": null,
            "flex": null,
            "flex_flow": null,
            "grid_area": null,
            "grid_auto_columns": null,
            "grid_auto_flow": null,
            "grid_auto_rows": null,
            "grid_column": null,
            "grid_gap": null,
            "grid_row": null,
            "grid_template_areas": null,
            "grid_template_columns": null,
            "grid_template_rows": null,
            "height": null,
            "justify_content": null,
            "justify_items": null,
            "left": null,
            "margin": null,
            "max_height": null,
            "max_width": null,
            "min_height": null,
            "min_width": null,
            "object_fit": null,
            "object_position": null,
            "order": null,
            "overflow": null,
            "overflow_x": null,
            "overflow_y": null,
            "padding": null,
            "right": null,
            "top": null,
            "visibility": null,
            "width": null
          }
        },
        "dffad1f0387c4e718875e910f9363d77": {
          "model_module": "@jupyter-widgets/controls",
          "model_name": "ProgressStyleModel",
          "model_module_version": "1.5.0",
          "state": {
            "_model_module": "@jupyter-widgets/controls",
            "_model_module_version": "1.5.0",
            "_model_name": "ProgressStyleModel",
            "_view_count": null,
            "_view_module": "@jupyter-widgets/base",
            "_view_module_version": "1.2.0",
            "_view_name": "StyleView",
            "bar_color": null,
            "description_width": ""
          }
        },
        "73f4f4f29ad048e6a0b79dc7ed04e8b6": {
          "model_module": "@jupyter-widgets/base",
          "model_name": "LayoutModel",
          "model_module_version": "1.2.0",
          "state": {
            "_model_module": "@jupyter-widgets/base",
            "_model_module_version": "1.2.0",
            "_model_name": "LayoutModel",
            "_view_count": null,
            "_view_module": "@jupyter-widgets/base",
            "_view_module_version": "1.2.0",
            "_view_name": "LayoutView",
            "align_content": null,
            "align_items": null,
            "align_self": null,
            "border": null,
            "bottom": null,
            "display": null,
            "flex": null,
            "flex_flow": null,
            "grid_area": null,
            "grid_auto_columns": null,
            "grid_auto_flow": null,
            "grid_auto_rows": null,
            "grid_column": null,
            "grid_gap": null,
            "grid_row": null,
            "grid_template_areas": null,
            "grid_template_columns": null,
            "grid_template_rows": null,
            "height": null,
            "justify_content": null,
            "justify_items": null,
            "left": null,
            "margin": null,
            "max_height": null,
            "max_width": null,
            "min_height": null,
            "min_width": null,
            "object_fit": null,
            "object_position": null,
            "order": null,
            "overflow": null,
            "overflow_x": null,
            "overflow_y": null,
            "padding": null,
            "right": null,
            "top": null,
            "visibility": null,
            "width": null
          }
        },
        "601a54b436e4429d8ef957259f3af474": {
          "model_module": "@jupyter-widgets/controls",
          "model_name": "DescriptionStyleModel",
          "model_module_version": "1.5.0",
          "state": {
            "_model_module": "@jupyter-widgets/controls",
            "_model_module_version": "1.5.0",
            "_model_name": "DescriptionStyleModel",
            "_view_count": null,
            "_view_module": "@jupyter-widgets/base",
            "_view_module_version": "1.2.0",
            "_view_name": "StyleView",
            "description_width": ""
          }
        },
        "40f1b62d0b5c49ac9f977fb0d660f234": {
          "model_module": "@jupyter-widgets/controls",
          "model_name": "HBoxModel",
          "model_module_version": "1.5.0",
          "state": {
            "_dom_classes": [],
            "_model_module": "@jupyter-widgets/controls",
            "_model_module_version": "1.5.0",
            "_model_name": "HBoxModel",
            "_view_count": null,
            "_view_module": "@jupyter-widgets/controls",
            "_view_module_version": "1.5.0",
            "_view_name": "HBoxView",
            "box_style": "",
            "children": [
              "IPY_MODEL_8de8819aa7d2438983147b018a347c47",
              "IPY_MODEL_31d1e1a2b9e446ec93120061f37f0b25",
              "IPY_MODEL_d5b190a80e6f4bb68f07735edda5fbd6"
            ],
            "layout": "IPY_MODEL_db284a0b02a244268e3ccf8cb20cdeb4"
          }
        },
        "8de8819aa7d2438983147b018a347c47": {
          "model_module": "@jupyter-widgets/controls",
          "model_name": "HTMLModel",
          "model_module_version": "1.5.0",
          "state": {
            "_dom_classes": [],
            "_model_module": "@jupyter-widgets/controls",
            "_model_module_version": "1.5.0",
            "_model_name": "HTMLModel",
            "_view_count": null,
            "_view_module": "@jupyter-widgets/controls",
            "_view_module_version": "1.5.0",
            "_view_name": "HTMLView",
            "description": "",
            "description_tooltip": null,
            "layout": "IPY_MODEL_2e36436d057846d3b806abb9265652a2",
            "placeholder": "​",
            "style": "IPY_MODEL_8d5dffd8304549cd86abe6507c56d229",
            "value": "Map: 100%"
          }
        },
        "31d1e1a2b9e446ec93120061f37f0b25": {
          "model_module": "@jupyter-widgets/controls",
          "model_name": "FloatProgressModel",
          "model_module_version": "1.5.0",
          "state": {
            "_dom_classes": [],
            "_model_module": "@jupyter-widgets/controls",
            "_model_module_version": "1.5.0",
            "_model_name": "FloatProgressModel",
            "_view_count": null,
            "_view_module": "@jupyter-widgets/controls",
            "_view_module_version": "1.5.0",
            "_view_name": "ProgressView",
            "bar_style": "success",
            "description": "",
            "description_tooltip": null,
            "layout": "IPY_MODEL_a1f70b65ccd8489fa89cdba8a434c552",
            "max": 33539,
            "min": 0,
            "orientation": "horizontal",
            "style": "IPY_MODEL_75eddc15bb1149289ff9015876ed308f",
            "value": 33539
          }
        },
        "d5b190a80e6f4bb68f07735edda5fbd6": {
          "model_module": "@jupyter-widgets/controls",
          "model_name": "HTMLModel",
          "model_module_version": "1.5.0",
          "state": {
            "_dom_classes": [],
            "_model_module": "@jupyter-widgets/controls",
            "_model_module_version": "1.5.0",
            "_model_name": "HTMLModel",
            "_view_count": null,
            "_view_module": "@jupyter-widgets/controls",
            "_view_module_version": "1.5.0",
            "_view_name": "HTMLView",
            "description": "",
            "description_tooltip": null,
            "layout": "IPY_MODEL_9a71692d2a5b423d916eb1e2aa137b00",
            "placeholder": "​",
            "style": "IPY_MODEL_b0d4e244886f462c889af4fe7b46948c",
            "value": " 33539/33539 [00:08&lt;00:00, 3704.38 examples/s]"
          }
        },
        "db284a0b02a244268e3ccf8cb20cdeb4": {
          "model_module": "@jupyter-widgets/base",
          "model_name": "LayoutModel",
          "model_module_version": "1.2.0",
          "state": {
            "_model_module": "@jupyter-widgets/base",
            "_model_module_version": "1.2.0",
            "_model_name": "LayoutModel",
            "_view_count": null,
            "_view_module": "@jupyter-widgets/base",
            "_view_module_version": "1.2.0",
            "_view_name": "LayoutView",
            "align_content": null,
            "align_items": null,
            "align_self": null,
            "border": null,
            "bottom": null,
            "display": null,
            "flex": null,
            "flex_flow": null,
            "grid_area": null,
            "grid_auto_columns": null,
            "grid_auto_flow": null,
            "grid_auto_rows": null,
            "grid_column": null,
            "grid_gap": null,
            "grid_row": null,
            "grid_template_areas": null,
            "grid_template_columns": null,
            "grid_template_rows": null,
            "height": null,
            "justify_content": null,
            "justify_items": null,
            "left": null,
            "margin": null,
            "max_height": null,
            "max_width": null,
            "min_height": null,
            "min_width": null,
            "object_fit": null,
            "object_position": null,
            "order": null,
            "overflow": null,
            "overflow_x": null,
            "overflow_y": null,
            "padding": null,
            "right": null,
            "top": null,
            "visibility": null,
            "width": null
          }
        },
        "2e36436d057846d3b806abb9265652a2": {
          "model_module": "@jupyter-widgets/base",
          "model_name": "LayoutModel",
          "model_module_version": "1.2.0",
          "state": {
            "_model_module": "@jupyter-widgets/base",
            "_model_module_version": "1.2.0",
            "_model_name": "LayoutModel",
            "_view_count": null,
            "_view_module": "@jupyter-widgets/base",
            "_view_module_version": "1.2.0",
            "_view_name": "LayoutView",
            "align_content": null,
            "align_items": null,
            "align_self": null,
            "border": null,
            "bottom": null,
            "display": null,
            "flex": null,
            "flex_flow": null,
            "grid_area": null,
            "grid_auto_columns": null,
            "grid_auto_flow": null,
            "grid_auto_rows": null,
            "grid_column": null,
            "grid_gap": null,
            "grid_row": null,
            "grid_template_areas": null,
            "grid_template_columns": null,
            "grid_template_rows": null,
            "height": null,
            "justify_content": null,
            "justify_items": null,
            "left": null,
            "margin": null,
            "max_height": null,
            "max_width": null,
            "min_height": null,
            "min_width": null,
            "object_fit": null,
            "object_position": null,
            "order": null,
            "overflow": null,
            "overflow_x": null,
            "overflow_y": null,
            "padding": null,
            "right": null,
            "top": null,
            "visibility": null,
            "width": null
          }
        },
        "8d5dffd8304549cd86abe6507c56d229": {
          "model_module": "@jupyter-widgets/controls",
          "model_name": "DescriptionStyleModel",
          "model_module_version": "1.5.0",
          "state": {
            "_model_module": "@jupyter-widgets/controls",
            "_model_module_version": "1.5.0",
            "_model_name": "DescriptionStyleModel",
            "_view_count": null,
            "_view_module": "@jupyter-widgets/base",
            "_view_module_version": "1.2.0",
            "_view_name": "StyleView",
            "description_width": ""
          }
        },
        "a1f70b65ccd8489fa89cdba8a434c552": {
          "model_module": "@jupyter-widgets/base",
          "model_name": "LayoutModel",
          "model_module_version": "1.2.0",
          "state": {
            "_model_module": "@jupyter-widgets/base",
            "_model_module_version": "1.2.0",
            "_model_name": "LayoutModel",
            "_view_count": null,
            "_view_module": "@jupyter-widgets/base",
            "_view_module_version": "1.2.0",
            "_view_name": "LayoutView",
            "align_content": null,
            "align_items": null,
            "align_self": null,
            "border": null,
            "bottom": null,
            "display": null,
            "flex": null,
            "flex_flow": null,
            "grid_area": null,
            "grid_auto_columns": null,
            "grid_auto_flow": null,
            "grid_auto_rows": null,
            "grid_column": null,
            "grid_gap": null,
            "grid_row": null,
            "grid_template_areas": null,
            "grid_template_columns": null,
            "grid_template_rows": null,
            "height": null,
            "justify_content": null,
            "justify_items": null,
            "left": null,
            "margin": null,
            "max_height": null,
            "max_width": null,
            "min_height": null,
            "min_width": null,
            "object_fit": null,
            "object_position": null,
            "order": null,
            "overflow": null,
            "overflow_x": null,
            "overflow_y": null,
            "padding": null,
            "right": null,
            "top": null,
            "visibility": null,
            "width": null
          }
        },
        "75eddc15bb1149289ff9015876ed308f": {
          "model_module": "@jupyter-widgets/controls",
          "model_name": "ProgressStyleModel",
          "model_module_version": "1.5.0",
          "state": {
            "_model_module": "@jupyter-widgets/controls",
            "_model_module_version": "1.5.0",
            "_model_name": "ProgressStyleModel",
            "_view_count": null,
            "_view_module": "@jupyter-widgets/base",
            "_view_module_version": "1.2.0",
            "_view_name": "StyleView",
            "bar_color": null,
            "description_width": ""
          }
        },
        "9a71692d2a5b423d916eb1e2aa137b00": {
          "model_module": "@jupyter-widgets/base",
          "model_name": "LayoutModel",
          "model_module_version": "1.2.0",
          "state": {
            "_model_module": "@jupyter-widgets/base",
            "_model_module_version": "1.2.0",
            "_model_name": "LayoutModel",
            "_view_count": null,
            "_view_module": "@jupyter-widgets/base",
            "_view_module_version": "1.2.0",
            "_view_name": "LayoutView",
            "align_content": null,
            "align_items": null,
            "align_self": null,
            "border": null,
            "bottom": null,
            "display": null,
            "flex": null,
            "flex_flow": null,
            "grid_area": null,
            "grid_auto_columns": null,
            "grid_auto_flow": null,
            "grid_auto_rows": null,
            "grid_column": null,
            "grid_gap": null,
            "grid_row": null,
            "grid_template_areas": null,
            "grid_template_columns": null,
            "grid_template_rows": null,
            "height": null,
            "justify_content": null,
            "justify_items": null,
            "left": null,
            "margin": null,
            "max_height": null,
            "max_width": null,
            "min_height": null,
            "min_width": null,
            "object_fit": null,
            "object_position": null,
            "order": null,
            "overflow": null,
            "overflow_x": null,
            "overflow_y": null,
            "padding": null,
            "right": null,
            "top": null,
            "visibility": null,
            "width": null
          }
        },
        "b0d4e244886f462c889af4fe7b46948c": {
          "model_module": "@jupyter-widgets/controls",
          "model_name": "DescriptionStyleModel",
          "model_module_version": "1.5.0",
          "state": {
            "_model_module": "@jupyter-widgets/controls",
            "_model_module_version": "1.5.0",
            "_model_name": "DescriptionStyleModel",
            "_view_count": null,
            "_view_module": "@jupyter-widgets/base",
            "_view_module_version": "1.2.0",
            "_view_name": "StyleView",
            "description_width": ""
          }
        },
        "4fecb95235234a12ba87684bf8545e73": {
          "model_module": "@jupyter-widgets/controls",
          "model_name": "HBoxModel",
          "model_module_version": "1.5.0",
          "state": {
            "_dom_classes": [],
            "_model_module": "@jupyter-widgets/controls",
            "_model_module_version": "1.5.0",
            "_model_name": "HBoxModel",
            "_view_count": null,
            "_view_module": "@jupyter-widgets/controls",
            "_view_module_version": "1.5.0",
            "_view_name": "HBoxView",
            "box_style": "",
            "children": [
              "IPY_MODEL_7461a84f42104add9d23b38c115564af",
              "IPY_MODEL_cd6423c7ac3e4a318cd30a2cf7b6ce3d",
              "IPY_MODEL_9c7ab60b1057493894a323727241cb13"
            ],
            "layout": "IPY_MODEL_318f763c4dc14dd1a5c254d6a9af3481"
          }
        },
        "7461a84f42104add9d23b38c115564af": {
          "model_module": "@jupyter-widgets/controls",
          "model_name": "HTMLModel",
          "model_module_version": "1.5.0",
          "state": {
            "_dom_classes": [],
            "_model_module": "@jupyter-widgets/controls",
            "_model_module_version": "1.5.0",
            "_model_name": "HTMLModel",
            "_view_count": null,
            "_view_module": "@jupyter-widgets/controls",
            "_view_module_version": "1.5.0",
            "_view_name": "HTMLView",
            "description": "",
            "description_tooltip": null,
            "layout": "IPY_MODEL_2a8c5377e6bc497e8d25b1c9e4dda2b5",
            "placeholder": "​",
            "style": "IPY_MODEL_1ebe56f3092841b3bf34106e8ff22919",
            "value": "Map: 100%"
          }
        },
        "cd6423c7ac3e4a318cd30a2cf7b6ce3d": {
          "model_module": "@jupyter-widgets/controls",
          "model_name": "FloatProgressModel",
          "model_module_version": "1.5.0",
          "state": {
            "_dom_classes": [],
            "_model_module": "@jupyter-widgets/controls",
            "_model_module_version": "1.5.0",
            "_model_name": "FloatProgressModel",
            "_view_count": null,
            "_view_module": "@jupyter-widgets/controls",
            "_view_module_version": "1.5.0",
            "_view_name": "ProgressView",
            "bar_style": "success",
            "description": "",
            "description_tooltip": null,
            "layout": "IPY_MODEL_dfcd5d617d8a40fe8e796027e2df59e3",
            "max": 8392,
            "min": 0,
            "orientation": "horizontal",
            "style": "IPY_MODEL_1b05a97371944d29ad58c4214b8bee13",
            "value": 8392
          }
        },
        "9c7ab60b1057493894a323727241cb13": {
          "model_module": "@jupyter-widgets/controls",
          "model_name": "HTMLModel",
          "model_module_version": "1.5.0",
          "state": {
            "_dom_classes": [],
            "_model_module": "@jupyter-widgets/controls",
            "_model_module_version": "1.5.0",
            "_model_name": "HTMLModel",
            "_view_count": null,
            "_view_module": "@jupyter-widgets/controls",
            "_view_module_version": "1.5.0",
            "_view_name": "HTMLView",
            "description": "",
            "description_tooltip": null,
            "layout": "IPY_MODEL_7f580f0f4fab4a25bddfb0aaa146e47a",
            "placeholder": "​",
            "style": "IPY_MODEL_64d2f7f6616e48bc9cf55baa01e30199",
            "value": " 8392/8392 [00:01&lt;00:00, 8200.34 examples/s]"
          }
        },
        "318f763c4dc14dd1a5c254d6a9af3481": {
          "model_module": "@jupyter-widgets/base",
          "model_name": "LayoutModel",
          "model_module_version": "1.2.0",
          "state": {
            "_model_module": "@jupyter-widgets/base",
            "_model_module_version": "1.2.0",
            "_model_name": "LayoutModel",
            "_view_count": null,
            "_view_module": "@jupyter-widgets/base",
            "_view_module_version": "1.2.0",
            "_view_name": "LayoutView",
            "align_content": null,
            "align_items": null,
            "align_self": null,
            "border": null,
            "bottom": null,
            "display": null,
            "flex": null,
            "flex_flow": null,
            "grid_area": null,
            "grid_auto_columns": null,
            "grid_auto_flow": null,
            "grid_auto_rows": null,
            "grid_column": null,
            "grid_gap": null,
            "grid_row": null,
            "grid_template_areas": null,
            "grid_template_columns": null,
            "grid_template_rows": null,
            "height": null,
            "justify_content": null,
            "justify_items": null,
            "left": null,
            "margin": null,
            "max_height": null,
            "max_width": null,
            "min_height": null,
            "min_width": null,
            "object_fit": null,
            "object_position": null,
            "order": null,
            "overflow": null,
            "overflow_x": null,
            "overflow_y": null,
            "padding": null,
            "right": null,
            "top": null,
            "visibility": null,
            "width": null
          }
        },
        "2a8c5377e6bc497e8d25b1c9e4dda2b5": {
          "model_module": "@jupyter-widgets/base",
          "model_name": "LayoutModel",
          "model_module_version": "1.2.0",
          "state": {
            "_model_module": "@jupyter-widgets/base",
            "_model_module_version": "1.2.0",
            "_model_name": "LayoutModel",
            "_view_count": null,
            "_view_module": "@jupyter-widgets/base",
            "_view_module_version": "1.2.0",
            "_view_name": "LayoutView",
            "align_content": null,
            "align_items": null,
            "align_self": null,
            "border": null,
            "bottom": null,
            "display": null,
            "flex": null,
            "flex_flow": null,
            "grid_area": null,
            "grid_auto_columns": null,
            "grid_auto_flow": null,
            "grid_auto_rows": null,
            "grid_column": null,
            "grid_gap": null,
            "grid_row": null,
            "grid_template_areas": null,
            "grid_template_columns": null,
            "grid_template_rows": null,
            "height": null,
            "justify_content": null,
            "justify_items": null,
            "left": null,
            "margin": null,
            "max_height": null,
            "max_width": null,
            "min_height": null,
            "min_width": null,
            "object_fit": null,
            "object_position": null,
            "order": null,
            "overflow": null,
            "overflow_x": null,
            "overflow_y": null,
            "padding": null,
            "right": null,
            "top": null,
            "visibility": null,
            "width": null
          }
        },
        "1ebe56f3092841b3bf34106e8ff22919": {
          "model_module": "@jupyter-widgets/controls",
          "model_name": "DescriptionStyleModel",
          "model_module_version": "1.5.0",
          "state": {
            "_model_module": "@jupyter-widgets/controls",
            "_model_module_version": "1.5.0",
            "_model_name": "DescriptionStyleModel",
            "_view_count": null,
            "_view_module": "@jupyter-widgets/base",
            "_view_module_version": "1.2.0",
            "_view_name": "StyleView",
            "description_width": ""
          }
        },
        "dfcd5d617d8a40fe8e796027e2df59e3": {
          "model_module": "@jupyter-widgets/base",
          "model_name": "LayoutModel",
          "model_module_version": "1.2.0",
          "state": {
            "_model_module": "@jupyter-widgets/base",
            "_model_module_version": "1.2.0",
            "_model_name": "LayoutModel",
            "_view_count": null,
            "_view_module": "@jupyter-widgets/base",
            "_view_module_version": "1.2.0",
            "_view_name": "LayoutView",
            "align_content": null,
            "align_items": null,
            "align_self": null,
            "border": null,
            "bottom": null,
            "display": null,
            "flex": null,
            "flex_flow": null,
            "grid_area": null,
            "grid_auto_columns": null,
            "grid_auto_flow": null,
            "grid_auto_rows": null,
            "grid_column": null,
            "grid_gap": null,
            "grid_row": null,
            "grid_template_areas": null,
            "grid_template_columns": null,
            "grid_template_rows": null,
            "height": null,
            "justify_content": null,
            "justify_items": null,
            "left": null,
            "margin": null,
            "max_height": null,
            "max_width": null,
            "min_height": null,
            "min_width": null,
            "object_fit": null,
            "object_position": null,
            "order": null,
            "overflow": null,
            "overflow_x": null,
            "overflow_y": null,
            "padding": null,
            "right": null,
            "top": null,
            "visibility": null,
            "width": null
          }
        },
        "1b05a97371944d29ad58c4214b8bee13": {
          "model_module": "@jupyter-widgets/controls",
          "model_name": "ProgressStyleModel",
          "model_module_version": "1.5.0",
          "state": {
            "_model_module": "@jupyter-widgets/controls",
            "_model_module_version": "1.5.0",
            "_model_name": "ProgressStyleModel",
            "_view_count": null,
            "_view_module": "@jupyter-widgets/base",
            "_view_module_version": "1.2.0",
            "_view_name": "StyleView",
            "bar_color": null,
            "description_width": ""
          }
        },
        "7f580f0f4fab4a25bddfb0aaa146e47a": {
          "model_module": "@jupyter-widgets/base",
          "model_name": "LayoutModel",
          "model_module_version": "1.2.0",
          "state": {
            "_model_module": "@jupyter-widgets/base",
            "_model_module_version": "1.2.0",
            "_model_name": "LayoutModel",
            "_view_count": null,
            "_view_module": "@jupyter-widgets/base",
            "_view_module_version": "1.2.0",
            "_view_name": "LayoutView",
            "align_content": null,
            "align_items": null,
            "align_self": null,
            "border": null,
            "bottom": null,
            "display": null,
            "flex": null,
            "flex_flow": null,
            "grid_area": null,
            "grid_auto_columns": null,
            "grid_auto_flow": null,
            "grid_auto_rows": null,
            "grid_column": null,
            "grid_gap": null,
            "grid_row": null,
            "grid_template_areas": null,
            "grid_template_columns": null,
            "grid_template_rows": null,
            "height": null,
            "justify_content": null,
            "justify_items": null,
            "left": null,
            "margin": null,
            "max_height": null,
            "max_width": null,
            "min_height": null,
            "min_width": null,
            "object_fit": null,
            "object_position": null,
            "order": null,
            "overflow": null,
            "overflow_x": null,
            "overflow_y": null,
            "padding": null,
            "right": null,
            "top": null,
            "visibility": null,
            "width": null
          }
        },
        "64d2f7f6616e48bc9cf55baa01e30199": {
          "model_module": "@jupyter-widgets/controls",
          "model_name": "DescriptionStyleModel",
          "model_module_version": "1.5.0",
          "state": {
            "_model_module": "@jupyter-widgets/controls",
            "_model_module_version": "1.5.0",
            "_model_name": "DescriptionStyleModel",
            "_view_count": null,
            "_view_module": "@jupyter-widgets/base",
            "_view_module_version": "1.2.0",
            "_view_name": "StyleView",
            "description_width": ""
          }
        },
        "f2336f0865024640a10be5e4140debf6": {
          "model_module": "@jupyter-widgets/controls",
          "model_name": "HBoxModel",
          "model_module_version": "1.5.0",
          "state": {
            "_dom_classes": [],
            "_model_module": "@jupyter-widgets/controls",
            "_model_module_version": "1.5.0",
            "_model_name": "HBoxModel",
            "_view_count": null,
            "_view_module": "@jupyter-widgets/controls",
            "_view_module_version": "1.5.0",
            "_view_name": "HBoxView",
            "box_style": "",
            "children": [
              "IPY_MODEL_15f3d6b0ada64bd5bd8a30eee574c0f5",
              "IPY_MODEL_4bd4db1c2d28499d8bda4909afa9ce48",
              "IPY_MODEL_a6e530959aa442d68dbdf0cd88ebbe67"
            ],
            "layout": "IPY_MODEL_bc57c01a9f3f402d97a6633a18303c85"
          }
        },
        "15f3d6b0ada64bd5bd8a30eee574c0f5": {
          "model_module": "@jupyter-widgets/controls",
          "model_name": "HTMLModel",
          "model_module_version": "1.5.0",
          "state": {
            "_dom_classes": [],
            "_model_module": "@jupyter-widgets/controls",
            "_model_module_version": "1.5.0",
            "_model_name": "HTMLModel",
            "_view_count": null,
            "_view_module": "@jupyter-widgets/controls",
            "_view_module_version": "1.5.0",
            "_view_name": "HTMLView",
            "description": "",
            "description_tooltip": null,
            "layout": "IPY_MODEL_d332c534181d4dcabe065dbe915fe3aa",
            "placeholder": "​",
            "style": "IPY_MODEL_5fcc8779e3f649d188d52e68f2255b8b",
            "value": "Downloading data: 100%"
          }
        },
        "4bd4db1c2d28499d8bda4909afa9ce48": {
          "model_module": "@jupyter-widgets/controls",
          "model_name": "FloatProgressModel",
          "model_module_version": "1.5.0",
          "state": {
            "_dom_classes": [],
            "_model_module": "@jupyter-widgets/controls",
            "_model_module_version": "1.5.0",
            "_model_name": "FloatProgressModel",
            "_view_count": null,
            "_view_module": "@jupyter-widgets/controls",
            "_view_module_version": "1.5.0",
            "_view_name": "ProgressView",
            "bar_style": "success",
            "description": "",
            "description_tooltip": null,
            "layout": "IPY_MODEL_1fff6228838142d98388b93fbe4670d4",
            "max": 2961439,
            "min": 0,
            "orientation": "horizontal",
            "style": "IPY_MODEL_e818ece5fc4445c78ea7e953ed0e6805",
            "value": 2961439
          }
        },
        "a6e530959aa442d68dbdf0cd88ebbe67": {
          "model_module": "@jupyter-widgets/controls",
          "model_name": "HTMLModel",
          "model_module_version": "1.5.0",
          "state": {
            "_dom_classes": [],
            "_model_module": "@jupyter-widgets/controls",
            "_model_module_version": "1.5.0",
            "_model_name": "HTMLModel",
            "_view_count": null,
            "_view_module": "@jupyter-widgets/controls",
            "_view_module_version": "1.5.0",
            "_view_name": "HTMLView",
            "description": "",
            "description_tooltip": null,
            "layout": "IPY_MODEL_29a2388a3c22482482ca48bc85fda706",
            "placeholder": "​",
            "style": "IPY_MODEL_52a9285bd5b346e2b0f710e01e933009",
            "value": " 2.96M/2.96M [00:00&lt;00:00, 8.09MB/s]"
          }
        },
        "bc57c01a9f3f402d97a6633a18303c85": {
          "model_module": "@jupyter-widgets/base",
          "model_name": "LayoutModel",
          "model_module_version": "1.2.0",
          "state": {
            "_model_module": "@jupyter-widgets/base",
            "_model_module_version": "1.2.0",
            "_model_name": "LayoutModel",
            "_view_count": null,
            "_view_module": "@jupyter-widgets/base",
            "_view_module_version": "1.2.0",
            "_view_name": "LayoutView",
            "align_content": null,
            "align_items": null,
            "align_self": null,
            "border": null,
            "bottom": null,
            "display": null,
            "flex": null,
            "flex_flow": null,
            "grid_area": null,
            "grid_auto_columns": null,
            "grid_auto_flow": null,
            "grid_auto_rows": null,
            "grid_column": null,
            "grid_gap": null,
            "grid_row": null,
            "grid_template_areas": null,
            "grid_template_columns": null,
            "grid_template_rows": null,
            "height": null,
            "justify_content": null,
            "justify_items": null,
            "left": null,
            "margin": null,
            "max_height": null,
            "max_width": null,
            "min_height": null,
            "min_width": null,
            "object_fit": null,
            "object_position": null,
            "order": null,
            "overflow": null,
            "overflow_x": null,
            "overflow_y": null,
            "padding": null,
            "right": null,
            "top": null,
            "visibility": null,
            "width": null
          }
        },
        "d332c534181d4dcabe065dbe915fe3aa": {
          "model_module": "@jupyter-widgets/base",
          "model_name": "LayoutModel",
          "model_module_version": "1.2.0",
          "state": {
            "_model_module": "@jupyter-widgets/base",
            "_model_module_version": "1.2.0",
            "_model_name": "LayoutModel",
            "_view_count": null,
            "_view_module": "@jupyter-widgets/base",
            "_view_module_version": "1.2.0",
            "_view_name": "LayoutView",
            "align_content": null,
            "align_items": null,
            "align_self": null,
            "border": null,
            "bottom": null,
            "display": null,
            "flex": null,
            "flex_flow": null,
            "grid_area": null,
            "grid_auto_columns": null,
            "grid_auto_flow": null,
            "grid_auto_rows": null,
            "grid_column": null,
            "grid_gap": null,
            "grid_row": null,
            "grid_template_areas": null,
            "grid_template_columns": null,
            "grid_template_rows": null,
            "height": null,
            "justify_content": null,
            "justify_items": null,
            "left": null,
            "margin": null,
            "max_height": null,
            "max_width": null,
            "min_height": null,
            "min_width": null,
            "object_fit": null,
            "object_position": null,
            "order": null,
            "overflow": null,
            "overflow_x": null,
            "overflow_y": null,
            "padding": null,
            "right": null,
            "top": null,
            "visibility": null,
            "width": null
          }
        },
        "5fcc8779e3f649d188d52e68f2255b8b": {
          "model_module": "@jupyter-widgets/controls",
          "model_name": "DescriptionStyleModel",
          "model_module_version": "1.5.0",
          "state": {
            "_model_module": "@jupyter-widgets/controls",
            "_model_module_version": "1.5.0",
            "_model_name": "DescriptionStyleModel",
            "_view_count": null,
            "_view_module": "@jupyter-widgets/base",
            "_view_module_version": "1.2.0",
            "_view_name": "StyleView",
            "description_width": ""
          }
        },
        "1fff6228838142d98388b93fbe4670d4": {
          "model_module": "@jupyter-widgets/base",
          "model_name": "LayoutModel",
          "model_module_version": "1.2.0",
          "state": {
            "_model_module": "@jupyter-widgets/base",
            "_model_module_version": "1.2.0",
            "_model_name": "LayoutModel",
            "_view_count": null,
            "_view_module": "@jupyter-widgets/base",
            "_view_module_version": "1.2.0",
            "_view_name": "LayoutView",
            "align_content": null,
            "align_items": null,
            "align_self": null,
            "border": null,
            "bottom": null,
            "display": null,
            "flex": null,
            "flex_flow": null,
            "grid_area": null,
            "grid_auto_columns": null,
            "grid_auto_flow": null,
            "grid_auto_rows": null,
            "grid_column": null,
            "grid_gap": null,
            "grid_row": null,
            "grid_template_areas": null,
            "grid_template_columns": null,
            "grid_template_rows": null,
            "height": null,
            "justify_content": null,
            "justify_items": null,
            "left": null,
            "margin": null,
            "max_height": null,
            "max_width": null,
            "min_height": null,
            "min_width": null,
            "object_fit": null,
            "object_position": null,
            "order": null,
            "overflow": null,
            "overflow_x": null,
            "overflow_y": null,
            "padding": null,
            "right": null,
            "top": null,
            "visibility": null,
            "width": null
          }
        },
        "e818ece5fc4445c78ea7e953ed0e6805": {
          "model_module": "@jupyter-widgets/controls",
          "model_name": "ProgressStyleModel",
          "model_module_version": "1.5.0",
          "state": {
            "_model_module": "@jupyter-widgets/controls",
            "_model_module_version": "1.5.0",
            "_model_name": "ProgressStyleModel",
            "_view_count": null,
            "_view_module": "@jupyter-widgets/base",
            "_view_module_version": "1.2.0",
            "_view_name": "StyleView",
            "bar_color": null,
            "description_width": ""
          }
        },
        "29a2388a3c22482482ca48bc85fda706": {
          "model_module": "@jupyter-widgets/base",
          "model_name": "LayoutModel",
          "model_module_version": "1.2.0",
          "state": {
            "_model_module": "@jupyter-widgets/base",
            "_model_module_version": "1.2.0",
            "_model_name": "LayoutModel",
            "_view_count": null,
            "_view_module": "@jupyter-widgets/base",
            "_view_module_version": "1.2.0",
            "_view_name": "LayoutView",
            "align_content": null,
            "align_items": null,
            "align_self": null,
            "border": null,
            "bottom": null,
            "display": null,
            "flex": null,
            "flex_flow": null,
            "grid_area": null,
            "grid_auto_columns": null,
            "grid_auto_flow": null,
            "grid_auto_rows": null,
            "grid_column": null,
            "grid_gap": null,
            "grid_row": null,
            "grid_template_areas": null,
            "grid_template_columns": null,
            "grid_template_rows": null,
            "height": null,
            "justify_content": null,
            "justify_items": null,
            "left": null,
            "margin": null,
            "max_height": null,
            "max_width": null,
            "min_height": null,
            "min_width": null,
            "object_fit": null,
            "object_position": null,
            "order": null,
            "overflow": null,
            "overflow_x": null,
            "overflow_y": null,
            "padding": null,
            "right": null,
            "top": null,
            "visibility": null,
            "width": null
          }
        },
        "52a9285bd5b346e2b0f710e01e933009": {
          "model_module": "@jupyter-widgets/controls",
          "model_name": "DescriptionStyleModel",
          "model_module_version": "1.5.0",
          "state": {
            "_model_module": "@jupyter-widgets/controls",
            "_model_module_version": "1.5.0",
            "_model_name": "DescriptionStyleModel",
            "_view_count": null,
            "_view_module": "@jupyter-widgets/base",
            "_view_module_version": "1.2.0",
            "_view_name": "StyleView",
            "description_width": ""
          }
        },
        "3762944091ca46b89af73829060a0509": {
          "model_module": "@jupyter-widgets/controls",
          "model_name": "HBoxModel",
          "model_module_version": "1.5.0",
          "state": {
            "_dom_classes": [],
            "_model_module": "@jupyter-widgets/controls",
            "_model_module_version": "1.5.0",
            "_model_name": "HBoxModel",
            "_view_count": null,
            "_view_module": "@jupyter-widgets/controls",
            "_view_module_version": "1.5.0",
            "_view_name": "HBoxView",
            "box_style": "",
            "children": [
              "IPY_MODEL_91fa2b7127a84a67b63dce7eab9a59ab",
              "IPY_MODEL_c0f2ab0165e94cd08eae68e520d593e7",
              "IPY_MODEL_da734687bf6741409ea35a9071221007"
            ],
            "layout": "IPY_MODEL_66f5f18b46924f2c879d1b8f63076347"
          }
        },
        "91fa2b7127a84a67b63dce7eab9a59ab": {
          "model_module": "@jupyter-widgets/controls",
          "model_name": "HTMLModel",
          "model_module_version": "1.5.0",
          "state": {
            "_dom_classes": [],
            "_model_module": "@jupyter-widgets/controls",
            "_model_module_version": "1.5.0",
            "_model_name": "HTMLModel",
            "_view_count": null,
            "_view_module": "@jupyter-widgets/controls",
            "_view_module_version": "1.5.0",
            "_view_name": "HTMLView",
            "description": "",
            "description_tooltip": null,
            "layout": "IPY_MODEL_8962aed213734226a04eefcf5b48ba99",
            "placeholder": "​",
            "style": "IPY_MODEL_a05a6875b16b4700abab9379e1dc1d53",
            "value": "Downloading data: 100%"
          }
        },
        "c0f2ab0165e94cd08eae68e520d593e7": {
          "model_module": "@jupyter-widgets/controls",
          "model_name": "FloatProgressModel",
          "model_module_version": "1.5.0",
          "state": {
            "_dom_classes": [],
            "_model_module": "@jupyter-widgets/controls",
            "_model_module_version": "1.5.0",
            "_model_name": "FloatProgressModel",
            "_view_count": null,
            "_view_module": "@jupyter-widgets/controls",
            "_view_module_version": "1.5.0",
            "_view_name": "ProgressView",
            "bar_style": "success",
            "description": "",
            "description_tooltip": null,
            "layout": "IPY_MODEL_2e19d0eb32ef4ff59b2587764a12e273",
            "max": 261699,
            "min": 0,
            "orientation": "horizontal",
            "style": "IPY_MODEL_9a8d709b440c47e5b85392d9e05e3557",
            "value": 261699
          }
        },
        "da734687bf6741409ea35a9071221007": {
          "model_module": "@jupyter-widgets/controls",
          "model_name": "HTMLModel",
          "model_module_version": "1.5.0",
          "state": {
            "_dom_classes": [],
            "_model_module": "@jupyter-widgets/controls",
            "_model_module_version": "1.5.0",
            "_model_name": "HTMLModel",
            "_view_count": null,
            "_view_module": "@jupyter-widgets/controls",
            "_view_module_version": "1.5.0",
            "_view_name": "HTMLView",
            "description": "",
            "description_tooltip": null,
            "layout": "IPY_MODEL_205f2265f6cc48f2b3d5ff68d35f1789",
            "placeholder": "​",
            "style": "IPY_MODEL_7fd3f931487c4e36b69c2c713427e3f0",
            "value": " 262k/262k [00:00&lt;00:00, 2.00MB/s]"
          }
        },
        "66f5f18b46924f2c879d1b8f63076347": {
          "model_module": "@jupyter-widgets/base",
          "model_name": "LayoutModel",
          "model_module_version": "1.2.0",
          "state": {
            "_model_module": "@jupyter-widgets/base",
            "_model_module_version": "1.2.0",
            "_model_name": "LayoutModel",
            "_view_count": null,
            "_view_module": "@jupyter-widgets/base",
            "_view_module_version": "1.2.0",
            "_view_name": "LayoutView",
            "align_content": null,
            "align_items": null,
            "align_self": null,
            "border": null,
            "bottom": null,
            "display": null,
            "flex": null,
            "flex_flow": null,
            "grid_area": null,
            "grid_auto_columns": null,
            "grid_auto_flow": null,
            "grid_auto_rows": null,
            "grid_column": null,
            "grid_gap": null,
            "grid_row": null,
            "grid_template_areas": null,
            "grid_template_columns": null,
            "grid_template_rows": null,
            "height": null,
            "justify_content": null,
            "justify_items": null,
            "left": null,
            "margin": null,
            "max_height": null,
            "max_width": null,
            "min_height": null,
            "min_width": null,
            "object_fit": null,
            "object_position": null,
            "order": null,
            "overflow": null,
            "overflow_x": null,
            "overflow_y": null,
            "padding": null,
            "right": null,
            "top": null,
            "visibility": null,
            "width": null
          }
        },
        "8962aed213734226a04eefcf5b48ba99": {
          "model_module": "@jupyter-widgets/base",
          "model_name": "LayoutModel",
          "model_module_version": "1.2.0",
          "state": {
            "_model_module": "@jupyter-widgets/base",
            "_model_module_version": "1.2.0",
            "_model_name": "LayoutModel",
            "_view_count": null,
            "_view_module": "@jupyter-widgets/base",
            "_view_module_version": "1.2.0",
            "_view_name": "LayoutView",
            "align_content": null,
            "align_items": null,
            "align_self": null,
            "border": null,
            "bottom": null,
            "display": null,
            "flex": null,
            "flex_flow": null,
            "grid_area": null,
            "grid_auto_columns": null,
            "grid_auto_flow": null,
            "grid_auto_rows": null,
            "grid_column": null,
            "grid_gap": null,
            "grid_row": null,
            "grid_template_areas": null,
            "grid_template_columns": null,
            "grid_template_rows": null,
            "height": null,
            "justify_content": null,
            "justify_items": null,
            "left": null,
            "margin": null,
            "max_height": null,
            "max_width": null,
            "min_height": null,
            "min_width": null,
            "object_fit": null,
            "object_position": null,
            "order": null,
            "overflow": null,
            "overflow_x": null,
            "overflow_y": null,
            "padding": null,
            "right": null,
            "top": null,
            "visibility": null,
            "width": null
          }
        },
        "a05a6875b16b4700abab9379e1dc1d53": {
          "model_module": "@jupyter-widgets/controls",
          "model_name": "DescriptionStyleModel",
          "model_module_version": "1.5.0",
          "state": {
            "_model_module": "@jupyter-widgets/controls",
            "_model_module_version": "1.5.0",
            "_model_name": "DescriptionStyleModel",
            "_view_count": null,
            "_view_module": "@jupyter-widgets/base",
            "_view_module_version": "1.2.0",
            "_view_name": "StyleView",
            "description_width": ""
          }
        },
        "2e19d0eb32ef4ff59b2587764a12e273": {
          "model_module": "@jupyter-widgets/base",
          "model_name": "LayoutModel",
          "model_module_version": "1.2.0",
          "state": {
            "_model_module": "@jupyter-widgets/base",
            "_model_module_version": "1.2.0",
            "_model_name": "LayoutModel",
            "_view_count": null,
            "_view_module": "@jupyter-widgets/base",
            "_view_module_version": "1.2.0",
            "_view_name": "LayoutView",
            "align_content": null,
            "align_items": null,
            "align_self": null,
            "border": null,
            "bottom": null,
            "display": null,
            "flex": null,
            "flex_flow": null,
            "grid_area": null,
            "grid_auto_columns": null,
            "grid_auto_flow": null,
            "grid_auto_rows": null,
            "grid_column": null,
            "grid_gap": null,
            "grid_row": null,
            "grid_template_areas": null,
            "grid_template_columns": null,
            "grid_template_rows": null,
            "height": null,
            "justify_content": null,
            "justify_items": null,
            "left": null,
            "margin": null,
            "max_height": null,
            "max_width": null,
            "min_height": null,
            "min_width": null,
            "object_fit": null,
            "object_position": null,
            "order": null,
            "overflow": null,
            "overflow_x": null,
            "overflow_y": null,
            "padding": null,
            "right": null,
            "top": null,
            "visibility": null,
            "width": null
          }
        },
        "9a8d709b440c47e5b85392d9e05e3557": {
          "model_module": "@jupyter-widgets/controls",
          "model_name": "ProgressStyleModel",
          "model_module_version": "1.5.0",
          "state": {
            "_model_module": "@jupyter-widgets/controls",
            "_model_module_version": "1.5.0",
            "_model_name": "ProgressStyleModel",
            "_view_count": null,
            "_view_module": "@jupyter-widgets/base",
            "_view_module_version": "1.2.0",
            "_view_name": "StyleView",
            "bar_color": null,
            "description_width": ""
          }
        },
        "205f2265f6cc48f2b3d5ff68d35f1789": {
          "model_module": "@jupyter-widgets/base",
          "model_name": "LayoutModel",
          "model_module_version": "1.2.0",
          "state": {
            "_model_module": "@jupyter-widgets/base",
            "_model_module_version": "1.2.0",
            "_model_name": "LayoutModel",
            "_view_count": null,
            "_view_module": "@jupyter-widgets/base",
            "_view_module_version": "1.2.0",
            "_view_name": "LayoutView",
            "align_content": null,
            "align_items": null,
            "align_self": null,
            "border": null,
            "bottom": null,
            "display": null,
            "flex": null,
            "flex_flow": null,
            "grid_area": null,
            "grid_auto_columns": null,
            "grid_auto_flow": null,
            "grid_auto_rows": null,
            "grid_column": null,
            "grid_gap": null,
            "grid_row": null,
            "grid_template_areas": null,
            "grid_template_columns": null,
            "grid_template_rows": null,
            "height": null,
            "justify_content": null,
            "justify_items": null,
            "left": null,
            "margin": null,
            "max_height": null,
            "max_width": null,
            "min_height": null,
            "min_width": null,
            "object_fit": null,
            "object_position": null,
            "order": null,
            "overflow": null,
            "overflow_x": null,
            "overflow_y": null,
            "padding": null,
            "right": null,
            "top": null,
            "visibility": null,
            "width": null
          }
        },
        "7fd3f931487c4e36b69c2c713427e3f0": {
          "model_module": "@jupyter-widgets/controls",
          "model_name": "DescriptionStyleModel",
          "model_module_version": "1.5.0",
          "state": {
            "_model_module": "@jupyter-widgets/controls",
            "_model_module_version": "1.5.0",
            "_model_name": "DescriptionStyleModel",
            "_view_count": null,
            "_view_module": "@jupyter-widgets/base",
            "_view_module_version": "1.2.0",
            "_view_name": "StyleView",
            "description_width": ""
          }
        },
        "68c3851b95494a5fbdc22af2b9c6c0b6": {
          "model_module": "@jupyter-widgets/controls",
          "model_name": "HBoxModel",
          "model_module_version": "1.5.0",
          "state": {
            "_dom_classes": [],
            "_model_module": "@jupyter-widgets/controls",
            "_model_module_version": "1.5.0",
            "_model_name": "HBoxModel",
            "_view_count": null,
            "_view_module": "@jupyter-widgets/controls",
            "_view_module_version": "1.5.0",
            "_view_name": "HBoxView",
            "box_style": "",
            "children": [
              "IPY_MODEL_40c6cc5290fc4d589e19af04346867af",
              "IPY_MODEL_cdcb5c7002cd43719f86dd33140714f0",
              "IPY_MODEL_343f664966b6463e89279ffc6e5d5ecf"
            ],
            "layout": "IPY_MODEL_a5327513554f4afc8c2a9880aa5808cd"
          }
        },
        "40c6cc5290fc4d589e19af04346867af": {
          "model_module": "@jupyter-widgets/controls",
          "model_name": "HTMLModel",
          "model_module_version": "1.5.0",
          "state": {
            "_dom_classes": [],
            "_model_module": "@jupyter-widgets/controls",
            "_model_module_version": "1.5.0",
            "_model_name": "HTMLModel",
            "_view_count": null,
            "_view_module": "@jupyter-widgets/controls",
            "_view_module_version": "1.5.0",
            "_view_name": "HTMLView",
            "description": "",
            "description_tooltip": null,
            "layout": "IPY_MODEL_d68723fe342948d18b503143f0118825",
            "placeholder": "​",
            "style": "IPY_MODEL_291cbb2ff9184f7b917de23f7592184b",
            "value": "Downloading data: 100%"
          }
        },
        "cdcb5c7002cd43719f86dd33140714f0": {
          "model_module": "@jupyter-widgets/controls",
          "model_name": "FloatProgressModel",
          "model_module_version": "1.5.0",
          "state": {
            "_dom_classes": [],
            "_model_module": "@jupyter-widgets/controls",
            "_model_module_version": "1.5.0",
            "_model_name": "FloatProgressModel",
            "_view_count": null,
            "_view_module": "@jupyter-widgets/controls",
            "_view_module_version": "1.5.0",
            "_view_name": "ProgressView",
            "bar_style": "success",
            "description": "",
            "description_tooltip": null,
            "layout": "IPY_MODEL_e1157b351b764d61a11282b23625d553",
            "max": 235756,
            "min": 0,
            "orientation": "horizontal",
            "style": "IPY_MODEL_70e0e5e936ed4c7cbd235351849710fd",
            "value": 235756
          }
        },
        "343f664966b6463e89279ffc6e5d5ecf": {
          "model_module": "@jupyter-widgets/controls",
          "model_name": "HTMLModel",
          "model_module_version": "1.5.0",
          "state": {
            "_dom_classes": [],
            "_model_module": "@jupyter-widgets/controls",
            "_model_module_version": "1.5.0",
            "_model_name": "HTMLModel",
            "_view_count": null,
            "_view_module": "@jupyter-widgets/controls",
            "_view_module_version": "1.5.0",
            "_view_name": "HTMLView",
            "description": "",
            "description_tooltip": null,
            "layout": "IPY_MODEL_d4d7b333da2b4fe4960a923de94e101f",
            "placeholder": "​",
            "style": "IPY_MODEL_101c169450d14a9a8ed125866a2ed55b",
            "value": " 236k/236k [00:00&lt;00:00, 2.35MB/s]"
          }
        },
        "a5327513554f4afc8c2a9880aa5808cd": {
          "model_module": "@jupyter-widgets/base",
          "model_name": "LayoutModel",
          "model_module_version": "1.2.0",
          "state": {
            "_model_module": "@jupyter-widgets/base",
            "_model_module_version": "1.2.0",
            "_model_name": "LayoutModel",
            "_view_count": null,
            "_view_module": "@jupyter-widgets/base",
            "_view_module_version": "1.2.0",
            "_view_name": "LayoutView",
            "align_content": null,
            "align_items": null,
            "align_self": null,
            "border": null,
            "bottom": null,
            "display": null,
            "flex": null,
            "flex_flow": null,
            "grid_area": null,
            "grid_auto_columns": null,
            "grid_auto_flow": null,
            "grid_auto_rows": null,
            "grid_column": null,
            "grid_gap": null,
            "grid_row": null,
            "grid_template_areas": null,
            "grid_template_columns": null,
            "grid_template_rows": null,
            "height": null,
            "justify_content": null,
            "justify_items": null,
            "left": null,
            "margin": null,
            "max_height": null,
            "max_width": null,
            "min_height": null,
            "min_width": null,
            "object_fit": null,
            "object_position": null,
            "order": null,
            "overflow": null,
            "overflow_x": null,
            "overflow_y": null,
            "padding": null,
            "right": null,
            "top": null,
            "visibility": null,
            "width": null
          }
        },
        "d68723fe342948d18b503143f0118825": {
          "model_module": "@jupyter-widgets/base",
          "model_name": "LayoutModel",
          "model_module_version": "1.2.0",
          "state": {
            "_model_module": "@jupyter-widgets/base",
            "_model_module_version": "1.2.0",
            "_model_name": "LayoutModel",
            "_view_count": null,
            "_view_module": "@jupyter-widgets/base",
            "_view_module_version": "1.2.0",
            "_view_name": "LayoutView",
            "align_content": null,
            "align_items": null,
            "align_self": null,
            "border": null,
            "bottom": null,
            "display": null,
            "flex": null,
            "flex_flow": null,
            "grid_area": null,
            "grid_auto_columns": null,
            "grid_auto_flow": null,
            "grid_auto_rows": null,
            "grid_column": null,
            "grid_gap": null,
            "grid_row": null,
            "grid_template_areas": null,
            "grid_template_columns": null,
            "grid_template_rows": null,
            "height": null,
            "justify_content": null,
            "justify_items": null,
            "left": null,
            "margin": null,
            "max_height": null,
            "max_width": null,
            "min_height": null,
            "min_width": null,
            "object_fit": null,
            "object_position": null,
            "order": null,
            "overflow": null,
            "overflow_x": null,
            "overflow_y": null,
            "padding": null,
            "right": null,
            "top": null,
            "visibility": null,
            "width": null
          }
        },
        "291cbb2ff9184f7b917de23f7592184b": {
          "model_module": "@jupyter-widgets/controls",
          "model_name": "DescriptionStyleModel",
          "model_module_version": "1.5.0",
          "state": {
            "_model_module": "@jupyter-widgets/controls",
            "_model_module_version": "1.5.0",
            "_model_name": "DescriptionStyleModel",
            "_view_count": null,
            "_view_module": "@jupyter-widgets/base",
            "_view_module_version": "1.2.0",
            "_view_name": "StyleView",
            "description_width": ""
          }
        },
        "e1157b351b764d61a11282b23625d553": {
          "model_module": "@jupyter-widgets/base",
          "model_name": "LayoutModel",
          "model_module_version": "1.2.0",
          "state": {
            "_model_module": "@jupyter-widgets/base",
            "_model_module_version": "1.2.0",
            "_model_name": "LayoutModel",
            "_view_count": null,
            "_view_module": "@jupyter-widgets/base",
            "_view_module_version": "1.2.0",
            "_view_name": "LayoutView",
            "align_content": null,
            "align_items": null,
            "align_self": null,
            "border": null,
            "bottom": null,
            "display": null,
            "flex": null,
            "flex_flow": null,
            "grid_area": null,
            "grid_auto_columns": null,
            "grid_auto_flow": null,
            "grid_auto_rows": null,
            "grid_column": null,
            "grid_gap": null,
            "grid_row": null,
            "grid_template_areas": null,
            "grid_template_columns": null,
            "grid_template_rows": null,
            "height": null,
            "justify_content": null,
            "justify_items": null,
            "left": null,
            "margin": null,
            "max_height": null,
            "max_width": null,
            "min_height": null,
            "min_width": null,
            "object_fit": null,
            "object_position": null,
            "order": null,
            "overflow": null,
            "overflow_x": null,
            "overflow_y": null,
            "padding": null,
            "right": null,
            "top": null,
            "visibility": null,
            "width": null
          }
        },
        "70e0e5e936ed4c7cbd235351849710fd": {
          "model_module": "@jupyter-widgets/controls",
          "model_name": "ProgressStyleModel",
          "model_module_version": "1.5.0",
          "state": {
            "_model_module": "@jupyter-widgets/controls",
            "_model_module_version": "1.5.0",
            "_model_name": "ProgressStyleModel",
            "_view_count": null,
            "_view_module": "@jupyter-widgets/base",
            "_view_module_version": "1.2.0",
            "_view_name": "StyleView",
            "bar_color": null,
            "description_width": ""
          }
        },
        "d4d7b333da2b4fe4960a923de94e101f": {
          "model_module": "@jupyter-widgets/base",
          "model_name": "LayoutModel",
          "model_module_version": "1.2.0",
          "state": {
            "_model_module": "@jupyter-widgets/base",
            "_model_module_version": "1.2.0",
            "_model_name": "LayoutModel",
            "_view_count": null,
            "_view_module": "@jupyter-widgets/base",
            "_view_module_version": "1.2.0",
            "_view_name": "LayoutView",
            "align_content": null,
            "align_items": null,
            "align_self": null,
            "border": null,
            "bottom": null,
            "display": null,
            "flex": null,
            "flex_flow": null,
            "grid_area": null,
            "grid_auto_columns": null,
            "grid_auto_flow": null,
            "grid_auto_rows": null,
            "grid_column": null,
            "grid_gap": null,
            "grid_row": null,
            "grid_template_areas": null,
            "grid_template_columns": null,
            "grid_template_rows": null,
            "height": null,
            "justify_content": null,
            "justify_items": null,
            "left": null,
            "margin": null,
            "max_height": null,
            "max_width": null,
            "min_height": null,
            "min_width": null,
            "object_fit": null,
            "object_position": null,
            "order": null,
            "overflow": null,
            "overflow_x": null,
            "overflow_y": null,
            "padding": null,
            "right": null,
            "top": null,
            "visibility": null,
            "width": null
          }
        },
        "101c169450d14a9a8ed125866a2ed55b": {
          "model_module": "@jupyter-widgets/controls",
          "model_name": "DescriptionStyleModel",
          "model_module_version": "1.5.0",
          "state": {
            "_model_module": "@jupyter-widgets/controls",
            "_model_module_version": "1.5.0",
            "_model_name": "DescriptionStyleModel",
            "_view_count": null,
            "_view_module": "@jupyter-widgets/base",
            "_view_module_version": "1.2.0",
            "_view_name": "StyleView",
            "description_width": ""
          }
        },
        "1d888ec0bc74474a8a95cc7328d87ff0": {
          "model_module": "@jupyter-widgets/controls",
          "model_name": "HBoxModel",
          "model_module_version": "1.5.0",
          "state": {
            "_dom_classes": [],
            "_model_module": "@jupyter-widgets/controls",
            "_model_module_version": "1.5.0",
            "_model_name": "HBoxModel",
            "_view_count": null,
            "_view_module": "@jupyter-widgets/controls",
            "_view_module_version": "1.5.0",
            "_view_name": "HBoxView",
            "box_style": "",
            "children": [
              "IPY_MODEL_62a312c3734140f1986f00da3873f0e0",
              "IPY_MODEL_984f61911d974a47833d7efedc0b353a",
              "IPY_MODEL_29beaa1c202d4907a5fe058a28094760"
            ],
            "layout": "IPY_MODEL_b2e90ee12c904346a920dae832c4776a"
          }
        },
        "62a312c3734140f1986f00da3873f0e0": {
          "model_module": "@jupyter-widgets/controls",
          "model_name": "HTMLModel",
          "model_module_version": "1.5.0",
          "state": {
            "_dom_classes": [],
            "_model_module": "@jupyter-widgets/controls",
            "_model_module_version": "1.5.0",
            "_model_name": "HTMLModel",
            "_view_count": null,
            "_view_module": "@jupyter-widgets/controls",
            "_view_module_version": "1.5.0",
            "_view_name": "HTMLView",
            "description": "",
            "description_tooltip": null,
            "layout": "IPY_MODEL_d4aa9da5f27542b890a818457fe432c9",
            "placeholder": "​",
            "style": "IPY_MODEL_e42ae6a6e06d49809105e7c13fbfad2b",
            "value": "Generating train split: 100%"
          }
        },
        "984f61911d974a47833d7efedc0b353a": {
          "model_module": "@jupyter-widgets/controls",
          "model_name": "FloatProgressModel",
          "model_module_version": "1.5.0",
          "state": {
            "_dom_classes": [],
            "_model_module": "@jupyter-widgets/controls",
            "_model_module_version": "1.5.0",
            "_model_name": "FloatProgressModel",
            "_view_count": null,
            "_view_module": "@jupyter-widgets/controls",
            "_view_module_version": "1.5.0",
            "_view_name": "ProgressView",
            "bar_style": "success",
            "description": "",
            "description_tooltip": null,
            "layout": "IPY_MODEL_dd4ffe658ff244f69834d962436e3f66",
            "max": 42068,
            "min": 0,
            "orientation": "horizontal",
            "style": "IPY_MODEL_d8b5cbfaa1164cc4aecd343ec92129b6",
            "value": 42068
          }
        },
        "29beaa1c202d4907a5fe058a28094760": {
          "model_module": "@jupyter-widgets/controls",
          "model_name": "HTMLModel",
          "model_module_version": "1.5.0",
          "state": {
            "_dom_classes": [],
            "_model_module": "@jupyter-widgets/controls",
            "_model_module_version": "1.5.0",
            "_model_name": "HTMLModel",
            "_view_count": null,
            "_view_module": "@jupyter-widgets/controls",
            "_view_module_version": "1.5.0",
            "_view_name": "HTMLView",
            "description": "",
            "description_tooltip": null,
            "layout": "IPY_MODEL_9b95743fde6d43828713262865c6165d",
            "placeholder": "​",
            "style": "IPY_MODEL_4b0049084b9944ceac00ddd1bab7f3f6",
            "value": " 42068/42068 [00:00&lt;00:00, 557753.83 examples/s]"
          }
        },
        "b2e90ee12c904346a920dae832c4776a": {
          "model_module": "@jupyter-widgets/base",
          "model_name": "LayoutModel",
          "model_module_version": "1.2.0",
          "state": {
            "_model_module": "@jupyter-widgets/base",
            "_model_module_version": "1.2.0",
            "_model_name": "LayoutModel",
            "_view_count": null,
            "_view_module": "@jupyter-widgets/base",
            "_view_module_version": "1.2.0",
            "_view_name": "LayoutView",
            "align_content": null,
            "align_items": null,
            "align_self": null,
            "border": null,
            "bottom": null,
            "display": null,
            "flex": null,
            "flex_flow": null,
            "grid_area": null,
            "grid_auto_columns": null,
            "grid_auto_flow": null,
            "grid_auto_rows": null,
            "grid_column": null,
            "grid_gap": null,
            "grid_row": null,
            "grid_template_areas": null,
            "grid_template_columns": null,
            "grid_template_rows": null,
            "height": null,
            "justify_content": null,
            "justify_items": null,
            "left": null,
            "margin": null,
            "max_height": null,
            "max_width": null,
            "min_height": null,
            "min_width": null,
            "object_fit": null,
            "object_position": null,
            "order": null,
            "overflow": null,
            "overflow_x": null,
            "overflow_y": null,
            "padding": null,
            "right": null,
            "top": null,
            "visibility": null,
            "width": null
          }
        },
        "d4aa9da5f27542b890a818457fe432c9": {
          "model_module": "@jupyter-widgets/base",
          "model_name": "LayoutModel",
          "model_module_version": "1.2.0",
          "state": {
            "_model_module": "@jupyter-widgets/base",
            "_model_module_version": "1.2.0",
            "_model_name": "LayoutModel",
            "_view_count": null,
            "_view_module": "@jupyter-widgets/base",
            "_view_module_version": "1.2.0",
            "_view_name": "LayoutView",
            "align_content": null,
            "align_items": null,
            "align_self": null,
            "border": null,
            "bottom": null,
            "display": null,
            "flex": null,
            "flex_flow": null,
            "grid_area": null,
            "grid_auto_columns": null,
            "grid_auto_flow": null,
            "grid_auto_rows": null,
            "grid_column": null,
            "grid_gap": null,
            "grid_row": null,
            "grid_template_areas": null,
            "grid_template_columns": null,
            "grid_template_rows": null,
            "height": null,
            "justify_content": null,
            "justify_items": null,
            "left": null,
            "margin": null,
            "max_height": null,
            "max_width": null,
            "min_height": null,
            "min_width": null,
            "object_fit": null,
            "object_position": null,
            "order": null,
            "overflow": null,
            "overflow_x": null,
            "overflow_y": null,
            "padding": null,
            "right": null,
            "top": null,
            "visibility": null,
            "width": null
          }
        },
        "e42ae6a6e06d49809105e7c13fbfad2b": {
          "model_module": "@jupyter-widgets/controls",
          "model_name": "DescriptionStyleModel",
          "model_module_version": "1.5.0",
          "state": {
            "_model_module": "@jupyter-widgets/controls",
            "_model_module_version": "1.5.0",
            "_model_name": "DescriptionStyleModel",
            "_view_count": null,
            "_view_module": "@jupyter-widgets/base",
            "_view_module_version": "1.2.0",
            "_view_name": "StyleView",
            "description_width": ""
          }
        },
        "dd4ffe658ff244f69834d962436e3f66": {
          "model_module": "@jupyter-widgets/base",
          "model_name": "LayoutModel",
          "model_module_version": "1.2.0",
          "state": {
            "_model_module": "@jupyter-widgets/base",
            "_model_module_version": "1.2.0",
            "_model_name": "LayoutModel",
            "_view_count": null,
            "_view_module": "@jupyter-widgets/base",
            "_view_module_version": "1.2.0",
            "_view_name": "LayoutView",
            "align_content": null,
            "align_items": null,
            "align_self": null,
            "border": null,
            "bottom": null,
            "display": null,
            "flex": null,
            "flex_flow": null,
            "grid_area": null,
            "grid_auto_columns": null,
            "grid_auto_flow": null,
            "grid_auto_rows": null,
            "grid_column": null,
            "grid_gap": null,
            "grid_row": null,
            "grid_template_areas": null,
            "grid_template_columns": null,
            "grid_template_rows": null,
            "height": null,
            "justify_content": null,
            "justify_items": null,
            "left": null,
            "margin": null,
            "max_height": null,
            "max_width": null,
            "min_height": null,
            "min_width": null,
            "object_fit": null,
            "object_position": null,
            "order": null,
            "overflow": null,
            "overflow_x": null,
            "overflow_y": null,
            "padding": null,
            "right": null,
            "top": null,
            "visibility": null,
            "width": null
          }
        },
        "d8b5cbfaa1164cc4aecd343ec92129b6": {
          "model_module": "@jupyter-widgets/controls",
          "model_name": "ProgressStyleModel",
          "model_module_version": "1.5.0",
          "state": {
            "_model_module": "@jupyter-widgets/controls",
            "_model_module_version": "1.5.0",
            "_model_name": "ProgressStyleModel",
            "_view_count": null,
            "_view_module": "@jupyter-widgets/base",
            "_view_module_version": "1.2.0",
            "_view_name": "StyleView",
            "bar_color": null,
            "description_width": ""
          }
        },
        "9b95743fde6d43828713262865c6165d": {
          "model_module": "@jupyter-widgets/base",
          "model_name": "LayoutModel",
          "model_module_version": "1.2.0",
          "state": {
            "_model_module": "@jupyter-widgets/base",
            "_model_module_version": "1.2.0",
            "_model_name": "LayoutModel",
            "_view_count": null,
            "_view_module": "@jupyter-widgets/base",
            "_view_module_version": "1.2.0",
            "_view_name": "LayoutView",
            "align_content": null,
            "align_items": null,
            "align_self": null,
            "border": null,
            "bottom": null,
            "display": null,
            "flex": null,
            "flex_flow": null,
            "grid_area": null,
            "grid_auto_columns": null,
            "grid_auto_flow": null,
            "grid_auto_rows": null,
            "grid_column": null,
            "grid_gap": null,
            "grid_row": null,
            "grid_template_areas": null,
            "grid_template_columns": null,
            "grid_template_rows": null,
            "height": null,
            "justify_content": null,
            "justify_items": null,
            "left": null,
            "margin": null,
            "max_height": null,
            "max_width": null,
            "min_height": null,
            "min_width": null,
            "object_fit": null,
            "object_position": null,
            "order": null,
            "overflow": null,
            "overflow_x": null,
            "overflow_y": null,
            "padding": null,
            "right": null,
            "top": null,
            "visibility": null,
            "width": null
          }
        },
        "4b0049084b9944ceac00ddd1bab7f3f6": {
          "model_module": "@jupyter-widgets/controls",
          "model_name": "DescriptionStyleModel",
          "model_module_version": "1.5.0",
          "state": {
            "_model_module": "@jupyter-widgets/controls",
            "_model_module_version": "1.5.0",
            "_model_name": "DescriptionStyleModel",
            "_view_count": null,
            "_view_module": "@jupyter-widgets/base",
            "_view_module_version": "1.2.0",
            "_view_name": "StyleView",
            "description_width": ""
          }
        },
        "1f5f0b91687f48feaaae82b689d7a831": {
          "model_module": "@jupyter-widgets/controls",
          "model_name": "HBoxModel",
          "model_module_version": "1.5.0",
          "state": {
            "_dom_classes": [],
            "_model_module": "@jupyter-widgets/controls",
            "_model_module_version": "1.5.0",
            "_model_name": "HBoxModel",
            "_view_count": null,
            "_view_module": "@jupyter-widgets/controls",
            "_view_module_version": "1.5.0",
            "_view_name": "HBoxView",
            "box_style": "",
            "children": [
              "IPY_MODEL_31426bd9337c446cbaaf7417d2a91c95",
              "IPY_MODEL_8de448552aa347f389370c7a0d55633a",
              "IPY_MODEL_c74f13baee354798bac2bc255e62bac3"
            ],
            "layout": "IPY_MODEL_0f10b40a99bf4b329a258e3e45e2df5c"
          }
        },
        "31426bd9337c446cbaaf7417d2a91c95": {
          "model_module": "@jupyter-widgets/controls",
          "model_name": "HTMLModel",
          "model_module_version": "1.5.0",
          "state": {
            "_dom_classes": [],
            "_model_module": "@jupyter-widgets/controls",
            "_model_module_version": "1.5.0",
            "_model_name": "HTMLModel",
            "_view_count": null,
            "_view_module": "@jupyter-widgets/controls",
            "_view_module_version": "1.5.0",
            "_view_name": "HTMLView",
            "description": "",
            "description_tooltip": null,
            "layout": "IPY_MODEL_4becb6f10f87478fa69431f9a95e2c08",
            "placeholder": "​",
            "style": "IPY_MODEL_421f679aa0f0441eb5abf8f1cecb55c4",
            "value": "Generating test split: 100%"
          }
        },
        "8de448552aa347f389370c7a0d55633a": {
          "model_module": "@jupyter-widgets/controls",
          "model_name": "FloatProgressModel",
          "model_module_version": "1.5.0",
          "state": {
            "_dom_classes": [],
            "_model_module": "@jupyter-widgets/controls",
            "_model_module_version": "1.5.0",
            "_model_name": "FloatProgressModel",
            "_view_count": null,
            "_view_module": "@jupyter-widgets/controls",
            "_view_module_version": "1.5.0",
            "_view_name": "ProgressView",
            "bar_style": "success",
            "description": "",
            "description_tooltip": null,
            "layout": "IPY_MODEL_a5372440a9fd49cf88ba3b4cda1a6812",
            "max": 3761,
            "min": 0,
            "orientation": "horizontal",
            "style": "IPY_MODEL_0213a279266d4f3fbea5aeecbc71401a",
            "value": 3761
          }
        },
        "c74f13baee354798bac2bc255e62bac3": {
          "model_module": "@jupyter-widgets/controls",
          "model_name": "HTMLModel",
          "model_module_version": "1.5.0",
          "state": {
            "_dom_classes": [],
            "_model_module": "@jupyter-widgets/controls",
            "_model_module_version": "1.5.0",
            "_model_name": "HTMLModel",
            "_view_count": null,
            "_view_module": "@jupyter-widgets/controls",
            "_view_module_version": "1.5.0",
            "_view_name": "HTMLView",
            "description": "",
            "description_tooltip": null,
            "layout": "IPY_MODEL_6116670467154b00ba040c3f0a6274f0",
            "placeholder": "​",
            "style": "IPY_MODEL_bfabeddaf96e4156ba8232b8956ff06c",
            "value": " 3761/3761 [00:00&lt;00:00, 111990.64 examples/s]"
          }
        },
        "0f10b40a99bf4b329a258e3e45e2df5c": {
          "model_module": "@jupyter-widgets/base",
          "model_name": "LayoutModel",
          "model_module_version": "1.2.0",
          "state": {
            "_model_module": "@jupyter-widgets/base",
            "_model_module_version": "1.2.0",
            "_model_name": "LayoutModel",
            "_view_count": null,
            "_view_module": "@jupyter-widgets/base",
            "_view_module_version": "1.2.0",
            "_view_name": "LayoutView",
            "align_content": null,
            "align_items": null,
            "align_self": null,
            "border": null,
            "bottom": null,
            "display": null,
            "flex": null,
            "flex_flow": null,
            "grid_area": null,
            "grid_auto_columns": null,
            "grid_auto_flow": null,
            "grid_auto_rows": null,
            "grid_column": null,
            "grid_gap": null,
            "grid_row": null,
            "grid_template_areas": null,
            "grid_template_columns": null,
            "grid_template_rows": null,
            "height": null,
            "justify_content": null,
            "justify_items": null,
            "left": null,
            "margin": null,
            "max_height": null,
            "max_width": null,
            "min_height": null,
            "min_width": null,
            "object_fit": null,
            "object_position": null,
            "order": null,
            "overflow": null,
            "overflow_x": null,
            "overflow_y": null,
            "padding": null,
            "right": null,
            "top": null,
            "visibility": null,
            "width": null
          }
        },
        "4becb6f10f87478fa69431f9a95e2c08": {
          "model_module": "@jupyter-widgets/base",
          "model_name": "LayoutModel",
          "model_module_version": "1.2.0",
          "state": {
            "_model_module": "@jupyter-widgets/base",
            "_model_module_version": "1.2.0",
            "_model_name": "LayoutModel",
            "_view_count": null,
            "_view_module": "@jupyter-widgets/base",
            "_view_module_version": "1.2.0",
            "_view_name": "LayoutView",
            "align_content": null,
            "align_items": null,
            "align_self": null,
            "border": null,
            "bottom": null,
            "display": null,
            "flex": null,
            "flex_flow": null,
            "grid_area": null,
            "grid_auto_columns": null,
            "grid_auto_flow": null,
            "grid_auto_rows": null,
            "grid_column": null,
            "grid_gap": null,
            "grid_row": null,
            "grid_template_areas": null,
            "grid_template_columns": null,
            "grid_template_rows": null,
            "height": null,
            "justify_content": null,
            "justify_items": null,
            "left": null,
            "margin": null,
            "max_height": null,
            "max_width": null,
            "min_height": null,
            "min_width": null,
            "object_fit": null,
            "object_position": null,
            "order": null,
            "overflow": null,
            "overflow_x": null,
            "overflow_y": null,
            "padding": null,
            "right": null,
            "top": null,
            "visibility": null,
            "width": null
          }
        },
        "421f679aa0f0441eb5abf8f1cecb55c4": {
          "model_module": "@jupyter-widgets/controls",
          "model_name": "DescriptionStyleModel",
          "model_module_version": "1.5.0",
          "state": {
            "_model_module": "@jupyter-widgets/controls",
            "_model_module_version": "1.5.0",
            "_model_name": "DescriptionStyleModel",
            "_view_count": null,
            "_view_module": "@jupyter-widgets/base",
            "_view_module_version": "1.2.0",
            "_view_name": "StyleView",
            "description_width": ""
          }
        },
        "a5372440a9fd49cf88ba3b4cda1a6812": {
          "model_module": "@jupyter-widgets/base",
          "model_name": "LayoutModel",
          "model_module_version": "1.2.0",
          "state": {
            "_model_module": "@jupyter-widgets/base",
            "_model_module_version": "1.2.0",
            "_model_name": "LayoutModel",
            "_view_count": null,
            "_view_module": "@jupyter-widgets/base",
            "_view_module_version": "1.2.0",
            "_view_name": "LayoutView",
            "align_content": null,
            "align_items": null,
            "align_self": null,
            "border": null,
            "bottom": null,
            "display": null,
            "flex": null,
            "flex_flow": null,
            "grid_area": null,
            "grid_auto_columns": null,
            "grid_auto_flow": null,
            "grid_auto_rows": null,
            "grid_column": null,
            "grid_gap": null,
            "grid_row": null,
            "grid_template_areas": null,
            "grid_template_columns": null,
            "grid_template_rows": null,
            "height": null,
            "justify_content": null,
            "justify_items": null,
            "left": null,
            "margin": null,
            "max_height": null,
            "max_width": null,
            "min_height": null,
            "min_width": null,
            "object_fit": null,
            "object_position": null,
            "order": null,
            "overflow": null,
            "overflow_x": null,
            "overflow_y": null,
            "padding": null,
            "right": null,
            "top": null,
            "visibility": null,
            "width": null
          }
        },
        "0213a279266d4f3fbea5aeecbc71401a": {
          "model_module": "@jupyter-widgets/controls",
          "model_name": "ProgressStyleModel",
          "model_module_version": "1.5.0",
          "state": {
            "_model_module": "@jupyter-widgets/controls",
            "_model_module_version": "1.5.0",
            "_model_name": "ProgressStyleModel",
            "_view_count": null,
            "_view_module": "@jupyter-widgets/base",
            "_view_module_version": "1.2.0",
            "_view_name": "StyleView",
            "bar_color": null,
            "description_width": ""
          }
        },
        "6116670467154b00ba040c3f0a6274f0": {
          "model_module": "@jupyter-widgets/base",
          "model_name": "LayoutModel",
          "model_module_version": "1.2.0",
          "state": {
            "_model_module": "@jupyter-widgets/base",
            "_model_module_version": "1.2.0",
            "_model_name": "LayoutModel",
            "_view_count": null,
            "_view_module": "@jupyter-widgets/base",
            "_view_module_version": "1.2.0",
            "_view_name": "LayoutView",
            "align_content": null,
            "align_items": null,
            "align_self": null,
            "border": null,
            "bottom": null,
            "display": null,
            "flex": null,
            "flex_flow": null,
            "grid_area": null,
            "grid_auto_columns": null,
            "grid_auto_flow": null,
            "grid_auto_rows": null,
            "grid_column": null,
            "grid_gap": null,
            "grid_row": null,
            "grid_template_areas": null,
            "grid_template_columns": null,
            "grid_template_rows": null,
            "height": null,
            "justify_content": null,
            "justify_items": null,
            "left": null,
            "margin": null,
            "max_height": null,
            "max_width": null,
            "min_height": null,
            "min_width": null,
            "object_fit": null,
            "object_position": null,
            "order": null,
            "overflow": null,
            "overflow_x": null,
            "overflow_y": null,
            "padding": null,
            "right": null,
            "top": null,
            "visibility": null,
            "width": null
          }
        },
        "bfabeddaf96e4156ba8232b8956ff06c": {
          "model_module": "@jupyter-widgets/controls",
          "model_name": "DescriptionStyleModel",
          "model_module_version": "1.5.0",
          "state": {
            "_model_module": "@jupyter-widgets/controls",
            "_model_module_version": "1.5.0",
            "_model_name": "DescriptionStyleModel",
            "_view_count": null,
            "_view_module": "@jupyter-widgets/base",
            "_view_module_version": "1.2.0",
            "_view_name": "StyleView",
            "description_width": ""
          }
        },
        "035d91f9c81742c58aa6f1aa6214a1ae": {
          "model_module": "@jupyter-widgets/controls",
          "model_name": "HBoxModel",
          "model_module_version": "1.5.0",
          "state": {
            "_dom_classes": [],
            "_model_module": "@jupyter-widgets/controls",
            "_model_module_version": "1.5.0",
            "_model_name": "HBoxModel",
            "_view_count": null,
            "_view_module": "@jupyter-widgets/controls",
            "_view_module_version": "1.5.0",
            "_view_name": "HBoxView",
            "box_style": "",
            "children": [
              "IPY_MODEL_6fdd2a563ad348e3a580811fb96174e8",
              "IPY_MODEL_2d5963edfa654f1fa642cc7d27e63030",
              "IPY_MODEL_3de4dc7ea9004a70a162fdbbc4c480b9"
            ],
            "layout": "IPY_MODEL_db111d113c3c4618863ba906b6de4edf"
          }
        },
        "6fdd2a563ad348e3a580811fb96174e8": {
          "model_module": "@jupyter-widgets/controls",
          "model_name": "HTMLModel",
          "model_module_version": "1.5.0",
          "state": {
            "_dom_classes": [],
            "_model_module": "@jupyter-widgets/controls",
            "_model_module_version": "1.5.0",
            "_model_name": "HTMLModel",
            "_view_count": null,
            "_view_module": "@jupyter-widgets/controls",
            "_view_module_version": "1.5.0",
            "_view_name": "HTMLView",
            "description": "",
            "description_tooltip": null,
            "layout": "IPY_MODEL_0b4e0660709b49b28bcbf4ab7538fb96",
            "placeholder": "​",
            "style": "IPY_MODEL_1a07fd0ef2094d94bc8686d90e9216b7",
            "value": "Generating validation split: 100%"
          }
        },
        "2d5963edfa654f1fa642cc7d27e63030": {
          "model_module": "@jupyter-widgets/controls",
          "model_name": "FloatProgressModel",
          "model_module_version": "1.5.0",
          "state": {
            "_dom_classes": [],
            "_model_module": "@jupyter-widgets/controls",
            "_model_module_version": "1.5.0",
            "_model_name": "FloatProgressModel",
            "_view_count": null,
            "_view_module": "@jupyter-widgets/controls",
            "_view_module_version": "1.5.0",
            "_view_name": "ProgressView",
            "bar_style": "success",
            "description": "",
            "description_tooltip": null,
            "layout": "IPY_MODEL_6f7c60b41de4412b8802b1793b188a8d",
            "max": 3370,
            "min": 0,
            "orientation": "horizontal",
            "style": "IPY_MODEL_c9fe57bd355d4043ab1bcc314fe63cc4",
            "value": 3370
          }
        },
        "3de4dc7ea9004a70a162fdbbc4c480b9": {
          "model_module": "@jupyter-widgets/controls",
          "model_name": "HTMLModel",
          "model_module_version": "1.5.0",
          "state": {
            "_dom_classes": [],
            "_model_module": "@jupyter-widgets/controls",
            "_model_module_version": "1.5.0",
            "_model_name": "HTMLModel",
            "_view_count": null,
            "_view_module": "@jupyter-widgets/controls",
            "_view_module_version": "1.5.0",
            "_view_name": "HTMLView",
            "description": "",
            "description_tooltip": null,
            "layout": "IPY_MODEL_fba17060b60549398a64e26bd52f69ec",
            "placeholder": "​",
            "style": "IPY_MODEL_1e9d9245b14d42b6b0b4e345c5a0fd52",
            "value": " 3370/3370 [00:00&lt;00:00, 97201.87 examples/s]"
          }
        },
        "db111d113c3c4618863ba906b6de4edf": {
          "model_module": "@jupyter-widgets/base",
          "model_name": "LayoutModel",
          "model_module_version": "1.2.0",
          "state": {
            "_model_module": "@jupyter-widgets/base",
            "_model_module_version": "1.2.0",
            "_model_name": "LayoutModel",
            "_view_count": null,
            "_view_module": "@jupyter-widgets/base",
            "_view_module_version": "1.2.0",
            "_view_name": "LayoutView",
            "align_content": null,
            "align_items": null,
            "align_self": null,
            "border": null,
            "bottom": null,
            "display": null,
            "flex": null,
            "flex_flow": null,
            "grid_area": null,
            "grid_auto_columns": null,
            "grid_auto_flow": null,
            "grid_auto_rows": null,
            "grid_column": null,
            "grid_gap": null,
            "grid_row": null,
            "grid_template_areas": null,
            "grid_template_columns": null,
            "grid_template_rows": null,
            "height": null,
            "justify_content": null,
            "justify_items": null,
            "left": null,
            "margin": null,
            "max_height": null,
            "max_width": null,
            "min_height": null,
            "min_width": null,
            "object_fit": null,
            "object_position": null,
            "order": null,
            "overflow": null,
            "overflow_x": null,
            "overflow_y": null,
            "padding": null,
            "right": null,
            "top": null,
            "visibility": null,
            "width": null
          }
        },
        "0b4e0660709b49b28bcbf4ab7538fb96": {
          "model_module": "@jupyter-widgets/base",
          "model_name": "LayoutModel",
          "model_module_version": "1.2.0",
          "state": {
            "_model_module": "@jupyter-widgets/base",
            "_model_module_version": "1.2.0",
            "_model_name": "LayoutModel",
            "_view_count": null,
            "_view_module": "@jupyter-widgets/base",
            "_view_module_version": "1.2.0",
            "_view_name": "LayoutView",
            "align_content": null,
            "align_items": null,
            "align_self": null,
            "border": null,
            "bottom": null,
            "display": null,
            "flex": null,
            "flex_flow": null,
            "grid_area": null,
            "grid_auto_columns": null,
            "grid_auto_flow": null,
            "grid_auto_rows": null,
            "grid_column": null,
            "grid_gap": null,
            "grid_row": null,
            "grid_template_areas": null,
            "grid_template_columns": null,
            "grid_template_rows": null,
            "height": null,
            "justify_content": null,
            "justify_items": null,
            "left": null,
            "margin": null,
            "max_height": null,
            "max_width": null,
            "min_height": null,
            "min_width": null,
            "object_fit": null,
            "object_position": null,
            "order": null,
            "overflow": null,
            "overflow_x": null,
            "overflow_y": null,
            "padding": null,
            "right": null,
            "top": null,
            "visibility": null,
            "width": null
          }
        },
        "1a07fd0ef2094d94bc8686d90e9216b7": {
          "model_module": "@jupyter-widgets/controls",
          "model_name": "DescriptionStyleModel",
          "model_module_version": "1.5.0",
          "state": {
            "_model_module": "@jupyter-widgets/controls",
            "_model_module_version": "1.5.0",
            "_model_name": "DescriptionStyleModel",
            "_view_count": null,
            "_view_module": "@jupyter-widgets/base",
            "_view_module_version": "1.2.0",
            "_view_name": "StyleView",
            "description_width": ""
          }
        },
        "6f7c60b41de4412b8802b1793b188a8d": {
          "model_module": "@jupyter-widgets/base",
          "model_name": "LayoutModel",
          "model_module_version": "1.2.0",
          "state": {
            "_model_module": "@jupyter-widgets/base",
            "_model_module_version": "1.2.0",
            "_model_name": "LayoutModel",
            "_view_count": null,
            "_view_module": "@jupyter-widgets/base",
            "_view_module_version": "1.2.0",
            "_view_name": "LayoutView",
            "align_content": null,
            "align_items": null,
            "align_self": null,
            "border": null,
            "bottom": null,
            "display": null,
            "flex": null,
            "flex_flow": null,
            "grid_area": null,
            "grid_auto_columns": null,
            "grid_auto_flow": null,
            "grid_auto_rows": null,
            "grid_column": null,
            "grid_gap": null,
            "grid_row": null,
            "grid_template_areas": null,
            "grid_template_columns": null,
            "grid_template_rows": null,
            "height": null,
            "justify_content": null,
            "justify_items": null,
            "left": null,
            "margin": null,
            "max_height": null,
            "max_width": null,
            "min_height": null,
            "min_width": null,
            "object_fit": null,
            "object_position": null,
            "order": null,
            "overflow": null,
            "overflow_x": null,
            "overflow_y": null,
            "padding": null,
            "right": null,
            "top": null,
            "visibility": null,
            "width": null
          }
        },
        "c9fe57bd355d4043ab1bcc314fe63cc4": {
          "model_module": "@jupyter-widgets/controls",
          "model_name": "ProgressStyleModel",
          "model_module_version": "1.5.0",
          "state": {
            "_model_module": "@jupyter-widgets/controls",
            "_model_module_version": "1.5.0",
            "_model_name": "ProgressStyleModel",
            "_view_count": null,
            "_view_module": "@jupyter-widgets/base",
            "_view_module_version": "1.2.0",
            "_view_name": "StyleView",
            "bar_color": null,
            "description_width": ""
          }
        },
        "fba17060b60549398a64e26bd52f69ec": {
          "model_module": "@jupyter-widgets/base",
          "model_name": "LayoutModel",
          "model_module_version": "1.2.0",
          "state": {
            "_model_module": "@jupyter-widgets/base",
            "_model_module_version": "1.2.0",
            "_model_name": "LayoutModel",
            "_view_count": null,
            "_view_module": "@jupyter-widgets/base",
            "_view_module_version": "1.2.0",
            "_view_name": "LayoutView",
            "align_content": null,
            "align_items": null,
            "align_self": null,
            "border": null,
            "bottom": null,
            "display": null,
            "flex": null,
            "flex_flow": null,
            "grid_area": null,
            "grid_auto_columns": null,
            "grid_auto_flow": null,
            "grid_auto_rows": null,
            "grid_column": null,
            "grid_gap": null,
            "grid_row": null,
            "grid_template_areas": null,
            "grid_template_columns": null,
            "grid_template_rows": null,
            "height": null,
            "justify_content": null,
            "justify_items": null,
            "left": null,
            "margin": null,
            "max_height": null,
            "max_width": null,
            "min_height": null,
            "min_width": null,
            "object_fit": null,
            "object_position": null,
            "order": null,
            "overflow": null,
            "overflow_x": null,
            "overflow_y": null,
            "padding": null,
            "right": null,
            "top": null,
            "visibility": null,
            "width": null
          }
        },
        "1e9d9245b14d42b6b0b4e345c5a0fd52": {
          "model_module": "@jupyter-widgets/controls",
          "model_name": "DescriptionStyleModel",
          "model_module_version": "1.5.0",
          "state": {
            "_model_module": "@jupyter-widgets/controls",
            "_model_module_version": "1.5.0",
            "_model_name": "DescriptionStyleModel",
            "_view_count": null,
            "_view_module": "@jupyter-widgets/base",
            "_view_module_version": "1.2.0",
            "_view_name": "StyleView",
            "description_width": ""
          }
        }
      }
    }
  },
  "nbformat": 4,
  "nbformat_minor": 5
}